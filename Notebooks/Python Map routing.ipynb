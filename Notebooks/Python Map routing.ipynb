{
 "cells": [
  {
   "cell_type": "code",
   "execution_count": 102,
   "metadata": {
    "scrolled": true
   },
   "outputs": [
    {
     "name": "stdout",
     "output_type": "stream",
     "text": [
      "80.1118231 12.9299028\n",
      "80.240487 13.0620626\n"
     ]
    }
   ],
   "source": [
    "from geopy.geocoders import Nominatim\n",
    "geolocator = Nominatim()\n",
    "source = geolocator.geocode(\"tambaram\")\n",
    "print(source.longitude, source.latitude)\n",
    "dest = geolocator.geocode(\"nungambakkam\")\n",
    "print (dest.longitude , dest.latitude )"
   ]
  },
  {
   "cell_type": "code",
   "execution_count": null,
   "metadata": {},
   "outputs": [],
   "source": [
    "https://router.project-osrm.org/route/v5/driving/80.1118231,12.9299028;89.9999999,15.0000001?overview=false"
   ]
  },
  {
   "cell_type": "code",
   "execution_count": 72,
   "metadata": {},
   "outputs": [
    {
     "name": "stdout",
     "output_type": "stream",
     "text": [
      "http://router.project-osrm.org/route/v1/car/80.1118231,12.929902889.9999999,15.0000001?alternatives=true&steps=true&geometries=geojson&overview=full&annotations=true\n",
      "InvalidInput\n",
      "{'message': 'Not enough input coordinates given; minimum number of coordinates is 2.', 'code': 'InvalidInput'}\n"
     ]
    }
   ],
   "source": [
    "import requests\n",
    "source_coordinates = str(source.longitude)+\",\"+str(source.latitude)\n",
    "dest_coordinates =  str(dest.longitude)+\",\"+str(dest.latitude)\n",
    "url =  'http://router.project-osrm.org/route/v1/car/'+source_coordinates+dest_coordinates+\"?alternatives=true&steps=true&geometries=geojson&overview=full&annotations=true\"\n",
    "print (url)\n",
    "response = requests.get(url)\n",
    "data = response.json()\n",
    "try:\n",
    "    print(data[\"code\"])\n",
    "    print (data)\n",
    "except:\n",
    "    print (data)"
   ]
  },
  {
   "cell_type": "code",
   "execution_count": null,
   "metadata": {},
   "outputs": [],
   "source": [
    "?alternatives=true&steps=true&geometries=geojson&overview=full&annotations=true|false}\n"
   ]
  },
  {
   "cell_type": "code",
   "execution_count": 71,
   "metadata": {},
   "outputs": [],
   "source": [
    "key = \"5eda2deb-7ac1-44d9-990d-8aac82e96def\""
   ]
  },
  {
   "cell_type": "code",
   "execution_count": 73,
   "metadata": {},
   "outputs": [],
   "source": [
    "curl  = \"https://graphhopper.com/api/1/route?point=\"+ source_coordinates +\"&point=\"+ dest_coordinates +\"&vehicle=car&locale=de&key=\"+key"
   ]
  },
  {
   "cell_type": "code",
   "execution_count": 74,
   "metadata": {},
   "outputs": [
    {
     "data": {
      "text/plain": [
       "'https://graphhopper.com/api/1/route?point=80.1118231,12.9299028&point=89.9999999,15.0000001&vehicle=car&locale=de&key=5eda2deb-7ac1-44d9-990d-8aac82e96def'"
      ]
     },
     "execution_count": 74,
     "metadata": {},
     "output_type": "execute_result"
    }
   ],
   "source": [
    "curl \n"
   ]
  },
  {
   "cell_type": "code",
   "execution_count": null,
   "metadata": {},
   "outputs": [],
   "source": [
    "\n",
    "\n",
    "\n",
    "\n"
   ]
  },
  {
   "cell_type": "code",
   "execution_count": 75,
   "metadata": {},
   "outputs": [],
   "source": [
    "api = \"5eda2deb-7ac1-44d9-990d-8aac82e96def\""
   ]
  },
  {
   "cell_type": "code",
   "execution_count": 103,
   "metadata": {},
   "outputs": [],
   "source": [
    "import requests\n",
    "source_coordinates = str(source.latitude)+\",\"+str(source.longitude) \n",
    "dest_coordinates =  str(dest.latitude)+\",\"+str(dest.longitude)"
   ]
  },
  {
   "cell_type": "code",
   "execution_count": 104,
   "metadata": {},
   "outputs": [
    {
     "data": {
      "text/plain": [
       "'12.9299028,80.1118231'"
      ]
     },
     "execution_count": 104,
     "metadata": {},
     "output_type": "execute_result"
    }
   ],
   "source": [
    "source_coordinates"
   ]
  },
  {
   "cell_type": "code",
   "execution_count": 105,
   "metadata": {},
   "outputs": [],
   "source": [
    "url = \"https://graphhopper.com/api/1/route?point=\"+ source_coordinates +\"&point=\"+ dest_coordinates +\"&vehicle=car&locale=de&key=\"+api"
   ]
  },
  {
   "cell_type": "code",
   "execution_count": 106,
   "metadata": {},
   "outputs": [
    {
     "data": {
      "text/plain": [
       "'https://graphhopper.com/api/1/route?point=12.9299028,80.1118231&point=13.0620626,80.240487&vehicle=car&locale=de&key=5eda2deb-7ac1-44d9-990d-8aac82e96def'"
      ]
     },
     "execution_count": 106,
     "metadata": {},
     "output_type": "execute_result"
    }
   ],
   "source": [
    "url "
   ]
  },
  {
   "cell_type": "code",
   "execution_count": 107,
   "metadata": {},
   "outputs": [],
   "source": [
    "response = requests.get(url)\n",
    "data = response.json()"
   ]
  },
  {
   "cell_type": "code",
   "execution_count": 108,
   "metadata": {},
   "outputs": [
    {
     "data": {
      "text/plain": [
       "{'hints': {'visited_nodes.average': '176.0', 'visited_nodes.sum': '176'},\n",
       " 'info': {'copyrights': ['GraphHopper', 'OpenStreetMap contributors'],\n",
       "  'took': 7},\n",
       " 'paths': [{'distance': 30300.519,\n",
       "   'weight': 1648.909132,\n",
       "   'time': 1648894,\n",
       "   'transfers': 0,\n",
       "   'points_encoded': True,\n",
       "   'bbox': [80.099224, 12.927377, 80.240476, 13.077287],\n",
       "   'points': 'ek|mAc{}gNwAVw@GQlEQbCqJpa@cAdAi@zFt\\\\xDIbA`DVQfEzAVU|Bel@lCaEFqDOcD[yFgB}D_CwCoCuB_D_HoKsBgCsCgBeXaL{CgByBkBuAmBqAuCy@{CwG}\\\\q@cD}@kCgAkB{AgB_BiAqBeAkCw@uCa@eXYoFBweAtBwFa@ic@eImDa@yDOke@gAoIc@}ZcBsDa@kDkAqHgEu]kRkE_BsEu@aI[s^EiDKoD]oCk@sCqAqCoBkBiBiLsPoDkE_MoN{s@k`AwDyDkDcCaB{@yD}AqC}@{AWmC[kDYgLScOc@mSa@eC@qBDsIi@_SQcEKkBWkBi@eBw@oAaAcAcAeAcBy@iBuEmLc@aAoBqD{LcSqBwCgB_BeBcA_C{@}Aa@eB_@gEQwEBsAT[TO`@EVBTH\\\\LRPLRJPDR?b@GTMLMNWJ]@yEBqFI}IOaAY_Ao@gAgAoAy@g@aGuH}@sAEiAOu@I{@DeGCsAGu@Ms@k@sAkGoKqGqK[{@SmAIwACiEIu@Uy@a@w@kE{GiFmJ_BgDmAkEmBgMoEoNiBsEs@mAuCiDWk@Ik@FiNMcAY}@cByBm@iAOk@]uBsBwKsAmIS_C?o@By@ZsC@wAEkBkAoIIkAcAoJEaAKcHK{AEwD^cKJi@fAsBlBcCpB_FXkAN{@J}@RyDP_Ix@}EEa@t@{HLw@RKNClDFbB?PGp@g@xGcIjDyEnByBdIiK|@mAhCcDpA}DFs@M_FD}@Lm@\\\\wCZiB|ByJj@yAp@o@rFaCPOFO?i@q@{AMc@DMHGZEjBNrBHfA?p@WvAyAtAaBb@c@ZSVc@l@w@hA}@MmAcCO_FWCqDEkC',\n",
       "   'instructions': [{'distance': 82.57,\n",
       "     'heading': 345.96,\n",
       "     'sign': 0,\n",
       "     'interval': [0, 2],\n",
       "     'text': 'Dem Straßenverlauf folgen',\n",
       "     'time': 9289,\n",
       "     'street_name': ''},\n",
       "    {'distance': 872.466,\n",
       "     'sign': -2,\n",
       "     'interval': [2, 6],\n",
       "     'text': 'Links abbiegen auf Darkas Road',\n",
       "     'time': 55385,\n",
       "     'street_name': 'Darkas Road'},\n",
       "    {'distance': 804.978,\n",
       "     'sign': -7,\n",
       "     'interval': [6, 10],\n",
       "     'text': 'Links halten auf Mullai Nagar Main Road',\n",
       "     'time': 45270,\n",
       "     'street_name': 'Mullai Nagar Main Road'},\n",
       "    {'distance': 108.914,\n",
       "     'sign': 2,\n",
       "     'interval': [10, 11],\n",
       "     'text': 'Rechts abbiegen',\n",
       "     'time': 6125,\n",
       "     'street_name': ''},\n",
       "    {'distance': 52.357,\n",
       "     'sign': -2,\n",
       "     'interval': [11, 12],\n",
       "     'text': 'Links abbiegen',\n",
       "     'time': 2945,\n",
       "     'street_name': ''},\n",
       "    {'distance': 68.698,\n",
       "     'sign': 2,\n",
       "     'interval': [12, 13],\n",
       "     'text': 'Rechts abbiegen',\n",
       "     'time': 3863,\n",
       "     'street_name': ''},\n",
       "    {'distance': 17440.524,\n",
       "     'sign': 2,\n",
       "     'interval': [13, 98],\n",
       "     'text': 'Rechts abbiegen auf Chennai Bypass Expressway',\n",
       "     'time': 614143,\n",
       "     'street_name': 'Chennai Bypass Expressway'},\n",
       "    {'distance': 346.772,\n",
       "     'sign': 0,\n",
       "     'interval': [98, 102],\n",
       "     'text': 'Dem Straßenverlauf von Chennai Bypass Expressway folgen',\n",
       "     'time': 13003,\n",
       "     'street_name': 'Chennai Bypass Expressway'},\n",
       "    {'distance': 387.712,\n",
       "     'sign': -7,\n",
       "     'interval': [102, 119],\n",
       "     'text': 'Links halten auf City Exit',\n",
       "     'time': 17982,\n",
       "     'street_name': 'City Exit'},\n",
       "    {'distance': 4622.94,\n",
       "     'sign': 7,\n",
       "     'interval': [119, 165],\n",
       "     'text': 'Rechts halten auf Chennai Bangalore Highway, NH48',\n",
       "     'time': 308184,\n",
       "     'street_name': 'Chennai Bangalore Highway, NH48'},\n",
       "    {'distance': 2365.492,\n",
       "     'sign': 7,\n",
       "     'interval': [165, 192],\n",
       "     'text': 'Rechts halten',\n",
       "     'time': 157692,\n",
       "     'street_name': ''},\n",
       "    {'distance': 2201.724,\n",
       "     'sign': 7,\n",
       "     'interval': [192, 220],\n",
       "     'text': 'Rechts halten auf Nelson Manickam Road',\n",
       "     'time': 248942,\n",
       "     'street_name': 'Nelson Manickam Road'},\n",
       "    {'distance': 414.345,\n",
       "     'sign': 7,\n",
       "     'interval': [220, 231],\n",
       "     'text': 'Rechts halten auf Sterling Road',\n",
       "     'time': 59722,\n",
       "     'street_name': 'Sterling Road'},\n",
       "    {'distance': 116.72,\n",
       "     'sign': -7,\n",
       "     'interval': [231, 234],\n",
       "     'text': 'Links halten auf Tank Bund Road',\n",
       "     'time': 13131,\n",
       "     'street_name': 'Tank Bund Road'},\n",
       "    {'distance': 42.235,\n",
       "     'sign': -2,\n",
       "     'interval': [234, 235],\n",
       "     'text': 'Links abbiegen auf Shenoy Road',\n",
       "     'time': 9502,\n",
       "     'street_name': 'Shenoy Road'},\n",
       "    {'distance': 199.32,\n",
       "     'sign': -2,\n",
       "     'interval': [235, 237],\n",
       "     'text': 'Links abbiegen auf Kothari Road',\n",
       "     'time': 44847,\n",
       "     'street_name': 'Kothari Road'},\n",
       "    {'distance': 172.752,\n",
       "     'sign': 2,\n",
       "     'interval': [237, 239],\n",
       "     'text': 'Rechts abbiegen auf Jayalakshmi Nagar 2nd Street',\n",
       "     'time': 38869,\n",
       "     'street_name': 'Jayalakshmi Nagar 2nd Street'},\n",
       "    {'distance': 0.0,\n",
       "     'sign': 4,\n",
       "     'last_heading': 87.56513982984372,\n",
       "     'interval': [239, 239],\n",
       "     'text': 'Ziel erreicht',\n",
       "     'time': 0,\n",
       "     'street_name': ''}],\n",
       "   'legs': [],\n",
       "   'details': {},\n",
       "   'ascend': 91.15399646759033,\n",
       "   'descend': 107.15349578857422,\n",
       "   'snapped_waypoints': 'ek|mAc{}gNgzXyaX'}]}"
      ]
     },
     "execution_count": 108,
     "metadata": {},
     "output_type": "execute_result"
    }
   ],
   "source": [
    "data"
   ]
  },
  {
   "cell_type": "code",
   "execution_count": 1,
   "metadata": {},
   "outputs": [
    {
     "name": "stdout",
     "output_type": "stream",
     "text": [
      "source latitude: 12.923051\n",
      "Source Longitude: 80.126944\n",
      "Destination Latitude: 13.000070\n",
      "Destination Longitude: 80.256355\n",
      "{'hints': {'visited_nodes.average': '120.0', 'visited_nodes.sum': '120'}, 'info': {'copyrights': ['GraphHopper', 'OpenStreetMap contributors'], 'took': 6}, 'paths': [{'distance': 24403.069, 'weight': 1778.80624, 'time': 1778796, 'transfers': 0, 'points_encoded': True, 'bbox': [80.126945, 12.901018, 80.256515, 13.001241], 'points': 'a`{mAkx`hNH_B^mQLoLn@{]HcIBsKGqGW_SYye@qEkXfAkXbDsOjDiObDmOdFaUv@gElCcPRaBRw@l@_FPqB?a@C[Me@sDqFM]Kc@{CcUm@eDu@sH?SH[\\\\k@zFcHzC{DnB{B^aAT}@Lq@\\\\mG`@uEzHVJeMrPwB|@a@pDuB|CuBxOyJn@k@Jc@Dk@HsDj@aSVkCl@}BjAmBf@iAvEgOtTev@\\\\_CZ_DnB}[HsCPwXIQa@Wa@CwJMoTg@eDSw^{CuKs@wHo@{q@yE_ToAaGg@oEk@uBa@eLiCqBo@sNaFyY}K}A]_Ek@iFcA_BaAw@u@sHkIyAkAgAm@eSgGuN_DoBg@gAc@oI{BsC_AuHsBkEyA_HwB{Ai@aBi@{XcKaLyCaCy@iBq@sCaAiEoAaFsAaA]iBc@oM{BmRmDaB_@eBo@m@]aCqBs@a@k@UgAQcDKgPLcBJ_RvCOFgHlAmXdEeN|BcCyOi@qBsCeDaC}Bk@mASeEaO{@_AOyGo@CQhFd@', 'instructions': [{'distance': 7378.256, 'heading': 96.54, 'sign': 0, 'interval': [0, 41], 'text': 'Dem Straßenverlauf von Velachery - Tambaram Main Road folgen', 'time': 413577, 'street_name': 'Velachery - Tambaram Main Road'}, {'distance': 176.655, 'sign': 2, 'interval': [41, 42], 'text': 'Rechts abbiegen auf Medavakkam - Mambakkam - Sembakkam Road, MD-633', 'time': 9936, 'street_name': 'Medavakkam - Mambakkam - Sembakkam Road, MD-633'}, {'distance': 245.491, 'sign': -2, 'interval': [42, 43], 'text': 'Links abbiegen', 'time': 44187, 'street_name': ''}, {'distance': 4275.616, 'sign': 2, 'interval': [43, 64], 'text': 'Rechts abbiegen auf Link Road', 'time': 240497, 'street_name': 'Link Road'}, {'distance': 10957.678, 'sign': -7, 'interval': [64, 127], 'text': 'Links halten auf Link Road', 'time': 904779, 'street_name': 'Link Road'}, {'distance': 745.008, 'sign': 2, 'interval': [127, 133], 'text': 'Rechts abbiegen', 'time': 95420, 'street_name': ''}, {'distance': 483.082, 'sign': -2, 'interval': [133, 136], 'text': 'Links abbiegen auf Dr Muthulakshmi Salai', 'time': 54345, 'street_name': 'Dr Muthulakshmi Salai'}, {'distance': 141.283, 'sign': 8, 'interval': [136, 138], 'text': 'Wenden auf Dr Muthulakshmi Salai', 'time': 16055, 'street_name': 'Dr Muthulakshmi Salai'}, {'distance': 0.0, 'sign': 4, 'last_heading': 189.22504141990566, 'interval': [138, 138], 'text': 'Ziel erreicht', 'time': 0, 'street_name': ''}], 'legs': [], 'details': {}, 'ascend': 67.6830025613308, 'descend': 91.78250274062157, 'snapped_waypoints': 'a`{mAkx`hNk`NsgX'}]}\n"
     ]
    }
   ],
   "source": [
    "import requests\n",
    "\n",
    "# For calculating the lat and long of places \n",
    "S_lat = input('source latitude: ')\n",
    "S_lon = input('Source Longitude: ')\n",
    "D_lat = input('Destination Latitude: ')\n",
    "D_lon = input('Destination Longitude: ')\n",
    "\n",
    "source_coordinates = str(S_lat)+\",\"+str(S_lon)  # if not using geopy replace with source_latitude\n",
    "dest_coordinates =  str(D_lat)+\",\"+str(D_lon)\n",
    "\n",
    "# IF NOT USING GEOPY \n",
    "# source_latitude = \"\"\n",
    "# source_longitude = \"\"\n",
    "\n",
    "# dest_latitude = \"\"\n",
    "# dest_longitude = \"\" \n",
    "\n",
    "#graph hopper api key \n",
    "api = \"5eda2deb-7ac1-44d9-990d-8aac82e96def\"\n",
    "# url for given loc \n",
    "url = \"https://graphhopper.com/api/1/route?point=\"+ source_coordinates +\"&point=\"+ dest_coordinates +\"&vehicle=car&locale=de&key=\"+api\n",
    "\n",
    "response = requests.get(url)\n",
    "data = response.json()\n",
    "print (data)\n"
   ]
  },
  {
   "cell_type": "code",
   "execution_count": null,
   "metadata": {},
   "outputs": [],
   "source": []
  }
 ],
 "metadata": {
  "kernelspec": {
   "display_name": "Python 3",
   "language": "python",
   "name": "python3"
  },
  "language_info": {
   "codemirror_mode": {
    "name": "ipython",
    "version": 3
   },
   "file_extension": ".py",
   "mimetype": "text/x-python",
   "name": "python",
   "nbconvert_exporter": "python",
   "pygments_lexer": "ipython3",
   "version": "3.6.6"
  }
 },
 "nbformat": 4,
 "nbformat_minor": 2
}
