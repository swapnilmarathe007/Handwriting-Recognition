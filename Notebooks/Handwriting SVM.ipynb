{
 "cells": [
  {
   "cell_type": "code",
   "execution_count": 1,
   "metadata": {},
   "outputs": [],
   "source": [
    "#import all necessary packages \n",
    "import cv2\n",
    "import numpy as np \n",
    "import glob \n",
    "from sklearn import svm \n",
    "from sklearn.externals import joblib\n",
    "from sklearn import model_selection"
   ]
  },
  {
   "cell_type": "code",
   "execution_count": 42,
   "metadata": {},
   "outputs": [],
   "source": [
    "#constant values\n",
    "image_location = \"/home/syedjafer/Documents/Handwriting_recognition_svm/test1/images/\"\n",
    "folder_depth = 7\n",
    "image_x = []\n",
    "image_y = []\n",
    "files = []"
   ]
  },
  {
   "cell_type": "code",
   "execution_count": 44,
   "metadata": {},
   "outputs": [
    {
     "name": "stdout",
     "output_type": "stream",
     "text": [
      "/home/syedjafer/Documents/Handwriting_recognition_svm/test1/images/b/\n",
      "['/home/syedjafer/Documents/Handwriting_recognition_svm/test1/images/b/b_09.png', '/home/syedjafer/Documents/Handwriting_recognition_svm/test1/images/b/b_03.png', '/home/syedjafer/Documents/Handwriting_recognition_svm/test1/images/b/b_24.png', '/home/syedjafer/Documents/Handwriting_recognition_svm/test1/images/b/b_16.png', '/home/syedjafer/Documents/Handwriting_recognition_svm/test1/images/b/b_10.png', '/home/syedjafer/Documents/Handwriting_recognition_svm/test1/images/b/b_13.png', '/home/syedjafer/Documents/Handwriting_recognition_svm/test1/images/b/b_21.png', '/home/syedjafer/Documents/Handwriting_recognition_svm/test1/images/b/b_22.png', '/home/syedjafer/Documents/Handwriting_recognition_svm/test1/images/b/b_23.png', '/home/syedjafer/Documents/Handwriting_recognition_svm/test1/images/b/b_14.png', '/home/syedjafer/Documents/Handwriting_recognition_svm/test1/images/b/b_08.png', '/home/syedjafer/Documents/Handwriting_recognition_svm/test1/images/b/b_07.png', '/home/syedjafer/Documents/Handwriting_recognition_svm/test1/images/b/b_19.png', '/home/syedjafer/Documents/Handwriting_recognition_svm/test1/images/b/b_18.png', '/home/syedjafer/Documents/Handwriting_recognition_svm/test1/images/b/b_02.png', '/home/syedjafer/Documents/Handwriting_recognition_svm/test1/images/b/b_06.png', '/home/syedjafer/Documents/Handwriting_recognition_svm/test1/images/b/b_05.png', '/home/syedjafer/Documents/Handwriting_recognition_svm/test1/images/b/b_11.png', '/home/syedjafer/Documents/Handwriting_recognition_svm/test1/images/b/b_15.png', '/home/syedjafer/Documents/Handwriting_recognition_svm/test1/images/b/b_17.png', '/home/syedjafer/Documents/Handwriting_recognition_svm/test1/images/b/b_04.png', '/home/syedjafer/Documents/Handwriting_recognition_svm/test1/images/b/b_12.png', '/home/syedjafer/Documents/Handwriting_recognition_svm/test1/images/b/b_20.png', '/home/syedjafer/Documents/Handwriting_recognition_svm/test1/images/b/b_01.png']\n",
      "/home/syedjafer/Documents/Handwriting_recognition_svm/test1/images/c/\n",
      "['/home/syedjafer/Documents/Handwriting_recognition_svm/test1/images/b/b_09.png', '/home/syedjafer/Documents/Handwriting_recognition_svm/test1/images/b/b_03.png', '/home/syedjafer/Documents/Handwriting_recognition_svm/test1/images/b/b_24.png', '/home/syedjafer/Documents/Handwriting_recognition_svm/test1/images/b/b_16.png', '/home/syedjafer/Documents/Handwriting_recognition_svm/test1/images/b/b_10.png', '/home/syedjafer/Documents/Handwriting_recognition_svm/test1/images/b/b_13.png', '/home/syedjafer/Documents/Handwriting_recognition_svm/test1/images/b/b_21.png', '/home/syedjafer/Documents/Handwriting_recognition_svm/test1/images/b/b_22.png', '/home/syedjafer/Documents/Handwriting_recognition_svm/test1/images/b/b_23.png', '/home/syedjafer/Documents/Handwriting_recognition_svm/test1/images/b/b_14.png', '/home/syedjafer/Documents/Handwriting_recognition_svm/test1/images/b/b_08.png', '/home/syedjafer/Documents/Handwriting_recognition_svm/test1/images/b/b_07.png', '/home/syedjafer/Documents/Handwriting_recognition_svm/test1/images/b/b_19.png', '/home/syedjafer/Documents/Handwriting_recognition_svm/test1/images/b/b_18.png', '/home/syedjafer/Documents/Handwriting_recognition_svm/test1/images/b/b_02.png', '/home/syedjafer/Documents/Handwriting_recognition_svm/test1/images/b/b_06.png', '/home/syedjafer/Documents/Handwriting_recognition_svm/test1/images/b/b_05.png', '/home/syedjafer/Documents/Handwriting_recognition_svm/test1/images/b/b_11.png', '/home/syedjafer/Documents/Handwriting_recognition_svm/test1/images/b/b_15.png', '/home/syedjafer/Documents/Handwriting_recognition_svm/test1/images/b/b_17.png', '/home/syedjafer/Documents/Handwriting_recognition_svm/test1/images/b/b_04.png', '/home/syedjafer/Documents/Handwriting_recognition_svm/test1/images/b/b_12.png', '/home/syedjafer/Documents/Handwriting_recognition_svm/test1/images/b/b_20.png', '/home/syedjafer/Documents/Handwriting_recognition_svm/test1/images/b/b_01.png', '/home/syedjafer/Documents/Handwriting_recognition_svm/test1/images/c/c_03.png', '/home/syedjafer/Documents/Handwriting_recognition_svm/test1/images/c/c_07.png', '/home/syedjafer/Documents/Handwriting_recognition_svm/test1/images/c/c_18.png', '/home/syedjafer/Documents/Handwriting_recognition_svm/test1/images/c/c_16.png', '/home/syedjafer/Documents/Handwriting_recognition_svm/test1/images/c/c_14.png', '/home/syedjafer/Documents/Handwriting_recognition_svm/test1/images/c/c_10.png', '/home/syedjafer/Documents/Handwriting_recognition_svm/test1/images/c/c_05.png', '/home/syedjafer/Documents/Handwriting_recognition_svm/test1/images/c/c_00.png', '/home/syedjafer/Documents/Handwriting_recognition_svm/test1/images/c/c_02.png', '/home/syedjafer/Documents/Handwriting_recognition_svm/test1/images/c/c_08.png', '/home/syedjafer/Documents/Handwriting_recognition_svm/test1/images/c/c_09.png', '/home/syedjafer/Documents/Handwriting_recognition_svm/test1/images/c/c_17.png', '/home/syedjafer/Documents/Handwriting_recognition_svm/test1/images/c/c_01.png', '/home/syedjafer/Documents/Handwriting_recognition_svm/test1/images/c/c_12.png', '/home/syedjafer/Documents/Handwriting_recognition_svm/test1/images/c/c_19.png', '/home/syedjafer/Documents/Handwriting_recognition_svm/test1/images/c/c_23.png', '/home/syedjafer/Documents/Handwriting_recognition_svm/test1/images/c/c_04.png', '/home/syedjafer/Documents/Handwriting_recognition_svm/test1/images/c/c_21.png', '/home/syedjafer/Documents/Handwriting_recognition_svm/test1/images/c/c_13.png', '/home/syedjafer/Documents/Handwriting_recognition_svm/test1/images/c/c_20.png', '/home/syedjafer/Documents/Handwriting_recognition_svm/test1/images/c/c_06.png', '/home/syedjafer/Documents/Handwriting_recognition_svm/test1/images/c/c_11.png', '/home/syedjafer/Documents/Handwriting_recognition_svm/test1/images/c/c_22.png', '/home/syedjafer/Documents/Handwriting_recognition_svm/test1/images/c/c_15.png']\n",
      "/home/syedjafer/Documents/Handwriting_recognition_svm/test1/images/d/\n",
      "['/home/syedjafer/Documents/Handwriting_recognition_svm/test1/images/b/b_09.png', '/home/syedjafer/Documents/Handwriting_recognition_svm/test1/images/b/b_03.png', '/home/syedjafer/Documents/Handwriting_recognition_svm/test1/images/b/b_24.png', '/home/syedjafer/Documents/Handwriting_recognition_svm/test1/images/b/b_16.png', '/home/syedjafer/Documents/Handwriting_recognition_svm/test1/images/b/b_10.png', '/home/syedjafer/Documents/Handwriting_recognition_svm/test1/images/b/b_13.png', '/home/syedjafer/Documents/Handwriting_recognition_svm/test1/images/b/b_21.png', '/home/syedjafer/Documents/Handwriting_recognition_svm/test1/images/b/b_22.png', '/home/syedjafer/Documents/Handwriting_recognition_svm/test1/images/b/b_23.png', '/home/syedjafer/Documents/Handwriting_recognition_svm/test1/images/b/b_14.png', '/home/syedjafer/Documents/Handwriting_recognition_svm/test1/images/b/b_08.png', '/home/syedjafer/Documents/Handwriting_recognition_svm/test1/images/b/b_07.png', '/home/syedjafer/Documents/Handwriting_recognition_svm/test1/images/b/b_19.png', '/home/syedjafer/Documents/Handwriting_recognition_svm/test1/images/b/b_18.png', '/home/syedjafer/Documents/Handwriting_recognition_svm/test1/images/b/b_02.png', '/home/syedjafer/Documents/Handwriting_recognition_svm/test1/images/b/b_06.png', '/home/syedjafer/Documents/Handwriting_recognition_svm/test1/images/b/b_05.png', '/home/syedjafer/Documents/Handwriting_recognition_svm/test1/images/b/b_11.png', '/home/syedjafer/Documents/Handwriting_recognition_svm/test1/images/b/b_15.png', '/home/syedjafer/Documents/Handwriting_recognition_svm/test1/images/b/b_17.png', '/home/syedjafer/Documents/Handwriting_recognition_svm/test1/images/b/b_04.png', '/home/syedjafer/Documents/Handwriting_recognition_svm/test1/images/b/b_12.png', '/home/syedjafer/Documents/Handwriting_recognition_svm/test1/images/b/b_20.png', '/home/syedjafer/Documents/Handwriting_recognition_svm/test1/images/b/b_01.png', '/home/syedjafer/Documents/Handwriting_recognition_svm/test1/images/c/c_03.png', '/home/syedjafer/Documents/Handwriting_recognition_svm/test1/images/c/c_07.png', '/home/syedjafer/Documents/Handwriting_recognition_svm/test1/images/c/c_18.png', '/home/syedjafer/Documents/Handwriting_recognition_svm/test1/images/c/c_16.png', '/home/syedjafer/Documents/Handwriting_recognition_svm/test1/images/c/c_14.png', '/home/syedjafer/Documents/Handwriting_recognition_svm/test1/images/c/c_10.png', '/home/syedjafer/Documents/Handwriting_recognition_svm/test1/images/c/c_05.png', '/home/syedjafer/Documents/Handwriting_recognition_svm/test1/images/c/c_00.png', '/home/syedjafer/Documents/Handwriting_recognition_svm/test1/images/c/c_02.png', '/home/syedjafer/Documents/Handwriting_recognition_svm/test1/images/c/c_08.png', '/home/syedjafer/Documents/Handwriting_recognition_svm/test1/images/c/c_09.png', '/home/syedjafer/Documents/Handwriting_recognition_svm/test1/images/c/c_17.png', '/home/syedjafer/Documents/Handwriting_recognition_svm/test1/images/c/c_01.png', '/home/syedjafer/Documents/Handwriting_recognition_svm/test1/images/c/c_12.png', '/home/syedjafer/Documents/Handwriting_recognition_svm/test1/images/c/c_19.png', '/home/syedjafer/Documents/Handwriting_recognition_svm/test1/images/c/c_23.png', '/home/syedjafer/Documents/Handwriting_recognition_svm/test1/images/c/c_04.png', '/home/syedjafer/Documents/Handwriting_recognition_svm/test1/images/c/c_21.png', '/home/syedjafer/Documents/Handwriting_recognition_svm/test1/images/c/c_13.png', '/home/syedjafer/Documents/Handwriting_recognition_svm/test1/images/c/c_20.png', '/home/syedjafer/Documents/Handwriting_recognition_svm/test1/images/c/c_06.png', '/home/syedjafer/Documents/Handwriting_recognition_svm/test1/images/c/c_11.png', '/home/syedjafer/Documents/Handwriting_recognition_svm/test1/images/c/c_22.png', '/home/syedjafer/Documents/Handwriting_recognition_svm/test1/images/c/c_15.png', '/home/syedjafer/Documents/Handwriting_recognition_svm/test1/images/d/d_05.png', '/home/syedjafer/Documents/Handwriting_recognition_svm/test1/images/d/d_10.png', '/home/syedjafer/Documents/Handwriting_recognition_svm/test1/images/d/d_01.png', '/home/syedjafer/Documents/Handwriting_recognition_svm/test1/images/d/d_19.png', '/home/syedjafer/Documents/Handwriting_recognition_svm/test1/images/d/d_06.png', '/home/syedjafer/Documents/Handwriting_recognition_svm/test1/images/d/d_04.png', '/home/syedjafer/Documents/Handwriting_recognition_svm/test1/images/d/d_11.png', '/home/syedjafer/Documents/Handwriting_recognition_svm/test1/images/d/d_12.png', '/home/syedjafer/Documents/Handwriting_recognition_svm/test1/images/d/d_14.png', '/home/syedjafer/Documents/Handwriting_recognition_svm/test1/images/d/d_16.png', '/home/syedjafer/Documents/Handwriting_recognition_svm/test1/images/d/d_18.png', '/home/syedjafer/Documents/Handwriting_recognition_svm/test1/images/d/d_00.png', '/home/syedjafer/Documents/Handwriting_recognition_svm/test1/images/d/d_08.png', '/home/syedjafer/Documents/Handwriting_recognition_svm/test1/images/d/d_13.png', '/home/syedjafer/Documents/Handwriting_recognition_svm/test1/images/d/d_02.png', '/home/syedjafer/Documents/Handwriting_recognition_svm/test1/images/d/d_15.png', '/home/syedjafer/Documents/Handwriting_recognition_svm/test1/images/d/d_09.png', '/home/syedjafer/Documents/Handwriting_recognition_svm/test1/images/d/d_03.png', '/home/syedjafer/Documents/Handwriting_recognition_svm/test1/images/d/d_17.png', '/home/syedjafer/Documents/Handwriting_recognition_svm/test1/images/d/d_07.png']\n",
      "/home/syedjafer/Documents/Handwriting_recognition_svm/test1/images/e/\n",
      "['/home/syedjafer/Documents/Handwriting_recognition_svm/test1/images/b/b_09.png', '/home/syedjafer/Documents/Handwriting_recognition_svm/test1/images/b/b_03.png', '/home/syedjafer/Documents/Handwriting_recognition_svm/test1/images/b/b_24.png', '/home/syedjafer/Documents/Handwriting_recognition_svm/test1/images/b/b_16.png', '/home/syedjafer/Documents/Handwriting_recognition_svm/test1/images/b/b_10.png', '/home/syedjafer/Documents/Handwriting_recognition_svm/test1/images/b/b_13.png', '/home/syedjafer/Documents/Handwriting_recognition_svm/test1/images/b/b_21.png', '/home/syedjafer/Documents/Handwriting_recognition_svm/test1/images/b/b_22.png', '/home/syedjafer/Documents/Handwriting_recognition_svm/test1/images/b/b_23.png', '/home/syedjafer/Documents/Handwriting_recognition_svm/test1/images/b/b_14.png', '/home/syedjafer/Documents/Handwriting_recognition_svm/test1/images/b/b_08.png', '/home/syedjafer/Documents/Handwriting_recognition_svm/test1/images/b/b_07.png', '/home/syedjafer/Documents/Handwriting_recognition_svm/test1/images/b/b_19.png', '/home/syedjafer/Documents/Handwriting_recognition_svm/test1/images/b/b_18.png', '/home/syedjafer/Documents/Handwriting_recognition_svm/test1/images/b/b_02.png', '/home/syedjafer/Documents/Handwriting_recognition_svm/test1/images/b/b_06.png', '/home/syedjafer/Documents/Handwriting_recognition_svm/test1/images/b/b_05.png', '/home/syedjafer/Documents/Handwriting_recognition_svm/test1/images/b/b_11.png', '/home/syedjafer/Documents/Handwriting_recognition_svm/test1/images/b/b_15.png', '/home/syedjafer/Documents/Handwriting_recognition_svm/test1/images/b/b_17.png', '/home/syedjafer/Documents/Handwriting_recognition_svm/test1/images/b/b_04.png', '/home/syedjafer/Documents/Handwriting_recognition_svm/test1/images/b/b_12.png', '/home/syedjafer/Documents/Handwriting_recognition_svm/test1/images/b/b_20.png', '/home/syedjafer/Documents/Handwriting_recognition_svm/test1/images/b/b_01.png', '/home/syedjafer/Documents/Handwriting_recognition_svm/test1/images/c/c_03.png', '/home/syedjafer/Documents/Handwriting_recognition_svm/test1/images/c/c_07.png', '/home/syedjafer/Documents/Handwriting_recognition_svm/test1/images/c/c_18.png', '/home/syedjafer/Documents/Handwriting_recognition_svm/test1/images/c/c_16.png', '/home/syedjafer/Documents/Handwriting_recognition_svm/test1/images/c/c_14.png', '/home/syedjafer/Documents/Handwriting_recognition_svm/test1/images/c/c_10.png', '/home/syedjafer/Documents/Handwriting_recognition_svm/test1/images/c/c_05.png', '/home/syedjafer/Documents/Handwriting_recognition_svm/test1/images/c/c_00.png', '/home/syedjafer/Documents/Handwriting_recognition_svm/test1/images/c/c_02.png', '/home/syedjafer/Documents/Handwriting_recognition_svm/test1/images/c/c_08.png', '/home/syedjafer/Documents/Handwriting_recognition_svm/test1/images/c/c_09.png', '/home/syedjafer/Documents/Handwriting_recognition_svm/test1/images/c/c_17.png', '/home/syedjafer/Documents/Handwriting_recognition_svm/test1/images/c/c_01.png', '/home/syedjafer/Documents/Handwriting_recognition_svm/test1/images/c/c_12.png', '/home/syedjafer/Documents/Handwriting_recognition_svm/test1/images/c/c_19.png', '/home/syedjafer/Documents/Handwriting_recognition_svm/test1/images/c/c_23.png', '/home/syedjafer/Documents/Handwriting_recognition_svm/test1/images/c/c_04.png', '/home/syedjafer/Documents/Handwriting_recognition_svm/test1/images/c/c_21.png', '/home/syedjafer/Documents/Handwriting_recognition_svm/test1/images/c/c_13.png', '/home/syedjafer/Documents/Handwriting_recognition_svm/test1/images/c/c_20.png', '/home/syedjafer/Documents/Handwriting_recognition_svm/test1/images/c/c_06.png', '/home/syedjafer/Documents/Handwriting_recognition_svm/test1/images/c/c_11.png', '/home/syedjafer/Documents/Handwriting_recognition_svm/test1/images/c/c_22.png', '/home/syedjafer/Documents/Handwriting_recognition_svm/test1/images/c/c_15.png', '/home/syedjafer/Documents/Handwriting_recognition_svm/test1/images/d/d_05.png', '/home/syedjafer/Documents/Handwriting_recognition_svm/test1/images/d/d_10.png', '/home/syedjafer/Documents/Handwriting_recognition_svm/test1/images/d/d_01.png', '/home/syedjafer/Documents/Handwriting_recognition_svm/test1/images/d/d_19.png', '/home/syedjafer/Documents/Handwriting_recognition_svm/test1/images/d/d_06.png', '/home/syedjafer/Documents/Handwriting_recognition_svm/test1/images/d/d_04.png', '/home/syedjafer/Documents/Handwriting_recognition_svm/test1/images/d/d_11.png', '/home/syedjafer/Documents/Handwriting_recognition_svm/test1/images/d/d_12.png', '/home/syedjafer/Documents/Handwriting_recognition_svm/test1/images/d/d_14.png', '/home/syedjafer/Documents/Handwriting_recognition_svm/test1/images/d/d_16.png', '/home/syedjafer/Documents/Handwriting_recognition_svm/test1/images/d/d_18.png', '/home/syedjafer/Documents/Handwriting_recognition_svm/test1/images/d/d_00.png', '/home/syedjafer/Documents/Handwriting_recognition_svm/test1/images/d/d_08.png', '/home/syedjafer/Documents/Handwriting_recognition_svm/test1/images/d/d_13.png', '/home/syedjafer/Documents/Handwriting_recognition_svm/test1/images/d/d_02.png', '/home/syedjafer/Documents/Handwriting_recognition_svm/test1/images/d/d_15.png', '/home/syedjafer/Documents/Handwriting_recognition_svm/test1/images/d/d_09.png', '/home/syedjafer/Documents/Handwriting_recognition_svm/test1/images/d/d_03.png', '/home/syedjafer/Documents/Handwriting_recognition_svm/test1/images/d/d_17.png', '/home/syedjafer/Documents/Handwriting_recognition_svm/test1/images/d/d_07.png', '/home/syedjafer/Documents/Handwriting_recognition_svm/test1/images/e/e_06.png', '/home/syedjafer/Documents/Handwriting_recognition_svm/test1/images/e/e_07.png', '/home/syedjafer/Documents/Handwriting_recognition_svm/test1/images/e/e_13.png', '/home/syedjafer/Documents/Handwriting_recognition_svm/test1/images/e/e_02.png', '/home/syedjafer/Documents/Handwriting_recognition_svm/test1/images/e/e_15.png', '/home/syedjafer/Documents/Handwriting_recognition_svm/test1/images/e/e_19.png', '/home/syedjafer/Documents/Handwriting_recognition_svm/test1/images/e/e_16.png', '/home/syedjafer/Documents/Handwriting_recognition_svm/test1/images/e/e_20.png', '/home/syedjafer/Documents/Handwriting_recognition_svm/test1/images/e/e_10.png', '/home/syedjafer/Documents/Handwriting_recognition_svm/test1/images/e/e_09.png', '/home/syedjafer/Documents/Handwriting_recognition_svm/test1/images/e/e_17.png', '/home/syedjafer/Documents/Handwriting_recognition_svm/test1/images/e/e_00.png', '/home/syedjafer/Documents/Handwriting_recognition_svm/test1/images/e/e_01.png', '/home/syedjafer/Documents/Handwriting_recognition_svm/test1/images/e/e_08.png', '/home/syedjafer/Documents/Handwriting_recognition_svm/test1/images/e/e_05.png', '/home/syedjafer/Documents/Handwriting_recognition_svm/test1/images/e/e_03.png', '/home/syedjafer/Documents/Handwriting_recognition_svm/test1/images/e/e_12.png', '/home/syedjafer/Documents/Handwriting_recognition_svm/test1/images/e/e_11.png', '/home/syedjafer/Documents/Handwriting_recognition_svm/test1/images/e/e_04.png', '/home/syedjafer/Documents/Handwriting_recognition_svm/test1/images/e/e_14.png', '/home/syedjafer/Documents/Handwriting_recognition_svm/test1/images/e/e_18.png', '/home/syedjafer/Documents/Handwriting_recognition_svm/test1/images/e/e_21.png']\n",
      "/home/syedjafer/Documents/Handwriting_recognition_svm/test1/images/f/\n",
      "['/home/syedjafer/Documents/Handwriting_recognition_svm/test1/images/b/b_09.png', '/home/syedjafer/Documents/Handwriting_recognition_svm/test1/images/b/b_03.png', '/home/syedjafer/Documents/Handwriting_recognition_svm/test1/images/b/b_24.png', '/home/syedjafer/Documents/Handwriting_recognition_svm/test1/images/b/b_16.png', '/home/syedjafer/Documents/Handwriting_recognition_svm/test1/images/b/b_10.png', '/home/syedjafer/Documents/Handwriting_recognition_svm/test1/images/b/b_13.png', '/home/syedjafer/Documents/Handwriting_recognition_svm/test1/images/b/b_21.png', '/home/syedjafer/Documents/Handwriting_recognition_svm/test1/images/b/b_22.png', '/home/syedjafer/Documents/Handwriting_recognition_svm/test1/images/b/b_23.png', '/home/syedjafer/Documents/Handwriting_recognition_svm/test1/images/b/b_14.png', '/home/syedjafer/Documents/Handwriting_recognition_svm/test1/images/b/b_08.png', '/home/syedjafer/Documents/Handwriting_recognition_svm/test1/images/b/b_07.png', '/home/syedjafer/Documents/Handwriting_recognition_svm/test1/images/b/b_19.png', '/home/syedjafer/Documents/Handwriting_recognition_svm/test1/images/b/b_18.png', '/home/syedjafer/Documents/Handwriting_recognition_svm/test1/images/b/b_02.png', '/home/syedjafer/Documents/Handwriting_recognition_svm/test1/images/b/b_06.png', '/home/syedjafer/Documents/Handwriting_recognition_svm/test1/images/b/b_05.png', '/home/syedjafer/Documents/Handwriting_recognition_svm/test1/images/b/b_11.png', '/home/syedjafer/Documents/Handwriting_recognition_svm/test1/images/b/b_15.png', '/home/syedjafer/Documents/Handwriting_recognition_svm/test1/images/b/b_17.png', '/home/syedjafer/Documents/Handwriting_recognition_svm/test1/images/b/b_04.png', '/home/syedjafer/Documents/Handwriting_recognition_svm/test1/images/b/b_12.png', '/home/syedjafer/Documents/Handwriting_recognition_svm/test1/images/b/b_20.png', '/home/syedjafer/Documents/Handwriting_recognition_svm/test1/images/b/b_01.png', '/home/syedjafer/Documents/Handwriting_recognition_svm/test1/images/c/c_03.png', '/home/syedjafer/Documents/Handwriting_recognition_svm/test1/images/c/c_07.png', '/home/syedjafer/Documents/Handwriting_recognition_svm/test1/images/c/c_18.png', '/home/syedjafer/Documents/Handwriting_recognition_svm/test1/images/c/c_16.png', '/home/syedjafer/Documents/Handwriting_recognition_svm/test1/images/c/c_14.png', '/home/syedjafer/Documents/Handwriting_recognition_svm/test1/images/c/c_10.png', '/home/syedjafer/Documents/Handwriting_recognition_svm/test1/images/c/c_05.png', '/home/syedjafer/Documents/Handwriting_recognition_svm/test1/images/c/c_00.png', '/home/syedjafer/Documents/Handwriting_recognition_svm/test1/images/c/c_02.png', '/home/syedjafer/Documents/Handwriting_recognition_svm/test1/images/c/c_08.png', '/home/syedjafer/Documents/Handwriting_recognition_svm/test1/images/c/c_09.png', '/home/syedjafer/Documents/Handwriting_recognition_svm/test1/images/c/c_17.png', '/home/syedjafer/Documents/Handwriting_recognition_svm/test1/images/c/c_01.png', '/home/syedjafer/Documents/Handwriting_recognition_svm/test1/images/c/c_12.png', '/home/syedjafer/Documents/Handwriting_recognition_svm/test1/images/c/c_19.png', '/home/syedjafer/Documents/Handwriting_recognition_svm/test1/images/c/c_23.png', '/home/syedjafer/Documents/Handwriting_recognition_svm/test1/images/c/c_04.png', '/home/syedjafer/Documents/Handwriting_recognition_svm/test1/images/c/c_21.png', '/home/syedjafer/Documents/Handwriting_recognition_svm/test1/images/c/c_13.png', '/home/syedjafer/Documents/Handwriting_recognition_svm/test1/images/c/c_20.png', '/home/syedjafer/Documents/Handwriting_recognition_svm/test1/images/c/c_06.png', '/home/syedjafer/Documents/Handwriting_recognition_svm/test1/images/c/c_11.png', '/home/syedjafer/Documents/Handwriting_recognition_svm/test1/images/c/c_22.png', '/home/syedjafer/Documents/Handwriting_recognition_svm/test1/images/c/c_15.png', '/home/syedjafer/Documents/Handwriting_recognition_svm/test1/images/d/d_05.png', '/home/syedjafer/Documents/Handwriting_recognition_svm/test1/images/d/d_10.png', '/home/syedjafer/Documents/Handwriting_recognition_svm/test1/images/d/d_01.png', '/home/syedjafer/Documents/Handwriting_recognition_svm/test1/images/d/d_19.png', '/home/syedjafer/Documents/Handwriting_recognition_svm/test1/images/d/d_06.png', '/home/syedjafer/Documents/Handwriting_recognition_svm/test1/images/d/d_04.png', '/home/syedjafer/Documents/Handwriting_recognition_svm/test1/images/d/d_11.png', '/home/syedjafer/Documents/Handwriting_recognition_svm/test1/images/d/d_12.png', '/home/syedjafer/Documents/Handwriting_recognition_svm/test1/images/d/d_14.png', '/home/syedjafer/Documents/Handwriting_recognition_svm/test1/images/d/d_16.png', '/home/syedjafer/Documents/Handwriting_recognition_svm/test1/images/d/d_18.png', '/home/syedjafer/Documents/Handwriting_recognition_svm/test1/images/d/d_00.png', '/home/syedjafer/Documents/Handwriting_recognition_svm/test1/images/d/d_08.png', '/home/syedjafer/Documents/Handwriting_recognition_svm/test1/images/d/d_13.png', '/home/syedjafer/Documents/Handwriting_recognition_svm/test1/images/d/d_02.png', '/home/syedjafer/Documents/Handwriting_recognition_svm/test1/images/d/d_15.png', '/home/syedjafer/Documents/Handwriting_recognition_svm/test1/images/d/d_09.png', '/home/syedjafer/Documents/Handwriting_recognition_svm/test1/images/d/d_03.png', '/home/syedjafer/Documents/Handwriting_recognition_svm/test1/images/d/d_17.png', '/home/syedjafer/Documents/Handwriting_recognition_svm/test1/images/d/d_07.png', '/home/syedjafer/Documents/Handwriting_recognition_svm/test1/images/e/e_06.png', '/home/syedjafer/Documents/Handwriting_recognition_svm/test1/images/e/e_07.png', '/home/syedjafer/Documents/Handwriting_recognition_svm/test1/images/e/e_13.png', '/home/syedjafer/Documents/Handwriting_recognition_svm/test1/images/e/e_02.png', '/home/syedjafer/Documents/Handwriting_recognition_svm/test1/images/e/e_15.png', '/home/syedjafer/Documents/Handwriting_recognition_svm/test1/images/e/e_19.png', '/home/syedjafer/Documents/Handwriting_recognition_svm/test1/images/e/e_16.png', '/home/syedjafer/Documents/Handwriting_recognition_svm/test1/images/e/e_20.png', '/home/syedjafer/Documents/Handwriting_recognition_svm/test1/images/e/e_10.png', '/home/syedjafer/Documents/Handwriting_recognition_svm/test1/images/e/e_09.png', '/home/syedjafer/Documents/Handwriting_recognition_svm/test1/images/e/e_17.png', '/home/syedjafer/Documents/Handwriting_recognition_svm/test1/images/e/e_00.png', '/home/syedjafer/Documents/Handwriting_recognition_svm/test1/images/e/e_01.png', '/home/syedjafer/Documents/Handwriting_recognition_svm/test1/images/e/e_08.png', '/home/syedjafer/Documents/Handwriting_recognition_svm/test1/images/e/e_05.png', '/home/syedjafer/Documents/Handwriting_recognition_svm/test1/images/e/e_03.png', '/home/syedjafer/Documents/Handwriting_recognition_svm/test1/images/e/e_12.png', '/home/syedjafer/Documents/Handwriting_recognition_svm/test1/images/e/e_11.png', '/home/syedjafer/Documents/Handwriting_recognition_svm/test1/images/e/e_04.png', '/home/syedjafer/Documents/Handwriting_recognition_svm/test1/images/e/e_14.png', '/home/syedjafer/Documents/Handwriting_recognition_svm/test1/images/e/e_18.png', '/home/syedjafer/Documents/Handwriting_recognition_svm/test1/images/e/e_21.png', '/home/syedjafer/Documents/Handwriting_recognition_svm/test1/images/f/f_18.png', '/home/syedjafer/Documents/Handwriting_recognition_svm/test1/images/f/f_03.png', '/home/syedjafer/Documents/Handwriting_recognition_svm/test1/images/f/f_25.png', '/home/syedjafer/Documents/Handwriting_recognition_svm/test1/images/f/f_01.png', '/home/syedjafer/Documents/Handwriting_recognition_svm/test1/images/f/f_00.png', '/home/syedjafer/Documents/Handwriting_recognition_svm/test1/images/f/f_21.png', '/home/syedjafer/Documents/Handwriting_recognition_svm/test1/images/f/f_22.png', '/home/syedjafer/Documents/Handwriting_recognition_svm/test1/images/f/f_17.png', '/home/syedjafer/Documents/Handwriting_recognition_svm/test1/images/f/f_07.png', '/home/syedjafer/Documents/Handwriting_recognition_svm/test1/images/f/f_08.png', '/home/syedjafer/Documents/Handwriting_recognition_svm/test1/images/f/f_05.png', '/home/syedjafer/Documents/Handwriting_recognition_svm/test1/images/f/f_11.png', '/home/syedjafer/Documents/Handwriting_recognition_svm/test1/images/f/f_24.png', '/home/syedjafer/Documents/Handwriting_recognition_svm/test1/images/f/f_06.png', '/home/syedjafer/Documents/Handwriting_recognition_svm/test1/images/f/f_13.png', '/home/syedjafer/Documents/Handwriting_recognition_svm/test1/images/f/f_19.png', '/home/syedjafer/Documents/Handwriting_recognition_svm/test1/images/f/f_14.png', '/home/syedjafer/Documents/Handwriting_recognition_svm/test1/images/f/f_23.png', '/home/syedjafer/Documents/Handwriting_recognition_svm/test1/images/f/f_09.png', '/home/syedjafer/Documents/Handwriting_recognition_svm/test1/images/f/f_20.png', '/home/syedjafer/Documents/Handwriting_recognition_svm/test1/images/f/f_10.png', '/home/syedjafer/Documents/Handwriting_recognition_svm/test1/images/f/f_16.png', '/home/syedjafer/Documents/Handwriting_recognition_svm/test1/images/f/f_15.png', '/home/syedjafer/Documents/Handwriting_recognition_svm/test1/images/f/f_04.png', '/home/syedjafer/Documents/Handwriting_recognition_svm/test1/images/f/f_02.png', '/home/syedjafer/Documents/Handwriting_recognition_svm/test1/images/f/f_26.png', '/home/syedjafer/Documents/Handwriting_recognition_svm/test1/images/f/f_12.png']\n",
      "/home/syedjafer/Documents/Handwriting_recognition_svm/test1/images/g/\n",
      "['/home/syedjafer/Documents/Handwriting_recognition_svm/test1/images/b/b_09.png', '/home/syedjafer/Documents/Handwriting_recognition_svm/test1/images/b/b_03.png', '/home/syedjafer/Documents/Handwriting_recognition_svm/test1/images/b/b_24.png', '/home/syedjafer/Documents/Handwriting_recognition_svm/test1/images/b/b_16.png', '/home/syedjafer/Documents/Handwriting_recognition_svm/test1/images/b/b_10.png', '/home/syedjafer/Documents/Handwriting_recognition_svm/test1/images/b/b_13.png', '/home/syedjafer/Documents/Handwriting_recognition_svm/test1/images/b/b_21.png', '/home/syedjafer/Documents/Handwriting_recognition_svm/test1/images/b/b_22.png', '/home/syedjafer/Documents/Handwriting_recognition_svm/test1/images/b/b_23.png', '/home/syedjafer/Documents/Handwriting_recognition_svm/test1/images/b/b_14.png', '/home/syedjafer/Documents/Handwriting_recognition_svm/test1/images/b/b_08.png', '/home/syedjafer/Documents/Handwriting_recognition_svm/test1/images/b/b_07.png', '/home/syedjafer/Documents/Handwriting_recognition_svm/test1/images/b/b_19.png', '/home/syedjafer/Documents/Handwriting_recognition_svm/test1/images/b/b_18.png', '/home/syedjafer/Documents/Handwriting_recognition_svm/test1/images/b/b_02.png', '/home/syedjafer/Documents/Handwriting_recognition_svm/test1/images/b/b_06.png', '/home/syedjafer/Documents/Handwriting_recognition_svm/test1/images/b/b_05.png', '/home/syedjafer/Documents/Handwriting_recognition_svm/test1/images/b/b_11.png', '/home/syedjafer/Documents/Handwriting_recognition_svm/test1/images/b/b_15.png', '/home/syedjafer/Documents/Handwriting_recognition_svm/test1/images/b/b_17.png', '/home/syedjafer/Documents/Handwriting_recognition_svm/test1/images/b/b_04.png', '/home/syedjafer/Documents/Handwriting_recognition_svm/test1/images/b/b_12.png', '/home/syedjafer/Documents/Handwriting_recognition_svm/test1/images/b/b_20.png', '/home/syedjafer/Documents/Handwriting_recognition_svm/test1/images/b/b_01.png', '/home/syedjafer/Documents/Handwriting_recognition_svm/test1/images/c/c_03.png', '/home/syedjafer/Documents/Handwriting_recognition_svm/test1/images/c/c_07.png', '/home/syedjafer/Documents/Handwriting_recognition_svm/test1/images/c/c_18.png', '/home/syedjafer/Documents/Handwriting_recognition_svm/test1/images/c/c_16.png', '/home/syedjafer/Documents/Handwriting_recognition_svm/test1/images/c/c_14.png', '/home/syedjafer/Documents/Handwriting_recognition_svm/test1/images/c/c_10.png', '/home/syedjafer/Documents/Handwriting_recognition_svm/test1/images/c/c_05.png', '/home/syedjafer/Documents/Handwriting_recognition_svm/test1/images/c/c_00.png', '/home/syedjafer/Documents/Handwriting_recognition_svm/test1/images/c/c_02.png', '/home/syedjafer/Documents/Handwriting_recognition_svm/test1/images/c/c_08.png', '/home/syedjafer/Documents/Handwriting_recognition_svm/test1/images/c/c_09.png', '/home/syedjafer/Documents/Handwriting_recognition_svm/test1/images/c/c_17.png', '/home/syedjafer/Documents/Handwriting_recognition_svm/test1/images/c/c_01.png', '/home/syedjafer/Documents/Handwriting_recognition_svm/test1/images/c/c_12.png', '/home/syedjafer/Documents/Handwriting_recognition_svm/test1/images/c/c_19.png', '/home/syedjafer/Documents/Handwriting_recognition_svm/test1/images/c/c_23.png', '/home/syedjafer/Documents/Handwriting_recognition_svm/test1/images/c/c_04.png', '/home/syedjafer/Documents/Handwriting_recognition_svm/test1/images/c/c_21.png', '/home/syedjafer/Documents/Handwriting_recognition_svm/test1/images/c/c_13.png', '/home/syedjafer/Documents/Handwriting_recognition_svm/test1/images/c/c_20.png', '/home/syedjafer/Documents/Handwriting_recognition_svm/test1/images/c/c_06.png', '/home/syedjafer/Documents/Handwriting_recognition_svm/test1/images/c/c_11.png', '/home/syedjafer/Documents/Handwriting_recognition_svm/test1/images/c/c_22.png', '/home/syedjafer/Documents/Handwriting_recognition_svm/test1/images/c/c_15.png', '/home/syedjafer/Documents/Handwriting_recognition_svm/test1/images/d/d_05.png', '/home/syedjafer/Documents/Handwriting_recognition_svm/test1/images/d/d_10.png', '/home/syedjafer/Documents/Handwriting_recognition_svm/test1/images/d/d_01.png', '/home/syedjafer/Documents/Handwriting_recognition_svm/test1/images/d/d_19.png', '/home/syedjafer/Documents/Handwriting_recognition_svm/test1/images/d/d_06.png', '/home/syedjafer/Documents/Handwriting_recognition_svm/test1/images/d/d_04.png', '/home/syedjafer/Documents/Handwriting_recognition_svm/test1/images/d/d_11.png', '/home/syedjafer/Documents/Handwriting_recognition_svm/test1/images/d/d_12.png', '/home/syedjafer/Documents/Handwriting_recognition_svm/test1/images/d/d_14.png', '/home/syedjafer/Documents/Handwriting_recognition_svm/test1/images/d/d_16.png', '/home/syedjafer/Documents/Handwriting_recognition_svm/test1/images/d/d_18.png', '/home/syedjafer/Documents/Handwriting_recognition_svm/test1/images/d/d_00.png', '/home/syedjafer/Documents/Handwriting_recognition_svm/test1/images/d/d_08.png', '/home/syedjafer/Documents/Handwriting_recognition_svm/test1/images/d/d_13.png', '/home/syedjafer/Documents/Handwriting_recognition_svm/test1/images/d/d_02.png', '/home/syedjafer/Documents/Handwriting_recognition_svm/test1/images/d/d_15.png', '/home/syedjafer/Documents/Handwriting_recognition_svm/test1/images/d/d_09.png', '/home/syedjafer/Documents/Handwriting_recognition_svm/test1/images/d/d_03.png', '/home/syedjafer/Documents/Handwriting_recognition_svm/test1/images/d/d_17.png', '/home/syedjafer/Documents/Handwriting_recognition_svm/test1/images/d/d_07.png', '/home/syedjafer/Documents/Handwriting_recognition_svm/test1/images/e/e_06.png', '/home/syedjafer/Documents/Handwriting_recognition_svm/test1/images/e/e_07.png', '/home/syedjafer/Documents/Handwriting_recognition_svm/test1/images/e/e_13.png', '/home/syedjafer/Documents/Handwriting_recognition_svm/test1/images/e/e_02.png', '/home/syedjafer/Documents/Handwriting_recognition_svm/test1/images/e/e_15.png', '/home/syedjafer/Documents/Handwriting_recognition_svm/test1/images/e/e_19.png', '/home/syedjafer/Documents/Handwriting_recognition_svm/test1/images/e/e_16.png', '/home/syedjafer/Documents/Handwriting_recognition_svm/test1/images/e/e_20.png', '/home/syedjafer/Documents/Handwriting_recognition_svm/test1/images/e/e_10.png', '/home/syedjafer/Documents/Handwriting_recognition_svm/test1/images/e/e_09.png', '/home/syedjafer/Documents/Handwriting_recognition_svm/test1/images/e/e_17.png', '/home/syedjafer/Documents/Handwriting_recognition_svm/test1/images/e/e_00.png', '/home/syedjafer/Documents/Handwriting_recognition_svm/test1/images/e/e_01.png', '/home/syedjafer/Documents/Handwriting_recognition_svm/test1/images/e/e_08.png', '/home/syedjafer/Documents/Handwriting_recognition_svm/test1/images/e/e_05.png', '/home/syedjafer/Documents/Handwriting_recognition_svm/test1/images/e/e_03.png', '/home/syedjafer/Documents/Handwriting_recognition_svm/test1/images/e/e_12.png', '/home/syedjafer/Documents/Handwriting_recognition_svm/test1/images/e/e_11.png', '/home/syedjafer/Documents/Handwriting_recognition_svm/test1/images/e/e_04.png', '/home/syedjafer/Documents/Handwriting_recognition_svm/test1/images/e/e_14.png', '/home/syedjafer/Documents/Handwriting_recognition_svm/test1/images/e/e_18.png', '/home/syedjafer/Documents/Handwriting_recognition_svm/test1/images/e/e_21.png', '/home/syedjafer/Documents/Handwriting_recognition_svm/test1/images/f/f_18.png', '/home/syedjafer/Documents/Handwriting_recognition_svm/test1/images/f/f_03.png', '/home/syedjafer/Documents/Handwriting_recognition_svm/test1/images/f/f_25.png', '/home/syedjafer/Documents/Handwriting_recognition_svm/test1/images/f/f_01.png', '/home/syedjafer/Documents/Handwriting_recognition_svm/test1/images/f/f_00.png', '/home/syedjafer/Documents/Handwriting_recognition_svm/test1/images/f/f_21.png', '/home/syedjafer/Documents/Handwriting_recognition_svm/test1/images/f/f_22.png', '/home/syedjafer/Documents/Handwriting_recognition_svm/test1/images/f/f_17.png', '/home/syedjafer/Documents/Handwriting_recognition_svm/test1/images/f/f_07.png', '/home/syedjafer/Documents/Handwriting_recognition_svm/test1/images/f/f_08.png', '/home/syedjafer/Documents/Handwriting_recognition_svm/test1/images/f/f_05.png', '/home/syedjafer/Documents/Handwriting_recognition_svm/test1/images/f/f_11.png', '/home/syedjafer/Documents/Handwriting_recognition_svm/test1/images/f/f_24.png', '/home/syedjafer/Documents/Handwriting_recognition_svm/test1/images/f/f_06.png', '/home/syedjafer/Documents/Handwriting_recognition_svm/test1/images/f/f_13.png', '/home/syedjafer/Documents/Handwriting_recognition_svm/test1/images/f/f_19.png', '/home/syedjafer/Documents/Handwriting_recognition_svm/test1/images/f/f_14.png', '/home/syedjafer/Documents/Handwriting_recognition_svm/test1/images/f/f_23.png', '/home/syedjafer/Documents/Handwriting_recognition_svm/test1/images/f/f_09.png', '/home/syedjafer/Documents/Handwriting_recognition_svm/test1/images/f/f_20.png', '/home/syedjafer/Documents/Handwriting_recognition_svm/test1/images/f/f_10.png', '/home/syedjafer/Documents/Handwriting_recognition_svm/test1/images/f/f_16.png', '/home/syedjafer/Documents/Handwriting_recognition_svm/test1/images/f/f_15.png', '/home/syedjafer/Documents/Handwriting_recognition_svm/test1/images/f/f_04.png', '/home/syedjafer/Documents/Handwriting_recognition_svm/test1/images/f/f_02.png', '/home/syedjafer/Documents/Handwriting_recognition_svm/test1/images/f/f_26.png', '/home/syedjafer/Documents/Handwriting_recognition_svm/test1/images/f/f_12.png', '/home/syedjafer/Documents/Handwriting_recognition_svm/test1/images/g/g_05.png', '/home/syedjafer/Documents/Handwriting_recognition_svm/test1/images/g/g_01.png', '/home/syedjafer/Documents/Handwriting_recognition_svm/test1/images/g/g_02.png', '/home/syedjafer/Documents/Handwriting_recognition_svm/test1/images/g/g_17.png', '/home/syedjafer/Documents/Handwriting_recognition_svm/test1/images/g/g_1`.png', '/home/syedjafer/Documents/Handwriting_recognition_svm/test1/images/g/g_07.png', '/home/syedjafer/Documents/Handwriting_recognition_svm/test1/images/g/g_24.png', '/home/syedjafer/Documents/Handwriting_recognition_svm/test1/images/g/g_06.png', '/home/syedjafer/Documents/Handwriting_recognition_svm/test1/images/g/g_10.png', '/home/syedjafer/Documents/Handwriting_recognition_svm/test1/images/g/g_16.png', '/home/syedjafer/Documents/Handwriting_recognition_svm/test1/images/g/g_09.png', '/home/syedjafer/Documents/Handwriting_recognition_svm/test1/images/g/g_22.png', '/home/syedjafer/Documents/Handwriting_recognition_svm/test1/images/g/g_12.png', '/home/syedjafer/Documents/Handwriting_recognition_svm/test1/images/g/g_14.png', '/home/syedjafer/Documents/Handwriting_recognition_svm/test1/images/g/g_03.png', '/home/syedjafer/Documents/Handwriting_recognition_svm/test1/images/g/g_04.png', '/home/syedjafer/Documents/Handwriting_recognition_svm/test1/images/g/g_13.png', '/home/syedjafer/Documents/Handwriting_recognition_svm/test1/images/g/g_11.png', '/home/syedjafer/Documents/Handwriting_recognition_svm/test1/images/g/g_00.png', '/home/syedjafer/Documents/Handwriting_recognition_svm/test1/images/g/g_18.png', '/home/syedjafer/Documents/Handwriting_recognition_svm/test1/images/g/g_21.png', '/home/syedjafer/Documents/Handwriting_recognition_svm/test1/images/g/g_19.png', '/home/syedjafer/Documents/Handwriting_recognition_svm/test1/images/g/g_23.png', '/home/syedjafer/Documents/Handwriting_recognition_svm/test1/images/g/g_08.png', '/home/syedjafer/Documents/Handwriting_recognition_svm/test1/images/g/g_20.png', '/home/syedjafer/Documents/Handwriting_recognition_svm/test1/images/g/g_15.png']\n",
      "/home/syedjafer/Documents/Handwriting_recognition_svm/test1/images/h/\n",
      "['/home/syedjafer/Documents/Handwriting_recognition_svm/test1/images/b/b_09.png', '/home/syedjafer/Documents/Handwriting_recognition_svm/test1/images/b/b_03.png', '/home/syedjafer/Documents/Handwriting_recognition_svm/test1/images/b/b_24.png', '/home/syedjafer/Documents/Handwriting_recognition_svm/test1/images/b/b_16.png', '/home/syedjafer/Documents/Handwriting_recognition_svm/test1/images/b/b_10.png', '/home/syedjafer/Documents/Handwriting_recognition_svm/test1/images/b/b_13.png', '/home/syedjafer/Documents/Handwriting_recognition_svm/test1/images/b/b_21.png', '/home/syedjafer/Documents/Handwriting_recognition_svm/test1/images/b/b_22.png', '/home/syedjafer/Documents/Handwriting_recognition_svm/test1/images/b/b_23.png', '/home/syedjafer/Documents/Handwriting_recognition_svm/test1/images/b/b_14.png', '/home/syedjafer/Documents/Handwriting_recognition_svm/test1/images/b/b_08.png', '/home/syedjafer/Documents/Handwriting_recognition_svm/test1/images/b/b_07.png', '/home/syedjafer/Documents/Handwriting_recognition_svm/test1/images/b/b_19.png', '/home/syedjafer/Documents/Handwriting_recognition_svm/test1/images/b/b_18.png', '/home/syedjafer/Documents/Handwriting_recognition_svm/test1/images/b/b_02.png', '/home/syedjafer/Documents/Handwriting_recognition_svm/test1/images/b/b_06.png', '/home/syedjafer/Documents/Handwriting_recognition_svm/test1/images/b/b_05.png', '/home/syedjafer/Documents/Handwriting_recognition_svm/test1/images/b/b_11.png', '/home/syedjafer/Documents/Handwriting_recognition_svm/test1/images/b/b_15.png', '/home/syedjafer/Documents/Handwriting_recognition_svm/test1/images/b/b_17.png', '/home/syedjafer/Documents/Handwriting_recognition_svm/test1/images/b/b_04.png', '/home/syedjafer/Documents/Handwriting_recognition_svm/test1/images/b/b_12.png', '/home/syedjafer/Documents/Handwriting_recognition_svm/test1/images/b/b_20.png', '/home/syedjafer/Documents/Handwriting_recognition_svm/test1/images/b/b_01.png', '/home/syedjafer/Documents/Handwriting_recognition_svm/test1/images/c/c_03.png', '/home/syedjafer/Documents/Handwriting_recognition_svm/test1/images/c/c_07.png', '/home/syedjafer/Documents/Handwriting_recognition_svm/test1/images/c/c_18.png', '/home/syedjafer/Documents/Handwriting_recognition_svm/test1/images/c/c_16.png', '/home/syedjafer/Documents/Handwriting_recognition_svm/test1/images/c/c_14.png', '/home/syedjafer/Documents/Handwriting_recognition_svm/test1/images/c/c_10.png', '/home/syedjafer/Documents/Handwriting_recognition_svm/test1/images/c/c_05.png', '/home/syedjafer/Documents/Handwriting_recognition_svm/test1/images/c/c_00.png', '/home/syedjafer/Documents/Handwriting_recognition_svm/test1/images/c/c_02.png', '/home/syedjafer/Documents/Handwriting_recognition_svm/test1/images/c/c_08.png', '/home/syedjafer/Documents/Handwriting_recognition_svm/test1/images/c/c_09.png', '/home/syedjafer/Documents/Handwriting_recognition_svm/test1/images/c/c_17.png', '/home/syedjafer/Documents/Handwriting_recognition_svm/test1/images/c/c_01.png', '/home/syedjafer/Documents/Handwriting_recognition_svm/test1/images/c/c_12.png', '/home/syedjafer/Documents/Handwriting_recognition_svm/test1/images/c/c_19.png', '/home/syedjafer/Documents/Handwriting_recognition_svm/test1/images/c/c_23.png', '/home/syedjafer/Documents/Handwriting_recognition_svm/test1/images/c/c_04.png', '/home/syedjafer/Documents/Handwriting_recognition_svm/test1/images/c/c_21.png', '/home/syedjafer/Documents/Handwriting_recognition_svm/test1/images/c/c_13.png', '/home/syedjafer/Documents/Handwriting_recognition_svm/test1/images/c/c_20.png', '/home/syedjafer/Documents/Handwriting_recognition_svm/test1/images/c/c_06.png', '/home/syedjafer/Documents/Handwriting_recognition_svm/test1/images/c/c_11.png', '/home/syedjafer/Documents/Handwriting_recognition_svm/test1/images/c/c_22.png', '/home/syedjafer/Documents/Handwriting_recognition_svm/test1/images/c/c_15.png', '/home/syedjafer/Documents/Handwriting_recognition_svm/test1/images/d/d_05.png', '/home/syedjafer/Documents/Handwriting_recognition_svm/test1/images/d/d_10.png', '/home/syedjafer/Documents/Handwriting_recognition_svm/test1/images/d/d_01.png', '/home/syedjafer/Documents/Handwriting_recognition_svm/test1/images/d/d_19.png', '/home/syedjafer/Documents/Handwriting_recognition_svm/test1/images/d/d_06.png', '/home/syedjafer/Documents/Handwriting_recognition_svm/test1/images/d/d_04.png', '/home/syedjafer/Documents/Handwriting_recognition_svm/test1/images/d/d_11.png', '/home/syedjafer/Documents/Handwriting_recognition_svm/test1/images/d/d_12.png', '/home/syedjafer/Documents/Handwriting_recognition_svm/test1/images/d/d_14.png', '/home/syedjafer/Documents/Handwriting_recognition_svm/test1/images/d/d_16.png', '/home/syedjafer/Documents/Handwriting_recognition_svm/test1/images/d/d_18.png', '/home/syedjafer/Documents/Handwriting_recognition_svm/test1/images/d/d_00.png', '/home/syedjafer/Documents/Handwriting_recognition_svm/test1/images/d/d_08.png', '/home/syedjafer/Documents/Handwriting_recognition_svm/test1/images/d/d_13.png', '/home/syedjafer/Documents/Handwriting_recognition_svm/test1/images/d/d_02.png', '/home/syedjafer/Documents/Handwriting_recognition_svm/test1/images/d/d_15.png', '/home/syedjafer/Documents/Handwriting_recognition_svm/test1/images/d/d_09.png', '/home/syedjafer/Documents/Handwriting_recognition_svm/test1/images/d/d_03.png', '/home/syedjafer/Documents/Handwriting_recognition_svm/test1/images/d/d_17.png', '/home/syedjafer/Documents/Handwriting_recognition_svm/test1/images/d/d_07.png', '/home/syedjafer/Documents/Handwriting_recognition_svm/test1/images/e/e_06.png', '/home/syedjafer/Documents/Handwriting_recognition_svm/test1/images/e/e_07.png', '/home/syedjafer/Documents/Handwriting_recognition_svm/test1/images/e/e_13.png', '/home/syedjafer/Documents/Handwriting_recognition_svm/test1/images/e/e_02.png', '/home/syedjafer/Documents/Handwriting_recognition_svm/test1/images/e/e_15.png', '/home/syedjafer/Documents/Handwriting_recognition_svm/test1/images/e/e_19.png', '/home/syedjafer/Documents/Handwriting_recognition_svm/test1/images/e/e_16.png', '/home/syedjafer/Documents/Handwriting_recognition_svm/test1/images/e/e_20.png', '/home/syedjafer/Documents/Handwriting_recognition_svm/test1/images/e/e_10.png', '/home/syedjafer/Documents/Handwriting_recognition_svm/test1/images/e/e_09.png', '/home/syedjafer/Documents/Handwriting_recognition_svm/test1/images/e/e_17.png', '/home/syedjafer/Documents/Handwriting_recognition_svm/test1/images/e/e_00.png', '/home/syedjafer/Documents/Handwriting_recognition_svm/test1/images/e/e_01.png', '/home/syedjafer/Documents/Handwriting_recognition_svm/test1/images/e/e_08.png', '/home/syedjafer/Documents/Handwriting_recognition_svm/test1/images/e/e_05.png', '/home/syedjafer/Documents/Handwriting_recognition_svm/test1/images/e/e_03.png', '/home/syedjafer/Documents/Handwriting_recognition_svm/test1/images/e/e_12.png', '/home/syedjafer/Documents/Handwriting_recognition_svm/test1/images/e/e_11.png', '/home/syedjafer/Documents/Handwriting_recognition_svm/test1/images/e/e_04.png', '/home/syedjafer/Documents/Handwriting_recognition_svm/test1/images/e/e_14.png', '/home/syedjafer/Documents/Handwriting_recognition_svm/test1/images/e/e_18.png', '/home/syedjafer/Documents/Handwriting_recognition_svm/test1/images/e/e_21.png', '/home/syedjafer/Documents/Handwriting_recognition_svm/test1/images/f/f_18.png', '/home/syedjafer/Documents/Handwriting_recognition_svm/test1/images/f/f_03.png', '/home/syedjafer/Documents/Handwriting_recognition_svm/test1/images/f/f_25.png', '/home/syedjafer/Documents/Handwriting_recognition_svm/test1/images/f/f_01.png', '/home/syedjafer/Documents/Handwriting_recognition_svm/test1/images/f/f_00.png', '/home/syedjafer/Documents/Handwriting_recognition_svm/test1/images/f/f_21.png', '/home/syedjafer/Documents/Handwriting_recognition_svm/test1/images/f/f_22.png', '/home/syedjafer/Documents/Handwriting_recognition_svm/test1/images/f/f_17.png', '/home/syedjafer/Documents/Handwriting_recognition_svm/test1/images/f/f_07.png', '/home/syedjafer/Documents/Handwriting_recognition_svm/test1/images/f/f_08.png', '/home/syedjafer/Documents/Handwriting_recognition_svm/test1/images/f/f_05.png', '/home/syedjafer/Documents/Handwriting_recognition_svm/test1/images/f/f_11.png', '/home/syedjafer/Documents/Handwriting_recognition_svm/test1/images/f/f_24.png', '/home/syedjafer/Documents/Handwriting_recognition_svm/test1/images/f/f_06.png', '/home/syedjafer/Documents/Handwriting_recognition_svm/test1/images/f/f_13.png', '/home/syedjafer/Documents/Handwriting_recognition_svm/test1/images/f/f_19.png', '/home/syedjafer/Documents/Handwriting_recognition_svm/test1/images/f/f_14.png', '/home/syedjafer/Documents/Handwriting_recognition_svm/test1/images/f/f_23.png', '/home/syedjafer/Documents/Handwriting_recognition_svm/test1/images/f/f_09.png', '/home/syedjafer/Documents/Handwriting_recognition_svm/test1/images/f/f_20.png', '/home/syedjafer/Documents/Handwriting_recognition_svm/test1/images/f/f_10.png', '/home/syedjafer/Documents/Handwriting_recognition_svm/test1/images/f/f_16.png', '/home/syedjafer/Documents/Handwriting_recognition_svm/test1/images/f/f_15.png', '/home/syedjafer/Documents/Handwriting_recognition_svm/test1/images/f/f_04.png', '/home/syedjafer/Documents/Handwriting_recognition_svm/test1/images/f/f_02.png', '/home/syedjafer/Documents/Handwriting_recognition_svm/test1/images/f/f_26.png', '/home/syedjafer/Documents/Handwriting_recognition_svm/test1/images/f/f_12.png', '/home/syedjafer/Documents/Handwriting_recognition_svm/test1/images/g/g_05.png', '/home/syedjafer/Documents/Handwriting_recognition_svm/test1/images/g/g_01.png', '/home/syedjafer/Documents/Handwriting_recognition_svm/test1/images/g/g_02.png', '/home/syedjafer/Documents/Handwriting_recognition_svm/test1/images/g/g_17.png', '/home/syedjafer/Documents/Handwriting_recognition_svm/test1/images/g/g_1`.png', '/home/syedjafer/Documents/Handwriting_recognition_svm/test1/images/g/g_07.png', '/home/syedjafer/Documents/Handwriting_recognition_svm/test1/images/g/g_24.png', '/home/syedjafer/Documents/Handwriting_recognition_svm/test1/images/g/g_06.png', '/home/syedjafer/Documents/Handwriting_recognition_svm/test1/images/g/g_10.png', '/home/syedjafer/Documents/Handwriting_recognition_svm/test1/images/g/g_16.png', '/home/syedjafer/Documents/Handwriting_recognition_svm/test1/images/g/g_09.png', '/home/syedjafer/Documents/Handwriting_recognition_svm/test1/images/g/g_22.png', '/home/syedjafer/Documents/Handwriting_recognition_svm/test1/images/g/g_12.png', '/home/syedjafer/Documents/Handwriting_recognition_svm/test1/images/g/g_14.png', '/home/syedjafer/Documents/Handwriting_recognition_svm/test1/images/g/g_03.png', '/home/syedjafer/Documents/Handwriting_recognition_svm/test1/images/g/g_04.png', '/home/syedjafer/Documents/Handwriting_recognition_svm/test1/images/g/g_13.png', '/home/syedjafer/Documents/Handwriting_recognition_svm/test1/images/g/g_11.png', '/home/syedjafer/Documents/Handwriting_recognition_svm/test1/images/g/g_00.png', '/home/syedjafer/Documents/Handwriting_recognition_svm/test1/images/g/g_18.png', '/home/syedjafer/Documents/Handwriting_recognition_svm/test1/images/g/g_21.png', '/home/syedjafer/Documents/Handwriting_recognition_svm/test1/images/g/g_19.png', '/home/syedjafer/Documents/Handwriting_recognition_svm/test1/images/g/g_23.png', '/home/syedjafer/Documents/Handwriting_recognition_svm/test1/images/g/g_08.png', '/home/syedjafer/Documents/Handwriting_recognition_svm/test1/images/g/g_20.png', '/home/syedjafer/Documents/Handwriting_recognition_svm/test1/images/g/g_15.png', '/home/syedjafer/Documents/Handwriting_recognition_svm/test1/images/h/h_20.png', '/home/syedjafer/Documents/Handwriting_recognition_svm/test1/images/h/h_05.png', '/home/syedjafer/Documents/Handwriting_recognition_svm/test1/images/h/h_17.png', '/home/syedjafer/Documents/Handwriting_recognition_svm/test1/images/h/h_10.png', '/home/syedjafer/Documents/Handwriting_recognition_svm/test1/images/h/h_13.png', '/home/syedjafer/Documents/Handwriting_recognition_svm/test1/images/h/h_16.png', '/home/syedjafer/Documents/Handwriting_recognition_svm/test1/images/h/h_04.png', '/home/syedjafer/Documents/Handwriting_recognition_svm/test1/images/h/h_11.png', '/home/syedjafer/Documents/Handwriting_recognition_svm/test1/images/h/h_21.png', '/home/syedjafer/Documents/Handwriting_recognition_svm/test1/images/h/h_09.png', '/home/syedjafer/Documents/Handwriting_recognition_svm/test1/images/h/h_12.png', '/home/syedjafer/Documents/Handwriting_recognition_svm/test1/images/h/h_03.png', '/home/syedjafer/Documents/Handwriting_recognition_svm/test1/images/h/h_00.png', '/home/syedjafer/Documents/Handwriting_recognition_svm/test1/images/h/h_18.png', '/home/syedjafer/Documents/Handwriting_recognition_svm/test1/images/h/h_06.png', '/home/syedjafer/Documents/Handwriting_recognition_svm/test1/images/h/h_08.png', '/home/syedjafer/Documents/Handwriting_recognition_svm/test1/images/h/h_22.png', '/home/syedjafer/Documents/Handwriting_recognition_svm/test1/images/h/h_15.png', '/home/syedjafer/Documents/Handwriting_recognition_svm/test1/images/h/h_14.png', '/home/syedjafer/Documents/Handwriting_recognition_svm/test1/images/h/h_01.png', '/home/syedjafer/Documents/Handwriting_recognition_svm/test1/images/h/h_07.png', '/home/syedjafer/Documents/Handwriting_recognition_svm/test1/images/h/h_19.png', '/home/syedjafer/Documents/Handwriting_recognition_svm/test1/images/h/h_02.png']\n"
     ]
    }
   ],
   "source": [
    "#to get all files in images folder \n",
    "for level in range(folder_depth):\n",
    "    folder = chr(ord(\"b\")+level)\n",
    "    print (image_location+folder+\"/\")\n",
    "    label_len = len(glob.glob(image_location+folder+\"/\"+\"*.png\"))\n",
    "    files = files + glob.glob(image_location+folder+\"/\"+\"*.png\")\n",
    "    print(files)\n",
    "    image_y = image_y + [folder] * (label_len)"
   ]
  },
  {
   "cell_type": "code",
   "execution_count": 25,
   "metadata": {},
   "outputs": [
    {
     "name": "stdout",
     "output_type": "stream",
     "text": [
      "['b', 'b', 'b', 'b', 'b', 'b', 'b', 'b', 'b', 'b', 'b', 'b', 'b', 'b', 'b', 'b', 'b', 'b', 'b', 'b', 'b', 'b', 'b', 'b', 'c', 'c', 'c', 'c', 'c', 'c', 'c', 'c', 'c', 'c', 'c', 'c', 'c', 'c', 'c', 'c', 'c', 'c', 'c', 'c', 'c', 'c', 'c', 'c', 'd', 'd', 'd', 'd', 'd', 'd', 'd', 'd', 'd', 'd', 'd', 'd', 'd', 'd', 'd', 'd', 'd', 'd', 'd', 'd', 'e', 'e', 'e', 'e', 'e', 'e', 'e', 'e', 'e', 'e', 'e', 'e', 'e', 'e', 'e', 'e', 'e', 'e', 'e', 'e', 'e', 'e', 'f', 'f', 'f', 'f', 'f', 'f', 'f', 'f', 'f', 'f', 'f', 'f', 'f', 'f', 'f', 'f', 'f', 'f', 'f', 'f', 'f', 'f', 'f', 'f', 'f', 'f', 'f', 'g', 'g', 'g', 'g', 'g', 'g', 'g', 'g', 'g', 'g', 'g', 'g', 'g', 'g', 'g', 'g', 'g', 'g', 'g', 'g', 'g', 'g', 'g', 'g', 'g', 'g', 'h', 'h', 'h', 'h', 'h', 'h', 'h', 'h', 'h', 'h', 'h', 'h', 'h', 'h', 'h', 'h', 'h', 'h', 'h', 'h', 'h', 'h', 'h']\n"
     ]
    }
   ],
   "source": [
    "print(image_y)"
   ]
  },
  {
   "cell_type": "code",
   "execution_count": 45,
   "metadata": {},
   "outputs": [
    {
     "name": "stdout",
     "output_type": "stream",
     "text": [
      "166\n"
     ]
    }
   ],
   "source": [
    "# adding images to numpy arrays \n",
    "for file in files:\n",
    "    image = cv2.imread(file,0) # 0 for grayscale 2D array\n",
    "    image_x.append(image.flatten().tolist())\n",
    "print(len(image_x))"
   ]
  },
  {
   "cell_type": "code",
   "execution_count": 6,
   "metadata": {},
   "outputs": [
    {
     "name": "stderr",
     "output_type": "stream",
     "text": [
      "IOPub data rate exceeded.\n",
      "The notebook server will temporarily stop sending output\n",
      "to the client in order to avoid crashing it.\n",
      "To change this limit, set the config variable\n",
      "`--NotebookApp.iopub_data_rate_limit`.\n",
      "\n",
      "Current values:\n",
      "NotebookApp.iopub_data_rate_limit=1000000.0 (bytes/sec)\n",
      "NotebookApp.rate_limit_window=3.0 (secs)\n",
      "\n"
     ]
    }
   ],
   "source": [
    "print (image_x)"
   ]
  },
  {
   "cell_type": "code",
   "execution_count": 39,
   "metadata": {},
   "outputs": [],
   "source": [
    "# decalring test size and seed \n",
    "test_size = 0.33\n",
    "seed = 7"
   ]
  },
  {
   "cell_type": "code",
   "execution_count": 46,
   "metadata": {},
   "outputs": [],
   "source": [
    "X = np.array(image_x , dtype=\"uint8\")"
   ]
  },
  {
   "cell_type": "code",
   "execution_count": 47,
   "metadata": {},
   "outputs": [],
   "source": [
    "image_y = np.array(image_y)"
   ]
  },
  {
   "cell_type": "code",
   "execution_count": 48,
   "metadata": {},
   "outputs": [],
   "source": [
    "x_train , x_test , y_train , y_test  = model_selection.train_test_split(image_x, image_y, test_size=test_size, random_state=seed)"
   ]
  },
  {
   "cell_type": "code",
   "execution_count": 51,
   "metadata": {},
   "outputs": [
    {
     "data": {
      "text/plain": [
       "SVC(C=1, cache_size=200, class_weight=None, coef0=0.0,\n",
       "  decision_function_shape='ovr', degree=3, gamma='auto_deprecated',\n",
       "  kernel='linear', max_iter=-1, probability=False, random_state=None,\n",
       "  shrinking=True, tol=0.001, verbose=False)"
      ]
     },
     "execution_count": 51,
     "metadata": {},
     "output_type": "execute_result"
    }
   ],
   "source": [
    "clf = svm.SVC(kernel = 'linear', C = 1)\n",
    "clf.fit(x_train, y_train)"
   ]
  },
  {
   "cell_type": "code",
   "execution_count": 52,
   "metadata": {},
   "outputs": [
    {
     "name": "stdout",
     "output_type": "stream",
     "text": [
      "['f' 'h' 'b' 'g' 'f' 'h' 'f' 'h' 'e' 'g' 'e' 'b' 'h' 'e' 'c' 'b' 'c' 'g'\n",
      " 'e' 'd' 'h' 'c' 'f' 'd' 'f' 'd' 'b' 'd' 'b' 'b' 'h' 'e' 'b' 'b' 'b' 'c'\n",
      " 'd' 'h' 'f' 'g' 'b' 'd' 'g' 'b' 'c' 'e' 'g' 'e' 'f' 'd' 'c' 'c' 'h' 'g'\n",
      " 'c' 'h' 'f' 'f' 'h' 'f' 'g' 'f' 'b' 'f' 'g' 'g' 'g' 'b' 'd' 'd' 'c' 'f'\n",
      " 'b' 'h' 'e' 'h' 'f' 'g' 'b' 'e' 'h' 'e' 'g' 'b' 'c' 'h' 'c' 'f' 'd' 'e'\n",
      " 'c' 'b' 'b' 'd' 'e' 'b' 'g' 'g' 'e' 'g' 'c' 'f' 'e' 'e' 'b' 'g' 'f' 'f'\n",
      " 'h' 'd' 'c']\n"
     ]
    }
   ],
   "source": [
    "print(y_train)"
   ]
  },
  {
   "cell_type": "code",
   "execution_count": 54,
   "metadata": {},
   "outputs": [
    {
     "data": {
      "text/plain": [
       "['svm_dataset']"
      ]
     },
     "execution_count": 54,
     "metadata": {},
     "output_type": "execute_result"
    }
   ],
   "source": [
    "filename = \"svm_dataset\"\n",
    "joblib.dump(clf,filename)"
   ]
  },
  {
   "cell_type": "code",
   "execution_count": 53,
   "metadata": {},
   "outputs": [
    {
     "name": "stdout",
     "output_type": "stream",
     "text": [
      "['d'] => d \n",
      "\n",
      "['f'] => f \n",
      "\n",
      "['g'] => g \n",
      "\n",
      "['c'] => c \n",
      "\n",
      "['d'] => d \n",
      "\n",
      "['e'] => e \n",
      "\n",
      "['e'] => e \n",
      "\n",
      "['h'] => h \n",
      "\n",
      "['h'] => h \n",
      "\n",
      "['f'] => f \n",
      "\n",
      "['h'] => h \n",
      "\n",
      "['g'] => g \n",
      "\n",
      "['f'] => h \n",
      "\n",
      "['c'] => c \n",
      "\n",
      "['h'] => h \n",
      "\n",
      "['g'] => g \n",
      "\n",
      "['b'] => b \n",
      "\n",
      "['f'] => f \n",
      "\n",
      "['g'] => g \n",
      "\n",
      "['c'] => f \n",
      "\n",
      "['c'] => e \n",
      "\n",
      "['c'] => c \n",
      "\n",
      "['b'] => f \n",
      "\n",
      "['g'] => g \n",
      "\n",
      "['b'] => c \n",
      "\n",
      "['f'] => f \n",
      "\n",
      "['b'] => b \n",
      "\n",
      "['c'] => f \n",
      "\n",
      "['f'] => e \n",
      "\n",
      "['e'] => e \n",
      "\n",
      "['c'] => e \n",
      "\n",
      "['g'] => g \n",
      "\n",
      "['g'] => g \n",
      "\n",
      "['h'] => h \n",
      "\n",
      "['c'] => c \n",
      "\n",
      "['f'] => d \n",
      "\n",
      "['f'] => f \n",
      "\n",
      "['d'] => d \n",
      "\n",
      "['c'] => f \n",
      "\n",
      "['g'] => g \n",
      "\n",
      "['d'] => d \n",
      "\n",
      "['c'] => c \n",
      "\n",
      "['c'] => c \n",
      "\n",
      "['f'] => d \n",
      "\n",
      "['h'] => h \n",
      "\n",
      "['g'] => g \n",
      "\n",
      "['b'] => b \n",
      "\n",
      "['h'] => h \n",
      "\n",
      "['c'] => c \n",
      "\n",
      "['e'] => e \n",
      "\n",
      "['b'] => d \n",
      "\n",
      "['c'] => c \n",
      "\n",
      "['b'] => d \n",
      "\n",
      "['c'] => c \n",
      "\n",
      "['h'] => b \n",
      "\n"
     ]
    }
   ],
   "source": [
    "for xx , yy in zip(x_test,y_test):\n",
    "    print(clf.predict(np.array(xx).reshape(1,-1)),\"=>\",yy,\"\\n\",)"
   ]
  },
  {
   "cell_type": "code",
   "execution_count": 56,
   "metadata": {},
   "outputs": [
    {
     "name": "stdout",
     "output_type": "stream",
     "text": [
      "0.7454545454545455\n"
     ]
    }
   ],
   "source": [
    "loaded_model = joblib.load(filename)\n",
    "result = loaded_model.score(x_test, y_test)\n",
    "print(result)"
   ]
  },
  {
   "cell_type": "code",
   "execution_count": null,
   "metadata": {},
   "outputs": [],
   "source": []
  }
 ],
 "metadata": {
  "kernelspec": {
   "display_name": "Python 3",
   "language": "python",
   "name": "python3"
  },
  "language_info": {
   "codemirror_mode": {
    "name": "ipython",
    "version": 3
   },
   "file_extension": ".py",
   "mimetype": "text/x-python",
   "name": "python",
   "nbconvert_exporter": "python",
   "pygments_lexer": "ipython3",
   "version": "3.6.6"
  }
 },
 "nbformat": 4,
 "nbformat_minor": 2
}
