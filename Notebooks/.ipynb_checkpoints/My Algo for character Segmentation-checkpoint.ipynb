{
 "cells": [
  {
   "cell_type": "markdown",
   "metadata": {},
   "source": [
    "### STEPS TO BE FOLLOWED \n",
    "1. Read the image \n",
    "2. Convert to gray scale and binary \n",
    "3. Perform series of erosion and dilation \n",
    "4. Do Contour Analysis  and find the contour \n",
    "5. If the specified contour is greater than the threshold value of image pixel skelitonize and find SP (Segmentation Points)\n",
    "6. Separate the characters and find the contour in them\n"
   ]
  },
  {
   "cell_type": "markdown",
   "metadata": {},
   "source": [
    "## 1. Read the image"
   ]
  },
  {
   "cell_type": "code",
   "execution_count": 2,
   "metadata": {},
   "outputs": [],
   "source": [
    "import cv2\n",
    "import numpy as np\n",
    "import matplotlib.pyplot as plt\n",
    "%matplotlib inline"
   ]
  },
  {
   "cell_type": "code",
   "execution_count": 3,
   "metadata": {},
   "outputs": [],
   "source": [
    "image_location = \"test_img/cat.png\""
   ]
  },
  {
   "cell_type": "code",
   "execution_count": 4,
   "metadata": {},
   "outputs": [],
   "source": [
    "input_image = cv2.imread(image_location)"
   ]
  },
  {
   "cell_type": "markdown",
   "metadata": {},
   "source": [
    "## 2. Convert to gray scale and binary "
   ]
  },
  {
   "cell_type": "code",
   "execution_count": 6,
   "metadata": {},
   "outputs": [
    {
     "data": {
      "image/png": "[encoded data removed]",
      "text/plain": [
       "<Figure size 432x288 with 1 Axes>"
      ]
     },
     "metadata": {
      "needs_background": "light"
     },
     "output_type": "display_data"
    }
   ],
   "source": [
    "#grayscale\n",
    "gray = cv2.cvtColor(input_image,cv2.COLOR_BGR2GRAY)\n",
    "plt.imshow(gray)\n",
    "#binary\n",
    "ret,thresh = cv2.threshold(gray,127,255,cv2.THRESH_BINARY)\n",
    "plt.imshow(thresh)\n",
    "thresh = cv2.erode(thresh,None,iterations=3)\n",
    "plt.imshow(thresh)\n",
    "cv2.imwrite(\"test_img/thresh_cat.png\",thresh)\n",
    "plt.show()"
   ]
  },
  {
   "cell_type": "code",
   "execution_count": null,
   "metadata": {},
   "outputs": [],
   "source": [
    "import numpy as np\n",
    "import cv2\n",
    "from imutils import resize\n",
    "from imutils.contours import sort_contours\n",
    "\n",
    "from skimage.morphology import skeletonize as skl\n",
    "\n",
    "path = 'test_img/cat.png'\n",
    "img = cv2.imread(path, 0)\n",
    "# Some smoothing to get rid of the noise\n",
    "# img = cv2.bilateralFilter(img, 5, 35, 10)\n",
    "img = cv2.GaussianBlur(img, (3, 3), 3)\n",
    "img = resize(img, width=700)\n",
    "\n",
    "# Preprocessing to get the shapes\n",
    "th = cv2.adaptiveThreshold(img, 255, cv2.ADAPTIVE_THRESH_GAUSSIAN_C,\n",
    "                           cv2.THRESH_BINARY, 35, 11)\n",
    "# Invert to hightligth the shape\n",
    "th = cv2.bitwise_not(th)\n",
    "\n",
    "# Text has mostly vertical and right-inclined lines. This kernel seems to\n",
    "# work quite well\n",
    "kernel = np.array([[0, 1, 1],\n",
    "                  [0, 1, 0],\n",
    "                  [1, 1, 0]], dtype='uint8')\n",
    "\n",
    "th = cv2.morphologyEx(th, cv2.MORPH_CLOSE, kernel)\n",
    "\n",
    "cv2.imshow('mask', th)\n",
    "cv2.waitKey(0)\n",
    "\n",
    "\n",
    "#def contour_sorter(contours):\n",
    "#    '''Sort the contours by multiplying the y-coordinate and sorting first by\n",
    "#    x, then by y-coordinate.'''\n",
    "#    boxes = [cv2.boundingRect(c) for c in contours]\n",
    "#    cnt = [4*y, x for y, x, , _, _ in ]\n",
    "\n",
    "# Skeletonize the shapes\n",
    "# Skimage function takes image with either True, False or 0,1\n",
    "# and returns and image with values 0, 1.\n",
    "th = th == 255\n",
    "th = skl(th)\n",
    "th = th.astype(np.uint8)*255\n",
    "\n",
    "# Find contours of the skeletons\n",
    "_, contours, _ = cv2.findContours(th.copy(), cv2.RETR_EXTERNAL,\n",
    "                                  cv2.CHAIN_APPROX_NONE)\n",
    "# Sort the contours left-to-rigth\n",
    "contours, _ = sort_contours(contours, )\n",
    "#\n",
    "# Sort them again top-to-bottom\n",
    "\n",
    "\n",
    "def skeleton_endpoints(skel):\n",
    "    # Function source: https://stackoverflow.com/questions/26537313/\n",
    "    # how-can-i-find-endpoints-of-binary-skeleton-image-in-opencv\n",
    "    # make out input nice, possibly necessary\n",
    "    skel = skel.copy()\n",
    "    skel[skel != 0] = 1\n",
    "    skel = np.uint8(skel)\n",
    "\n",
    "    # apply the convolution\n",
    "    kernel = np.uint8([[1,  1, 1],\n",
    "                       [1, 10, 1],\n",
    "                       [1,  1, 1]])\n",
    "    src_depth = -1\n",
    "    filtered = cv2.filter2D(skel, src_depth,kernel)\n",
    "\n",
    "    # now look through to find the value of 11\n",
    "    # this returns a mask of the endpoints, but if you just want the\n",
    "    # coordinates, you could simply return np.where(filtered==11)\n",
    "    out = np.zeros_like(skel)\n",
    "    out[np.where(filtered == 11)] = 1\n",
    "    rows, cols = np.where(filtered == 11)\n",
    "    coords = list(zip(cols, rows))\n",
    "    return coords\n",
    "\n",
    "# List for endpoints\n",
    "endpoints = []\n",
    "# List for (x, y) coordinates of the skeletons\n",
    "skeletons = []\n",
    "\n",
    "\n",
    "\n",
    "for contour in contours:\n",
    "    if cv2.arcLength(contour, True) > 100:\n",
    "        # Initialize mask\n",
    "        mask = np.zeros(img.shape, np.uint8)\n",
    "        # Bounding rect of the contour\n",
    "        x, y, w, h = cv2.boundingRect(contour)\n",
    "        mask[y:y+h, x:x+w] = 255\n",
    "        # Get only the skeleton in the mask area\n",
    "        mask = cv2.bitwise_and(mask, th)\n",
    "        # Take the coordinates of the skeleton points\n",
    "        rows, cols = np.where(mask == 255)\n",
    "        # Add the coordinates to the list\n",
    "        skeletons.append(list(zip(cols, rows)))\n",
    "        \n",
    "\n",
    "        # Find the endpoints for the shape and update a list\n",
    "        eps = skeleton_endpoints(mask)\n",
    "        endpoints.append(eps)\n",
    "\n",
    "        # Draw the endpoints\n",
    "#         [cv2.circle(th, ep, 5, 255, 1) for ep in eps]\n",
    "        cv2.imshow('mask', mask)\n",
    "        cv2.waitKey(500)\n",
    "cv2.imwrite(\"res/skl_cat.png\",th)# Stack the original and modified\n",
    "th = resize(np.hstack((img, th)), 1200)\n",
    "\n",
    "\n",
    "#    cv2.waitKey(50)\n",
    "\n",
    "# TODO\n",
    "# Walk the points using the endpoints by minimizing the walked distance\n",
    "# Points in between can be used many times, endpoints only once\n",
    "cv2.imshow('mask', th)\n",
    "cv2.waitKey(0)\n",
    "cv2.destroyAllWindows()\n"
   ]
  },
  {
   "cell_type": "markdown",
   "metadata": {},
   "source": [
    "## 3. Perform series of erosion and dilation "
   ]
  },
  {
   "cell_type": "code",
   "execution_count": null,
   "metadata": {},
   "outputs": [],
   "source": [
    "kernel = np.ones((5,5), np.uint8)\n",
    "dilated_img = cv2.dilate(thresh, kernel, iterations=1)\n",
    "\n",
    "thresh = cv2.dilate(thresh,kernel,iterations = 3)\n",
    "thresh = cv2.erode(thresh,kernel,iterations = 4)\n",
    "thresh = cv2.dilate(thresh,kernel,iterations = 2)\n",
    "thresh = cv2.erode(thresh,kernel,iterations = 3)\n",
    "\n",
    "\n",
    "\n"
   ]
  }
 ],
 "metadata": {
  "kernelspec": {
   "display_name": "Python 3",
   "language": "python",
   "name": "python3"
  },
  "language_info": {
   "codemirror_mode": {
    "name": "ipython",
    "version": 3
   },
   "file_extension": ".py",
   "mimetype": "text/x-python",
   "name": "python",
   "nbconvert_exporter": "python",
   "pygments_lexer": "ipython3",
   "version": "3.6.6"
  }
 },
 "nbformat": 4,
 "nbformat_minor": 2
}
