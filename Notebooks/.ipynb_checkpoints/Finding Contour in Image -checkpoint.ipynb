{
 "cells": [
  {
   "cell_type": "code",
   "execution_count": 1,
   "metadata": {},
   "outputs": [],
   "source": [
    "# Import all necessary Packages\n",
    "import cv2 \n",
    "import numpy as np\n",
    "%matplotlib inline\n",
    "import matplotlib.pyplot as plt"
   ]
  },
  {
   "cell_type": "code",
   "execution_count": 2,
   "metadata": {},
   "outputs": [
    {
     "data": {
      "text/plain": [
       "True"
      ]
     },
     "execution_count": 2,
     "metadata": {},
     "output_type": "execute_result"
    }
   ],
   "source": [
    "image_loc = \"../test-2.png\"\n",
    "img = cv2.imread(image_loc)\n",
    "gray = cv2.cvtColor(img , cv2.COLOR_BGR2GRAY)\n",
    "#threshold Image\n",
    "ret , thresh = cv2.threshold(gray , 0 , 255  , cv2.THRESH_BINARY)\n",
    "# ret , thresh = cv2.adaptiveThreshold(gray,255,cv2.ADAPTIVE_THRESH_MEAN_C,cv2.THRESH_BINARY ,41,3) \n",
    "\n",
    "\n",
    "#find contour \n",
    "image , contour , hier = cv2.findContours(thresh , cv2.RETR_TREE , cv2.CHAIN_APPROX_SIMPLE)\n",
    "file = \"ggg.png\"\n",
    "cv2.imwrite(file,thresh)\n"
   ]
  },
  {
   "cell_type": "code",
   "execution_count": 3,
   "metadata": {},
   "outputs": [
    {
     "ename": "SyntaxError",
     "evalue": "invalid syntax (<ipython-input-3-30804bd1c357>, line 15)",
     "output_type": "error",
     "traceback": [
      "\u001b[0;36m  File \u001b[0;32m\"<ipython-input-3-30804bd1c357>\"\u001b[0;36m, line \u001b[0;32m15\u001b[0m\n\u001b[0;31m    roi =\u001b[0m\n\u001b[0m          ^\u001b[0m\n\u001b[0;31mSyntaxError\u001b[0m\u001b[0;31m:\u001b[0m invalid syntax\n"
     ]
    }
   ],
   "source": [
    "val = 0\n",
    "for c in contour:\n",
    "    x,y,w,h = cv2.boundingRect(c)\n",
    "    #draw a green rectangle \n",
    "    cv2.rectangle(img , (x,y) , (x+w , y+h) , (0,255,0) , 2)\n",
    "    rect = cv2.minAreaRect(c)\n",
    "    box = cv2.boxPoints(rect)\n",
    "    box = np.int0(box)\n",
    "    cv2.drawContours(img , [box] , 0 ,(0,0,255))\n",
    "    if (w > 80 and h > 60):\n",
    "        #saving as images\n",
    "#         if()\n",
    "        roi = thresh[y:y+h+10, x:x+w+10]\n",
    "        roi = cv2.resize(roi,None,fx=0.5,fy=0.5,interpolation=cv2.INTER_AREA)\n",
    "        roi = \n",
    "        plt.imshow(roi)\n",
    "        filename = \"roi_\"+str(val)+\".png\"\n",
    "        cv2.imwrite(filename , roi)\n",
    "        val += 1\n",
    "\n",
    "print(len(contour))\n",
    "cv2.drawContours(img, contour, -1, (255, 255, 0), 1)\n",
    " \n",
    "plt.imshow( img)\n",
    "ESC = 27\n"
   ]
  },
  {
   "cell_type": "code",
   "execution_count": null,
   "metadata": {
    "scrolled": true
   },
   "outputs": [],
   "source": [
    "val = 0\n",
    "for c in contour:\n",
    "    x,y,w,h = cv2.boundingRect(c)\n",
    "    #draw a green rectangle \n",
    "    cv2.rectangle(img , (x,y) , (x+w , y+h) , (0,255,0) , 2)\n",
    "    rect = cv2.minAreaRect(c)\n",
    "    box = cv2.boxPoints(rect)\n",
    "    box = np.int0(box)\n",
    "    cv2.drawContours(img , [box] , 0 ,(0,0,255))\n",
    "#     if (w > 80 and h > 60):\n",
    "    #saving as images\n",
    "#         if()\n",
    "    roi = thresh[y:y+h, x:x+w]\n",
    "    roi = cv2.resize(roi,None,fx=0.5,fy=0.5,interpolation=cv2.INTER_AREA)\n",
    "    print (\"height\",h,\"width\",w)\n",
    "    h = h //2 \n",
    "    w = w // 2\n",
    "    print (\"height\",h,\"width\",w)\n",
    "    if((100 - h) % 2 == 0):\n",
    "        bordersize_top =  ( 100 -  (h) ) // 2\n",
    "        bordersize_bottom = bordersize_top\n",
    "        print (\"HI \")\n",
    "    else:\n",
    "        bodersize_top = (( 100 -  (h) ) // 2) + 1\n",
    "        bordersize_bottom = bordersize_top - 1 \n",
    "        print(\"else\")\n",
    "\n",
    "    if((100 - w) % 2 == 0):\n",
    "        bordersize_right = ( 100 -  (w) ) // 2\n",
    "        bordersize_left = bordersize_right\n",
    "    else:\n",
    "        bordersize_right = (( 100 -  (w) ) // 2) + 1\n",
    "        bordersize_left = bordersize_right - 1 \n",
    "\n",
    "\n",
    "    print(bordersize_top , bordersize_bottom , bordersize_left , bordersize_right)\n",
    "    mean = 255 \n",
    "    try:\n",
    "        ro = cv2.copyMakeBorder(roi, top=bordersize_top, bottom=bordersize_bottom, left=bordersize_left, right=bordersize_right, borderType= cv2.BORDER_CONSTANT, value=[mean,mean,mean] )\n",
    "        filename = \"roi_\"+str(val)+\".png\"\n",
    "        cv2.imwrite(filename , ro)\n",
    "    except:\n",
    "        pass\n",
    "    plt.imshow(roi)\n",
    "\n",
    "    val += 1\n",
    "\n",
    "print(len(contour))\n",
    "cv2.drawContours(img, contour, -1, (255, 255, 0), 1)\n",
    " \n",
    "plt.imshow(img)\n",
    "ESC = 27\n"
   ]
  },
  {
   "cell_type": "code",
   "execution_count": null,
   "metadata": {},
   "outputs": [],
   "source": [
    "101//2\n"
   ]
  },
  {
   "cell_type": "code",
   "execution_count": null,
   "metadata": {},
   "outputs": [],
   "source": [
    "101/2"
   ]
  },
  {
   "cell_type": "code",
   "execution_count": null,
   "metadata": {},
   "outputs": [],
   "source": [
    "import cv2\n",
    "import numpy as np\n",
    "\n",
    "# Load the image\n",
    "img = cv2.imread('../test-2.png')\n",
    "\n",
    "# TO gray\n",
    "gray = cv2.cvtColor(img , cv2.COLOR_BGR2GRAY)\n",
    "\n",
    "#threshold Image\n",
    "ret , thresh = cv2.threshold(gray , 127 , 255 , cv2.THRESH_BINARY)\n",
    "\n",
    "# apply some dilation and erosion to join the gaps\n",
    "thresh = cv2.dilate(thresh,None,iterations = 3)\n",
    "thresh = cv2.erode(thresh,None,iterations = 2)\n",
    "\n",
    "# Find the contours\n",
    "img11 ,contours,hierarchy = cv2.findContours(thresh,cv2.RETR_LIST,cv2.CHAIN_APPROX_SIMPLE)\n",
    "\n",
    "# For each contour, find the bounding rectangle and draw it\n",
    "for cnt in contours:\n",
    "    x,y,w,h = cv2.boundingRect(cnt)\n",
    "    cv2.rectangle(img,(x,y),(x+w,y+h),(0,255,0),2)\n",
    "    cv2.rectangle(thresh,(x,y),(x+w,y+h),(0,255,0),2)\n",
    "    \n",
    "\n",
    "# Finally show the image\n",
    "cv2.imshow('img',img)\n",
    "cv2.imshow('res',thresh)\n",
    "cv2.waitKey(0)\n",
    "cv2.destroyAllWindows()"
   ]
  },
  {
   "cell_type": "code",
   "execution_count": null,
   "metadata": {},
   "outputs": [],
   "source": [
    "import cv2\n",
    "import numpy as np\n",
    "\n",
    "# Load the image\n",
    "img = cv2.imread('../test-2.png')\n",
    "\n",
    "# TO gray\n",
    "gray = cv2.cvtColor(img , cv2.COLOR_BGR2GRAY)\n",
    "\n",
    "#threshold Image\n",
    "ret , thresh = cv2.threshold(gray , 127 , 255 , cv2.THRESH_BINARY)\n",
    "\n",
    "# apply some dilation and erosion to join the gaps\n",
    "# thresh = cv2.dilate(thresh,None,iterations = 3)\n",
    "# thresh = cv2.erode(thresh,None,iterations = 2)\n",
    "\n",
    "# Find the contours\n",
    "img11 ,contours,hierarchy = cv2.findContours(thresh,cv2.RETR_LIST,cv2.CHAIN_APPROX_SIMPLE)\n",
    "\n",
    "# For each contour, find the bounding rectangle and draw it\n",
    "val = 0\n",
    "for cnt in contours:\n",
    "    x,y,w,h = cv2.boundingRect(cnt)\n",
    "    cv2.rectangle(img,(x,y),(x+w,y+h),(0,255,0),2)\n",
    "    a = cv2.rectangle(thresh,(x,y),(x+w,y+h),(0,255,0),2)\n",
    "    # saving the file\n",
    "    cv2.imshow('ss',a)\n",
    "    filename = \"roi_\"+str(val)+\".png\"\n",
    "    roi = thresh[ x:x+w , y:y+h ]\n",
    "    cv2.imwrite(filename,roi)\n",
    "    val += 1\n",
    "\n",
    "# Finally show the image\n",
    "cv2.imshow('img',img)\n",
    "cv2.imshow('res',thresh)\n",
    "cv2.waitKey(0)\n",
    "cv2.destroyAllWindows()"
   ]
  },
  {
   "cell_type": "code",
   "execution_count": null,
   "metadata": {},
   "outputs": [],
   "source": [
    "def convert_to_binary(img):\n",
    "    gray = cv2.cvtColor(img , cv2.COLOR_BGR2GRAY)\n",
    "    ret , thresh = cv2.threshold(gray , 127 , 255 , cv2.THRESH_BINARY)\n",
    "    return thresh"
   ]
  },
  {
   "cell_type": "code",
   "execution_count": null,
   "metadata": {},
   "outputs": [],
   "source": [
    "def convert_to_gray(img):\n",
    "    gray = cv2.cvtColor(img, cv2.COLOR_BGR2GRAY)\n",
    "    return gray\n"
   ]
  },
  {
   "cell_type": "code",
   "execution_count": null,
   "metadata": {},
   "outputs": [],
   "source": [
    "def find_contour(thresh):\n",
    "    image ,contours,hierarchy = cv2.findContours(thresh,cv2.RETR_LIST,cv2.CHAIN_APPROX_SIMPLE)\n",
    "    return [image,contours,hierarchy]"
   ]
  },
  {
   "cell_type": "code",
   "execution_count": 5,
   "metadata": {},
   "outputs": [],
   "source": [
    "def read_image(image_loc):\n",
    "    img = cv2.imread(image_loc)\n",
    "    return img"
   ]
  },
  {
   "cell_type": "code",
   "execution_count": 6,
   "metadata": {},
   "outputs": [],
   "source": [
    "def convert_to_binary_inverse(img):\n",
    "    gray = cv2.cvtColor(img , cv2.COLOR_BGR2GRAY)\n",
    "    ret , thresh = cv2.threshold(gray , 127 , 255 , cv2.THRESH_BINARY_INV)\n",
    "    return thresh"
   ]
  },
  {
   "cell_type": "code",
   "execution_count": 34,
   "metadata": {},
   "outputs": [
    {
     "data": {
      "text/plain": [
       "<matplotlib.image.AxesImage at 0x7f4c2bdecba8>"
      ]
     },
     "execution_count": 34,
     "metadata": {},
     "output_type": "execute_result"
    },
    {
     "data": {
      "image/png": "[encoded data removed]",
      "text/plain": [
       "<Figure size 432x288 with 1 Axes>"
      ]
     },
     "metadata": {
      "needs_background": "light"
     },
     "output_type": "display_data"
    }
   ],
   "source": [
    "image_loc = \"../test-2.png\"\n",
    "img = read_image(image_loc)\n",
    "thresh = convert_to_binary_inverse(img)\n",
    "thresh = cv2.dilate(thresh,None,iterations = 3)\n",
    "thresh = cv2.erode(thresh,None,iterations = 6)\n",
    "thresh = cv2.dilate(thresh,None,iterations = 4)\n",
    "thresh = cv2.erode(thresh,None,iterations = 1)\n",
    "plt.imshow(thresh)\n"
   ]
  },
  {
   "cell_type": "code",
   "execution_count": null,
   "metadata": {},
   "outputs": [],
   "source": [
    "def save_image(filename,img):\n",
    "    cv2.imwrite(filename,img)"
   ]
  },
  {
   "cell_type": "code",
   "execution_count": null,
   "metadata": {},
   "outputs": [],
   "source": [
    "# thresh = cv2.dilate(thresh,None,iterations = 3)\n",
    "# plt.imshow(thresh)\n",
    "# thresh = cv2.erode(thresh,None,iterations = 2)\n",
    "# plt.imshow(thresh)\n",
    "# contours = find_contour(thresh)[1]\n",
    "\n",
    "# val = 0\n",
    "# for cnt in contours:\n",
    "#     x,y,w,h = cv2.boundingRect(cnt)\n",
    "#     cv2.rectangle(img,(x,y),(x+w,y+h),(0,255,0),2)\n",
    "#     a = cv2.rectangle(thresh,(x,y),(x+w,y+h),(0,255,0),2)\n",
    "#     # saving the file\n",
    "#     cv2.imshow('ss',a)\n",
    "#     filename = \"roi_\"+str(val)+\".png\"\n",
    "#     roi = thresh[ x:x+w , y:y+h ]\n",
    "#     cv2.imwrite(filename,roi)\n",
    "#     val += 1"
   ]
  },
  {
   "cell_type": "code",
   "execution_count": null,
   "metadata": {},
   "outputs": [],
   "source": [
    "import cv2\n",
    "import numpy as np\n",
    "#import image\n",
    "image = cv2.imread('../ttt.png')\n",
    "#cv2.imshow('orig',image)\n",
    "#cv2.waitKey(0)\n",
    "\n",
    "#grayscale\n",
    "gray = cv2.cvtColor(image,cv2.COLOR_BGR2GRAY)\n",
    "cv2.imshow('gray',gray)\n",
    "cv2.waitKey(0)\n",
    "\n",
    "#binary\n",
    "ret,thresh = cv2.threshold(gray,127,255,cv2.THRESH_BINARY_INV)\n",
    "cv2.imshow('second',thresh)\n",
    "cv2.waitKey(0)\n",
    "\n",
    "#dilation\n",
    "kernel = np.ones((5,5), np.uint8)\n",
    "img_dilation = cv2.dilate(thresh, kernel, iterations=1)\n",
    "cv2.imshow('dilated',img_dilation)\n",
    "cv2.waitKey(0)\n",
    "\n",
    "thresh = cv2.dilate(thresh,None,iterations = 3)\n",
    "thresh = cv2.erode(thresh,None,iterations = 6)\n",
    "thresh = cv2.dilate(thresh,None,iterations = 4)\n",
    "thresh = cv2.erode(thresh,None,iterations = 1)\n",
    "\n",
    "#find contours\n",
    "im2,ctrs, hier = cv2.findContours(thresh.copy(), cv2.RETR_EXTERNAL, cv2.CHAIN_APPROX_SIMPLE)\n",
    "\n",
    "#sort contours\n",
    "sorted_ctrs = sorted(ctrs, key=lambda ctr: cv2.boundingRect(ctr)[0])\n",
    "\n",
    "for i, ctr in enumerate(sorted_ctrs):\n",
    "    # Get bounding box\n",
    "    x, y, w, h = cv2.boundingRect(ctr)\n",
    "\n",
    "    # Getting ROI\n",
    "    roi = image[y:y+h, x:x+w]\n",
    "\n",
    "    # show ROI\n",
    "    cv2.imshow('segment no:'+str(i),roi)\n",
    "    cv2.rectangle(image,(x,y),( x + w, y + h ),(90,0,255),2)\n",
    "    cv2.waitKey(0)\n",
    "\n",
    "cv2.imshow('marked areas',image)\n",
    "cv2.waitKey(0)"
   ]
  },
  {
   "cell_type": "code",
   "execution_count": null,
   "metadata": {},
   "outputs": [],
   "source": [
    "image_loc"
   ]
  },
  {
   "cell_type": "markdown",
   "metadata": {},
   "source": [
    "# Spliting Docs into several lines \n"
   ]
  },
  {
   "cell_type": "code",
   "execution_count": 3,
   "metadata": {},
   "outputs": [
    {
     "data": {
      "text/plain": [
       "True"
      ]
     },
     "execution_count": 3,
     "metadata": {},
     "output_type": "execute_result"
    }
   ],
   "source": [
    "import cv2\n",
    "import numpy as np\n",
    "\n",
    "## (1) read\n",
    "img = cv2.imread(\"../output.png\")\n",
    "gray = cv2.cvtColor(img, cv2.COLOR_BGR2GRAY)\n",
    "\n",
    "## (2) threshold\n",
    "th, threshed = cv2.threshold(gray, 127, 255, cv2.THRESH_BINARY_INV|cv2.THRESH_OTSU)\n",
    "\n",
    "## (3) minAreaRect on the nozeros\n",
    "pts = cv2.findNonZero(threshed)\n",
    "ret = cv2.minAreaRect(pts)\n",
    "\n",
    "(cx,cy), (w,h), ang = ret\n",
    "if w>h:\n",
    "    w,h = h,w\n",
    "    ang += 90\n",
    "\n",
    "## (4) Find rotated matrix, do rotation\n",
    "M = cv2.getRotationMatrix2D((cx,cy), ang, 1.0)\n",
    "rotated = cv2.warpAffine(threshed, M, (img.shape[1], img.shape[0]))\n",
    "\n",
    "## (5) find and draw the upper and lower boundary of each lines\n",
    "hist = cv2.reduce(rotated,1, cv2.REDUCE_AVG).reshape(-1)\n",
    "\n",
    "th = 2\n",
    "H,W = img.shape[:2]\n",
    "uppers = [y for y in range(H-1) if hist[y]<=th and hist[y+1]>th]\n",
    "lowers = [y for y in range(H-1) if hist[y]>th and hist[y+1]<=th]\n",
    "\n",
    "rotated = cv2.cvtColor(rotated, cv2.COLOR_GRAY2BGR)\n",
    "for y in uppers:\n",
    "    cv2.line(rotated, (0,y), (W, y), (255,255,255), 1)\n",
    "\n",
    "for y in lowers:\n",
    "    cv2.line(rotated, (0,y), (W, y), (255,255,255), 1)\n",
    "\n",
    "cv2.imwrite(\"result.png\", rotated)"
   ]
  },
  {
   "cell_type": "code",
   "execution_count": 1,
   "metadata": {},
   "outputs": [
    {
     "data": {
      "text/plain": [
       "13"
      ]
     },
     "execution_count": 1,
     "metadata": {},
     "output_type": "execute_result"
    }
   ],
   "source": [
    "import cv2\n",
    "import numpy as np\n",
    "#import image\n",
    "image = cv2.imread('../output.png')\n",
    "#cv2.imshow('orig',image)\n",
    "#cv2.waitKey(0)\n",
    "\n",
    "#grayscale\n",
    "gray = cv2.cvtColor(image,cv2.COLOR_BGR2GRAY)\n",
    "# cv2.imshow('gray',gray)\n",
    "cv2.waitKey(0)\n",
    "\n",
    "#binary\n",
    "ret,thresh = cv2.threshold(gray,127,255,cv2.THRESH_BINARY_INV)\n",
    "# cv2.imshow('second',thresh)\n",
    "cv2.waitKey(0)\n",
    "\n",
    "#dilation\n",
    "kernel = np.ones((5,500), np.uint8)\n",
    "img_dilation = cv2.dilate(thresh, kernel, iterations=1)\n",
    "# cv2.imshow('dilated',img_dilation)\n",
    "cv2.waitKey(0)\n",
    "\n",
    "#find contours\n",
    "im2,ctrs, hier = cv2.findContours(img_dilation.copy(), cv2.RETR_EXTERNAL, cv2.CHAIN_APPROX_SIMPLE)\n",
    "\n",
    "#sort contours\n",
    "sorted_ctrs = sorted(ctrs, key=lambda ctr: cv2.boundingRect(ctr)[0])\n",
    "\n",
    "val = 0 \n",
    "for i, ctr in enumerate(sorted_ctrs):\n",
    "    # Get bounding box\n",
    "    x, y, w, h = cv2.boundingRect(ctr)\n",
    "\n",
    "    # Getting ROI\n",
    "    roi = image[y:y+h, x:x+w]\n",
    "    cv2.imwrite(\"word_\"+str(val)+\".png\",roi)\n",
    "    val += 1 \n",
    "\n",
    "    # show ROI\n",
    "    cv2.imshow('segment no:'+str(i),roi)\n",
    "    cv2.rectangle(image,(x,y),( x + w, y + h ),(90,0,255),2)\n",
    "    cv2.waitKey(0)\n",
    "\n",
    "# cv2.imshow('marked areas',image)\n",
    "cv2.imwrite(\"done.png\", image)\n",
    "cv2.waitKey(0)"
   ]
  },
  {
   "cell_type": "code",
   "execution_count": null,
   "metadata": {},
   "outputs": [],
   "source": []
  }
 ],
 "metadata": {
  "kernelspec": {
   "display_name": "Python 3",
   "language": "python",
   "name": "python3"
  },
  "language_info": {
   "codemirror_mode": {
    "name": "ipython",
    "version": 3
   },
   "file_extension": ".py",
   "mimetype": "text/x-python",
   "name": "python",
   "nbconvert_exporter": "python",
   "pygments_lexer": "ipython3",
   "version": "3.6.6"
  }
 },
 "nbformat": 4,
 "nbformat_minor": 2
}
