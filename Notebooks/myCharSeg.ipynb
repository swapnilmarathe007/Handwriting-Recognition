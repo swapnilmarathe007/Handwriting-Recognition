{
 "cells": [
  {
   "cell_type": "code",
   "execution_count": 2,
   "metadata": {},
   "outputs": [
    {
     "ename": "AttributeError",
     "evalue": "'NoneType' object has no attribute 'copy'",
     "traceback": [
      "\u001b[0;31m---------------------------------------------------------------------------\u001b[0m",
      "\u001b[0;31mAttributeError\u001b[0m                            Traceback (most recent call last)",
      "\u001b[0;32m<ipython-input-2-c2392111a3cc>\u001b[0m in \u001b[0;36m<module>\u001b[0;34m\u001b[0m\n\u001b[1;32m     50\u001b[0m         \u001b[0mplt\u001b[0m\u001b[0;34m.\u001b[0m\u001b[0mimshow\u001b[0m\u001b[0;34m(\u001b[0m\u001b[0mnp\u001b[0m\u001b[0;34m.\u001b[0m\u001b[0mtranspose\u001b[0m\u001b[0;34m(\u001b[0m\u001b[0mimg_trans_copy\u001b[0m\u001b[0;34m)\u001b[0m\u001b[0;34m)\u001b[0m\u001b[0;34m\u001b[0m\u001b[0m\n\u001b[1;32m     51\u001b[0m         \u001b[0mplt\u001b[0m\u001b[0;34m.\u001b[0m\u001b[0mshow\u001b[0m\u001b[0;34m(\u001b[0m\u001b[0;34m)\u001b[0m\u001b[0;34m\u001b[0m\u001b[0m\n\u001b[0;32m---> 52\u001b[0;31m \u001b[0msegment_char\u001b[0m\u001b[0;34m(\u001b[0m\u001b[0;34m\"lcts.png\"\u001b[0m\u001b[0;34m)\u001b[0m\u001b[0;34m\u001b[0m\u001b[0m\n\u001b[0m\u001b[1;32m     53\u001b[0m \u001b[0;31m# segment_char(\"lrev.png\")\u001b[0m\u001b[0;34m\u001b[0m\u001b[0;34m\u001b[0m\u001b[0m\n\u001b[1;32m     54\u001b[0m \u001b[0;31m# segment_char(\"lmat.png\")\u001b[0m\u001b[0;34m\u001b[0m\u001b[0;34m\u001b[0m\u001b[0m\n",
      "\u001b[0;32m<ipython-input-2-c2392111a3cc>\u001b[0m in \u001b[0;36msegment_char\u001b[0;34m(image_loc)\u001b[0m\n\u001b[1;32m      9\u001b[0m \u001b[0;32mdef\u001b[0m \u001b[0msegment_char\u001b[0m\u001b[0;34m(\u001b[0m\u001b[0mimage_loc\u001b[0m\u001b[0;34m)\u001b[0m\u001b[0;34m:\u001b[0m\u001b[0;34m\u001b[0m\u001b[0m\n\u001b[1;32m     10\u001b[0m         \u001b[0mimg\u001b[0m \u001b[0;34m=\u001b[0m \u001b[0mcv2\u001b[0m\u001b[0;34m.\u001b[0m\u001b[0mimread\u001b[0m\u001b[0;34m(\u001b[0m\u001b[0mimage_loc\u001b[0m\u001b[0;34m,\u001b[0m\u001b[0;36m0\u001b[0m\u001b[0;34m)\u001b[0m\u001b[0;34m\u001b[0m\u001b[0m\n\u001b[0;32m---> 11\u001b[0;31m         \u001b[0mimg_copy\u001b[0m \u001b[0;34m=\u001b[0m \u001b[0mimg\u001b[0m\u001b[0;34m.\u001b[0m\u001b[0mcopy\u001b[0m\u001b[0;34m(\u001b[0m\u001b[0;34m)\u001b[0m\u001b[0;34m\u001b[0m\u001b[0m\n\u001b[0m\u001b[1;32m     12\u001b[0m         \u001b[0mimg_trans\u001b[0m \u001b[0;34m=\u001b[0m \u001b[0mnp\u001b[0m\u001b[0;34m.\u001b[0m\u001b[0mtranspose\u001b[0m\u001b[0;34m(\u001b[0m\u001b[0mimg\u001b[0m\u001b[0;34m)\u001b[0m\u001b[0;34m\u001b[0m\u001b[0m\n\u001b[1;32m     13\u001b[0m         \u001b[0mimg_trans_copy\u001b[0m \u001b[0;34m=\u001b[0m \u001b[0mimg_trans\u001b[0m\u001b[0;34m.\u001b[0m\u001b[0mcopy\u001b[0m\u001b[0;34m(\u001b[0m\u001b[0;34m)\u001b[0m\u001b[0;34m\u001b[0m\u001b[0m\n",
      "\u001b[0;31mAttributeError\u001b[0m: 'NoneType' object has no attribute 'copy'"
     ],
     "output_type": "error"
    }
   ],
   "source": [
    "import cv2 \n",
    "import numpy as np \n",
    "import matplotlib.pyplot as plt \n",
    "%matplotlib inline\n",
    "\n",
    "def consecutive(data, stepsize=1):\n",
    "    return np.split(data, np.where(np.diff(data) != stepsize)[0]+1)\n",
    "\n",
    "def segment_char(image_loc):\n",
    "\timg = cv2.imread(image_loc,0)\n",
    "\timg_copy = img.copy()\n",
    "\timg_trans = np.transpose(img)\n",
    "\timg_trans_copy = img_trans.copy()\n",
    "\twidth = np.size(img_trans,1)\n",
    "\tline_ligature = []\n",
    "\tfor i , val in enumerate(img_trans):\n",
    "\t\tif (sum(val) == 255 ):\n",
    "\t\t\tline_ligature.append(i)\n",
    "\tlast = line_ligature[-1]\n",
    "\tres = consecutive(line_ligature)\n",
    "\tres = [i.tolist() for i in res]\n",
    "\tprint (\"res is \\n\\n\",res)\n",
    "\tfor val in res :\n",
    "\t\tprint (val)\n",
    "\ttimes = 3\n",
    "\twhile(times > 0):\n",
    "\t\tfor i , val in enumerate(res):\n",
    "\t\t\ttry:\n",
    "\t\t\t\tprint (res[i+1][0] , val[-1] , res[i+1][0] - val[-1])\n",
    "\t\t\t\tif (res[i+1][0] - val[-1] < 30):\n",
    "\t\t\t\t\tval.append(res[i])\n",
    "\t\t\t\t\tres.remove(res[i])\n",
    "\t\t\texcept:\n",
    "\t\t\t\tpass\n",
    "\t\ttimes = times - 1\n",
    "\t\tprint (\"RES IS \",res,\"\\n\\n\\n\\n\\n\\n\") \n",
    "\tprint (\"fianl RES\",res)\n",
    "\n",
    "\trslt = []\n",
    "\tfor val in res:\n",
    "\t\tn  = (sum(val) // len(val) )\n",
    "\t\t# if (len(val)>=7):\n",
    "\t\trslt.append(n)\n",
    "\tprint (\"segm\",rslt)\n",
    "\n",
    "\tfor val in rslt:\n",
    "\t# if(last - val) > 50 :\n",
    "\t\timg_trans_copy[val] = [255] * width\n",
    "\timg_trans_copy = cv2.dilate(img_trans_copy , None , iterations = 1)\n",
    "\tplt.imshow(np.transpose(img_trans_copy))\n",
    "\tplt.show()\n",
    "segment_char(\"lcts.png\")\n",
    "# segment_char(\"lrev.png\")\n",
    "# segment_char(\"lmat.png\")\n",
    "# segment_char(\"lcat.png\")"
   ]
  },
  {
   "cell_type": "code",
   "execution_count": 9,
   "metadata": {},
   "outputs": [],
   "source": [
    "# find top and bottom layer \n",
    "image_loc = \"lcat.png\"\n",
    "img = cv2.imread(image_loc,0)\n",
    "areas_of = []\n",
    "for i , val in enumerate(img):\n",
    "    if (sum(val)>0):\n",
    "        areas_of.append(i)\n",
    "    else:\n",
    "        pass\n"
   ]
  },
  {
   "cell_type": "code",
   "execution_count": 10,
   "metadata": {},
   "outputs": [
    {
     "name": "stdout",
     "output_type": "stream",
     "text": [
      "38 380\n"
     ]
    }
   ],
   "source": [
    "print (areas_of[0],areas_of[-1])"
   ]
  },
  {
   "cell_type": "code",
   "execution_count": 11,
   "metadata": {},
   "outputs": [
    {
     "data": {
      "text/plain": [
       "<matplotlib.image.AxesImage at 0x7f7f55767da0>"
      ]
     },
     "execution_count": 11,
     "metadata": {},
     "output_type": "execute_result"
    },
    {
     "data": {
      "image/png": "[encoded data removed]",
      "text/plain": [
       "<Figure size 432x288 with 1 Axes>"
      ]
     },
     "metadata": {
      "needs_background": "light"
     },
     "output_type": "display_data"
    }
   ],
   "source": [
    "plt.imshow(img)"
   ]
  },
  {
   "cell_type": "code",
   "execution_count": 12,
   "metadata": {},
   "outputs": [
    {
     "data": {
      "text/plain": [
       "418"
      ]
     },
     "execution_count": 12,
     "metadata": {},
     "output_type": "execute_result"
    }
   ],
   "source": [
    "38+380"
   ]
  },
  {
   "cell_type": "code",
   "execution_count": 13,
   "metadata": {},
   "outputs": [
    {
     "data": {
      "text/plain": [
       "209.0"
      ]
     },
     "execution_count": 13,
     "metadata": {},
     "output_type": "execute_result"
    }
   ],
   "source": [
    "418/2"
   ]
  },
  {
   "cell_type": "code",
   "execution_count": 52,
   "metadata": {},
   "outputs": [],
   "source": [
    "img[198] = [255]*700"
   ]
  },
  {
   "cell_type": "code",
   "execution_count": 53,
   "metadata": {},
   "outputs": [
    {
     "data": {
      "text/plain": [
       "<matplotlib.image.AxesImage at 0x7f282b915be0>"
      ]
     },
     "execution_count": 53,
     "metadata": {},
     "output_type": "execute_result"
    },
    {
     "data": {
      "image/png": "[encoded data removed]",
      "text/plain": [
       "<Figure size 432x288 with 1 Axes>"
      ]
     },
     "metadata": {
      "needs_background": "light"
     },
     "output_type": "display_data"
    }
   ],
   "source": [
    "plt.imshow(img)"
   ]
  },
  {
   "cell_type": "code",
   "execution_count": 73,
   "metadata": {},
   "outputs": [],
   "source": [
    "transpose = np.transpose(img)"
   ]
  },
  {
   "cell_type": "code",
   "execution_count": 74,
   "metadata": {},
   "outputs": [
    {
     "data": {
      "text/plain": [
       "<matplotlib.image.AxesImage at 0x7f282b6d7ac8>"
      ]
     },
     "execution_count": 74,
     "metadata": {},
     "output_type": "execute_result"
    },
    {
     "data": {
      "image/png": "[encoded data removed]",
      "text/plain": [
       "<Figure size 432x288 with 1 Axes>"
      ]
     },
     "metadata": {
      "needs_background": "light"
     },
     "output_type": "display_data"
    }
   ],
   "source": [
    "plt.imshow(transpose)"
   ]
  },
  {
   "cell_type": "code",
   "execution_count": 144,
   "metadata": {},
   "outputs": [],
   "source": [
    "transpose = cv2.dilate(transpose , None , iterations = 1)"
   ]
  },
  {
   "cell_type": "code",
   "execution_count": 75,
   "metadata": {},
   "outputs": [
    {
     "data": {
      "text/plain": [
       "<matplotlib.image.AxesImage at 0x7f282b62add8>"
      ]
     },
     "execution_count": 75,
     "metadata": {},
     "output_type": "execute_result"
    },
    {
     "data": {
      "image/png": "[encoded data removed]",
      "text/plain": [
       "<Figure size 432x288 with 1 Axes>"
      ]
     },
     "metadata": {
      "needs_background": "light"
     },
     "output_type": "display_data"
    }
   ],
   "source": [
    "plt.imshow(transpose)"
   ]
  },
  {
   "cell_type": "code",
   "execution_count": 97,
   "metadata": {},
   "outputs": [
    {
     "data": {
      "text/plain": [
       "1020"
      ]
     },
     "execution_count": 97,
     "metadata": {},
     "output_type": "execute_result"
    }
   ],
   "source": [
    "255*4"
   ]
  },
  {
   "cell_type": "code",
   "execution_count": 76,
   "metadata": {},
   "outputs": [
    {
     "name": "stdout",
     "output_type": "stream",
     "text": [
      "Its There 165\n",
      "Its There 178\n",
      "Its There 179\n",
      "Its There 180\n",
      "Its There 181\n",
      "Its There 184\n",
      "Its There 275\n",
      "Its There 276\n",
      "Its There 277\n",
      "Its There 278\n",
      "Its There 279\n",
      "Its There 280\n",
      "Its There 281\n",
      "Its There 282\n",
      "Its There 283\n",
      "Its There 284\n",
      "Its There 285\n",
      "Its There 286\n",
      "Its There 288\n",
      "Its There 289\n",
      "Its There 290\n",
      "Its There 291\n",
      "Its There 292\n",
      "Its There 293\n",
      "Its There 294\n",
      "Its There 368\n",
      "Its There 369\n",
      "Its There 370\n",
      "Its There 371\n",
      "Its There 372\n",
      "Its There 393\n",
      "Its There 394\n",
      "Its There 395\n",
      "Its There 396\n",
      "Its There 398\n",
      "Its There 399\n",
      "Its There 400\n",
      "Its There 401\n",
      "Its There 402\n",
      "Its There 403\n",
      "Its There 404\n",
      "Its There 405\n",
      "Its There 406\n",
      "Its There 407\n",
      "Its There 408\n",
      "Its There 409\n",
      "Its There 410\n",
      "Its There 411\n",
      "Its There 412\n",
      "Its There 413\n",
      "Its There 414\n",
      "Its There 415\n",
      "Its There 416\n",
      "Its There 417\n",
      "Its There 418\n",
      "Its There 419\n",
      "Its There 420\n",
      "Its There 421\n",
      "Its There 422\n",
      "Its There 423\n",
      "Its There 424\n",
      "Its There 425\n",
      "Its There 426\n",
      "Its There 427\n",
      "Its There 428\n",
      "Its There 429\n",
      "Its There 430\n",
      "Its There 431\n",
      "Its There 432\n",
      "Its There 433\n",
      "Its There 434\n",
      "Its There 435\n",
      "Its There 436\n",
      "Its There 437\n",
      "Its There 438\n",
      "Its There 439\n",
      "Its There 440\n",
      "Its There 441\n",
      "Its There 442\n",
      "Its There 443\n",
      "Its There 444\n",
      "Its There 445\n",
      "Its There 473\n",
      "Its There 477\n",
      "Its There 479\n",
      "Its There 482\n",
      "Its There 486\n",
      "Its There 487\n",
      "Its There 498\n"
     ]
    }
   ],
   "source": [
    "line_ligature = []\n",
    "for i ,val in enumerate(transpose):\n",
    "    if( (sum(val[198:]) == 255) and sum(val) == 255): \n",
    "        line_ligature.append(i)\n",
    "        print(\"Its There\",i)"
   ]
  },
  {
   "cell_type": "code",
   "execution_count": 77,
   "metadata": {},
   "outputs": [],
   "source": [
    "trans_copy = transpose.copy()"
   ]
  },
  {
   "cell_type": "code",
   "execution_count": 78,
   "metadata": {},
   "outputs": [],
   "source": [
    "width = np.size(trans_copy,1)"
   ]
  },
  {
   "cell_type": "code",
   "execution_count": 31,
   "metadata": {},
   "outputs": [],
   "source": [
    "for val in line_ligature:\n",
    "    trans_copy[val] = [255] * width"
   ]
  },
  {
   "cell_type": "code",
   "execution_count": 79,
   "metadata": {},
   "outputs": [
    {
     "data": {
      "text/plain": [
       "<matplotlib.image.AxesImage at 0x7f282b609358>"
      ]
     },
     "execution_count": 79,
     "metadata": {},
     "output_type": "execute_result"
    },
    {
     "data": {
      "image/png": "[encoded data removed]",
      "text/plain": [
       "<Figure size 432x288 with 1 Axes>"
      ]
     },
     "metadata": {
      "needs_background": "light"
     },
     "output_type": "display_data"
    }
   ],
   "source": [
    "plt.imshow(np.transpose(trans_copy))"
   ]
  },
  {
   "cell_type": "code",
   "execution_count": 80,
   "metadata": {},
   "outputs": [
    {
     "name": "stdout",
     "output_type": "stream",
     "text": [
      "165,178,179,180,181,184,275,276,277,278,279,280,281,282,283,284,285,286,288,289,290,291,292,293,294,368,369,370,371,372,393,394,395,396,398,399,400,401,402,403,404,405,406,407,408,409,410,411,412,413,414,415,416,417,418,419,420,421,422,423,424,425,426,427,428,429,430,431,432,433,434,435,436,437,438,439,440,441,442,443,444,445,473,477,479,482,486,487,498,"
     ]
    }
   ],
   "source": [
    "for val in line_ligature:\n",
    "    print(val,end=\",\")"
   ]
  },
  {
   "cell_type": "code",
   "execution_count": 81,
   "metadata": {},
   "outputs": [],
   "source": [
    "def consecutive(data, stepsize=1):\n",
    "    return np.split(data, np.where(np.diff(data) != stepsize)[0]+1)\n"
   ]
  },
  {
   "cell_type": "code",
   "execution_count": 82,
   "metadata": {},
   "outputs": [],
   "source": [
    "res = consecutive(line_ligature)"
   ]
  },
  {
   "cell_type": "code",
   "execution_count": 83,
   "metadata": {},
   "outputs": [
    {
     "name": "stdout",
     "output_type": "stream",
     "text": [
      "[165]\n",
      "[178 179 180 181]\n",
      "[184]\n",
      "[275 276 277 278 279 280 281 282 283 284 285 286]\n",
      "[288 289 290 291 292 293 294]\n",
      "[368 369 370 371 372]\n",
      "[393 394 395 396]\n",
      "[398 399 400 401 402 403 404 405 406 407 408 409 410 411 412 413 414 415\n",
      " 416 417 418 419 420 421 422 423 424 425 426 427 428 429 430 431 432 433\n",
      " 434 435 436 437 438 439 440 441 442 443 444 445]\n",
      "[473]\n",
      "[477]\n",
      "[479]\n",
      "[482]\n",
      "[486 487]\n",
      "[498]\n"
     ]
    }
   ],
   "source": [
    "for val in res:\n",
    "    print (val)"
   ]
  },
  {
   "cell_type": "code",
   "execution_count": 84,
   "metadata": {},
   "outputs": [],
   "source": [
    "arr = []"
   ]
  },
  {
   "cell_type": "code",
   "execution_count": 85,
   "metadata": {},
   "outputs": [],
   "source": [
    "for i , val in enumerate(res):\n",
    "    if(len(val) > 7):\n",
    "        avg = sum(val) // len(val)\n",
    "        arr.append(avg)"
   ]
  },
  {
   "cell_type": "code",
   "execution_count": 86,
   "metadata": {},
   "outputs": [
    {
     "data": {
      "text/plain": [
       "[280, 421]"
      ]
     },
     "execution_count": 86,
     "metadata": {},
     "output_type": "execute_result"
    }
   ],
   "source": [
    "arr"
   ]
  },
  {
   "cell_type": "code",
   "execution_count": 87,
   "metadata": {},
   "outputs": [],
   "source": [
    "for val in arr:\n",
    "#     if()\n",
    "    trans_copy[val] = [255] * width"
   ]
  },
  {
   "cell_type": "code",
   "execution_count": 88,
   "metadata": {},
   "outputs": [],
   "source": [
    "trans_copy = cv2.dilate(trans_copy,None,iterations=1)"
   ]
  },
  {
   "cell_type": "code",
   "execution_count": 89,
   "metadata": {},
   "outputs": [
    {
     "data": {
      "text/plain": [
       "<matplotlib.image.AxesImage at 0x7f282b571710>"
      ]
     },
     "execution_count": 89,
     "metadata": {},
     "output_type": "execute_result"
    },
    {
     "data": {
      "image/png": "[encoded data removed]",
      "text/plain": [
       "<Figure size 432x288 with 1 Axes>"
      ]
     },
     "metadata": {
      "needs_background": "light"
     },
     "output_type": "display_data"
    }
   ],
   "source": [
    "plt.imshow(np.transpose(trans_copy))"
   ]
  },
  {
   "cell_type": "code",
   "execution_count": 346,
   "metadata": {},
   "outputs": [
    {
     "data": {
      "text/plain": [
       "True"
      ]
     },
     "execution_count": 346,
     "metadata": {},
     "output_type": "execute_result"
    }
   ],
   "source": [
    "cv2.imwrite(\"dear_t.png\",np.transpose(trans_copy))"
   ]
  },
  {
   "cell_type": "code",
   "execution_count": null,
   "metadata": {},
   "outputs": [],
   "source": []
  }
 ],
 "metadata": {
  "kernelspec": {
   "display_name": "Python 3",
   "language": "python",
   "name": "python3"
  },
  "language_info": {
   "codemirror_mode": {
    "name": "ipython",
    "version": 3
   },
   "file_extension": ".py",
   "mimetype": "text/x-python",
   "name": "python",
   "nbconvert_exporter": "python",
   "pygments_lexer": "ipython3",
   "version": "3.6.6"
  }
 },
 "nbformat": 4,
 "nbformat_minor": 2
}
