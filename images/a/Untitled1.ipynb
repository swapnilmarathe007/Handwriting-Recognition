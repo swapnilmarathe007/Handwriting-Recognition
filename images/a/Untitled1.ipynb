{
 "cells": [
  {
   "cell_type": "code",
   "execution_count": null,
   "metadata": {},
   "outputs": [],
   "source": [
    "import cv2 as cv \n",
    "import numpy as np \n",
    "import glob \n",
    "\n",
    "image_location = \"/home/syedjafer/Documents/Handwriting_recognition_svm/images/a/\"\n",
    "\n",
    "# to get list of files in the current directory\n",
    "files = glob.glob(image_location+\"*.png\")\n",
    "image_x = []\n",
    "image_y = []\n",
    "\n",
    "for file in files:\n",
    "    image = cv.imread(file)\n",
    "    image = np.array(image)\n",
    "    print(image.shape)\n"
   ]
  },
  {
   "cell_type": "markdown",
   "metadata": {},
   "source": [
    "# Reshaping images from 3d to 2d "
   ]
  },
  {
   "cell_type": "code",
   "execution_count": 12,
   "metadata": {
    "scrolled": false
   },
   "outputs": [
    {
     "name": "stdout",
     "output_type": "stream",
     "text": [
      "(10000, 3)\n",
      "(10000, 3)\n",
      "(10000, 3)\n",
      "(10000, 3)\n",
      "(10000, 3)\n",
      "(10000, 3)\n",
      "(10000, 3)\n",
      "(10000, 3)\n",
      "(10000, 3)\n",
      "(10000, 3)\n",
      "(10000, 3)\n",
      "(10000, 3)\n",
      "(10000, 3)\n",
      "(10000, 3)\n",
      "(10000, 3)\n",
      "(10000, 3)\n",
      "(10000, 3)\n",
      "(10000, 3)\n",
      "(10000, 3)\n",
      "(10000, 3)\n",
      "(10000, 3)\n",
      "(10000, 3)\n"
     ]
    }
   ],
   "source": [
    "import cv2 as cv \n",
    "import numpy as np \n",
    "import glob \n",
    "\n",
    "image_location = \"/home/syedjafer/Documents/Handwriting_recognition_svm/images/a/\"\n",
    "\n",
    "# to get list of files in the current directory\n",
    "files = glob.glob(image_location+\"*.png\")\n",
    "image_x = []\n",
    "image_y = []\n",
    "\n",
    "for file in files:\n",
    "    image = cv.imread(file)\n",
    "    image = np.array(image)\n",
    "    new_img = image.reshape((image.shape[0]*image.shape[1]), image.shape[2])\n",
    "    print (new_img.shape)\n",
    "    image_x.append(new_img.flatten())\n",
    "    image_y.append(\"a\")\n",
    "    "
   ]
  },
  {
   "cell_type": "code",
   "execution_count": 2,
   "metadata": {},
   "outputs": [],
   "source": [
    "from sklearn import svm\n"
   ]
  },
  {
   "cell_type": "markdown",
   "metadata": {},
   "source": [
    "# svm training "
   ]
  },
  {
   "cell_type": "code",
   "execution_count": 14,
   "metadata": {},
   "outputs": [
    {
     "name": "stdout",
     "output_type": "stream",
     "text": [
      "(22, 30000)\n",
      "(22,)\n"
     ]
    },
    {
     "ename": "ValueError",
     "evalue": "The number of classes has to be greater than one; got 1 class",
     "output_type": "error",
     "traceback": [
      "\u001b[0;31m---------------------------------------------------------------------------\u001b[0m",
      "\u001b[0;31mValueError\u001b[0m                                Traceback (most recent call last)",
      "\u001b[0;32m<ipython-input-14-fbdb16431e83>\u001b[0m in \u001b[0;36m<module>\u001b[0;34m\u001b[0m\n\u001b[1;32m      5\u001b[0m \u001b[0;32mfrom\u001b[0m \u001b[0msklearn\u001b[0m \u001b[0;32mimport\u001b[0m \u001b[0msvm\u001b[0m\u001b[0;34m\u001b[0m\u001b[0m\n\u001b[1;32m      6\u001b[0m \u001b[0mclf\u001b[0m \u001b[0;34m=\u001b[0m \u001b[0msvm\u001b[0m\u001b[0;34m.\u001b[0m\u001b[0mSVC\u001b[0m\u001b[0;34m(\u001b[0m\u001b[0;34m)\u001b[0m\u001b[0;34m\u001b[0m\u001b[0m\n\u001b[0;32m----> 7\u001b[0;31m \u001b[0mclf\u001b[0m\u001b[0;34m.\u001b[0m\u001b[0mfit\u001b[0m\u001b[0;34m(\u001b[0m\u001b[0mx_train\u001b[0m\u001b[0;34m,\u001b[0m \u001b[0my_train\u001b[0m\u001b[0;34m)\u001b[0m\u001b[0;34m\u001b[0m\u001b[0m\n\u001b[0m",
      "\u001b[0;32m/usr/local/lib/python3.6/dist-packages/sklearn/svm/base.py\u001b[0m in \u001b[0;36mfit\u001b[0;34m(self, X, y, sample_weight)\u001b[0m\n\u001b[1;32m    148\u001b[0m                          \u001b[0morder\u001b[0m\u001b[0;34m=\u001b[0m\u001b[0;34m'C'\u001b[0m\u001b[0;34m,\u001b[0m \u001b[0maccept_sparse\u001b[0m\u001b[0;34m=\u001b[0m\u001b[0;34m'csr'\u001b[0m\u001b[0;34m,\u001b[0m\u001b[0;34m\u001b[0m\u001b[0m\n\u001b[1;32m    149\u001b[0m                          accept_large_sparse=False)\n\u001b[0;32m--> 150\u001b[0;31m         \u001b[0my\u001b[0m \u001b[0;34m=\u001b[0m \u001b[0mself\u001b[0m\u001b[0;34m.\u001b[0m\u001b[0m_validate_targets\u001b[0m\u001b[0;34m(\u001b[0m\u001b[0my\u001b[0m\u001b[0;34m)\u001b[0m\u001b[0;34m\u001b[0m\u001b[0m\n\u001b[0m\u001b[1;32m    151\u001b[0m \u001b[0;34m\u001b[0m\u001b[0m\n\u001b[1;32m    152\u001b[0m         sample_weight = np.asarray([]\n",
      "\u001b[0;32m/usr/local/lib/python3.6/dist-packages/sklearn/svm/base.py\u001b[0m in \u001b[0;36m_validate_targets\u001b[0;34m(self, y)\u001b[0m\n\u001b[1;32m    523\u001b[0m             raise ValueError(\n\u001b[1;32m    524\u001b[0m                 \u001b[0;34m\"The number of classes has to be greater than one; got %d\"\u001b[0m\u001b[0;34m\u001b[0m\u001b[0m\n\u001b[0;32m--> 525\u001b[0;31m                 \" class\" % len(cls))\n\u001b[0m\u001b[1;32m    526\u001b[0m \u001b[0;34m\u001b[0m\u001b[0m\n\u001b[1;32m    527\u001b[0m         \u001b[0mself\u001b[0m\u001b[0;34m.\u001b[0m\u001b[0mclasses_\u001b[0m \u001b[0;34m=\u001b[0m \u001b[0mcls\u001b[0m\u001b[0;34m\u001b[0m\u001b[0m\n",
      "\u001b[0;31mValueError\u001b[0m: The number of classes has to be greater than one; got 1 class"
     ]
    }
   ],
   "source": [
    "x_train = np.array(image_x , dtype=\"float\")\n",
    "y_train = np.array(image_y)\n",
    "print (x_train.shape)\n",
    "print (y_train.shape)\n",
    "from sklearn import svm\n",
    "clf = svm.SVC()\n",
    "clf.fit(x_train, y_train)"
   ]
  },
  {
   "cell_type": "markdown",
   "metadata": {},
   "source": [
    "# Extending model to all images "
   ]
  },
  {
   "cell_type": "code",
   "execution_count": 3,
   "metadata": {},
   "outputs": [
    {
     "name": "stdout",
     "output_type": "stream",
     "text": [
      "/home/syedjafer/Documents/Handwriting_recognition_svm/images/a/\n",
      "['/home/syedjafer/Documents/Handwriting_recognition_svm/images/a/a_11.png', '/home/syedjafer/Documents/Handwriting_recognition_svm/images/a/a_12.png', '/home/syedjafer/Documents/Handwriting_recognition_svm/images/a/a_01.png', '/home/syedjafer/Documents/Handwriting_recognition_svm/images/a/a_21.png', '/home/syedjafer/Documents/Handwriting_recognition_svm/images/a/a_02.png', '/home/syedjafer/Documents/Handwriting_recognition_svm/images/a/a_08.png', '/home/syedjafer/Documents/Handwriting_recognition_svm/images/a/a_14.png', '/home/syedjafer/Documents/Handwriting_recognition_svm/images/a/a_00.png', '/home/syedjafer/Documents/Handwriting_recognition_svm/images/a/a_18.png', '/home/syedjafer/Documents/Handwriting_recognition_svm/images/a/a_19.png', '/home/syedjafer/Documents/Handwriting_recognition_svm/images/a/a_13.png', '/home/syedjafer/Documents/Handwriting_recognition_svm/images/a/a_03.png', '/home/syedjafer/Documents/Handwriting_recognition_svm/images/a/a_06.png', '/home/syedjafer/Documents/Handwriting_recognition_svm/images/a/a_04.png', '/home/syedjafer/Documents/Handwriting_recognition_svm/images/a/a_07.png', '/home/syedjafer/Documents/Handwriting_recognition_svm/images/a/a_15.png', '/home/syedjafer/Documents/Handwriting_recognition_svm/images/a/a_16.png', '/home/syedjafer/Documents/Handwriting_recognition_svm/images/a/a_09.png', '/home/syedjafer/Documents/Handwriting_recognition_svm/images/a/a_10.png', '/home/syedjafer/Documents/Handwriting_recognition_svm/images/a/a_20.png', '/home/syedjafer/Documents/Handwriting_recognition_svm/images/a/a_05.png', '/home/syedjafer/Documents/Handwriting_recognition_svm/images/a/a_17.png']\n",
      "/home/syedjafer/Documents/Handwriting_recognition_svm/images/b/\n",
      "['/home/syedjafer/Documents/Handwriting_recognition_svm/images/a/a_11.png', '/home/syedjafer/Documents/Handwriting_recognition_svm/images/a/a_12.png', '/home/syedjafer/Documents/Handwriting_recognition_svm/images/a/a_01.png', '/home/syedjafer/Documents/Handwriting_recognition_svm/images/a/a_21.png', '/home/syedjafer/Documents/Handwriting_recognition_svm/images/a/a_02.png', '/home/syedjafer/Documents/Handwriting_recognition_svm/images/a/a_08.png', '/home/syedjafer/Documents/Handwriting_recognition_svm/images/a/a_14.png', '/home/syedjafer/Documents/Handwriting_recognition_svm/images/a/a_00.png', '/home/syedjafer/Documents/Handwriting_recognition_svm/images/a/a_18.png', '/home/syedjafer/Documents/Handwriting_recognition_svm/images/a/a_19.png', '/home/syedjafer/Documents/Handwriting_recognition_svm/images/a/a_13.png', '/home/syedjafer/Documents/Handwriting_recognition_svm/images/a/a_03.png', '/home/syedjafer/Documents/Handwriting_recognition_svm/images/a/a_06.png', '/home/syedjafer/Documents/Handwriting_recognition_svm/images/a/a_04.png', '/home/syedjafer/Documents/Handwriting_recognition_svm/images/a/a_07.png', '/home/syedjafer/Documents/Handwriting_recognition_svm/images/a/a_15.png', '/home/syedjafer/Documents/Handwriting_recognition_svm/images/a/a_16.png', '/home/syedjafer/Documents/Handwriting_recognition_svm/images/a/a_09.png', '/home/syedjafer/Documents/Handwriting_recognition_svm/images/a/a_10.png', '/home/syedjafer/Documents/Handwriting_recognition_svm/images/a/a_20.png', '/home/syedjafer/Documents/Handwriting_recognition_svm/images/a/a_05.png', '/home/syedjafer/Documents/Handwriting_recognition_svm/images/a/a_17.png', '/home/syedjafer/Documents/Handwriting_recognition_svm/images/b/b_09.png', '/home/syedjafer/Documents/Handwriting_recognition_svm/images/b/b_03.png', '/home/syedjafer/Documents/Handwriting_recognition_svm/images/b/b_24.png', '/home/syedjafer/Documents/Handwriting_recognition_svm/images/b/b_16.png', '/home/syedjafer/Documents/Handwriting_recognition_svm/images/b/b_10.png', '/home/syedjafer/Documents/Handwriting_recognition_svm/images/b/b_13.png', '/home/syedjafer/Documents/Handwriting_recognition_svm/images/b/b_21.png', '/home/syedjafer/Documents/Handwriting_recognition_svm/images/b/b_22.png', '/home/syedjafer/Documents/Handwriting_recognition_svm/images/b/b_23.png', '/home/syedjafer/Documents/Handwriting_recognition_svm/images/b/b_14.png', '/home/syedjafer/Documents/Handwriting_recognition_svm/images/b/b_08.png', '/home/syedjafer/Documents/Handwriting_recognition_svm/images/b/b_07.png', '/home/syedjafer/Documents/Handwriting_recognition_svm/images/b/b_19.png', '/home/syedjafer/Documents/Handwriting_recognition_svm/images/b/b_18.png', '/home/syedjafer/Documents/Handwriting_recognition_svm/images/b/b_02.png', '/home/syedjafer/Documents/Handwriting_recognition_svm/images/b/b_06.png', '/home/syedjafer/Documents/Handwriting_recognition_svm/images/b/b_05.png', '/home/syedjafer/Documents/Handwriting_recognition_svm/images/b/b_11.png', '/home/syedjafer/Documents/Handwriting_recognition_svm/images/b/b_15.png', '/home/syedjafer/Documents/Handwriting_recognition_svm/images/b/b_17.png', '/home/syedjafer/Documents/Handwriting_recognition_svm/images/b/b_04.png', '/home/syedjafer/Documents/Handwriting_recognition_svm/images/b/b_12.png', '/home/syedjafer/Documents/Handwriting_recognition_svm/images/b/b_20.png', '/home/syedjafer/Documents/Handwriting_recognition_svm/images/b/b_01.png']\n",
      "/home/syedjafer/Documents/Handwriting_recognition_svm/images/c/\n",
      "['/home/syedjafer/Documents/Handwriting_recognition_svm/images/a/a_11.png', '/home/syedjafer/Documents/Handwriting_recognition_svm/images/a/a_12.png', '/home/syedjafer/Documents/Handwriting_recognition_svm/images/a/a_01.png', '/home/syedjafer/Documents/Handwriting_recognition_svm/images/a/a_21.png', '/home/syedjafer/Documents/Handwriting_recognition_svm/images/a/a_02.png', '/home/syedjafer/Documents/Handwriting_recognition_svm/images/a/a_08.png', '/home/syedjafer/Documents/Handwriting_recognition_svm/images/a/a_14.png', '/home/syedjafer/Documents/Handwriting_recognition_svm/images/a/a_00.png', '/home/syedjafer/Documents/Handwriting_recognition_svm/images/a/a_18.png', '/home/syedjafer/Documents/Handwriting_recognition_svm/images/a/a_19.png', '/home/syedjafer/Documents/Handwriting_recognition_svm/images/a/a_13.png', '/home/syedjafer/Documents/Handwriting_recognition_svm/images/a/a_03.png', '/home/syedjafer/Documents/Handwriting_recognition_svm/images/a/a_06.png', '/home/syedjafer/Documents/Handwriting_recognition_svm/images/a/a_04.png', '/home/syedjafer/Documents/Handwriting_recognition_svm/images/a/a_07.png', '/home/syedjafer/Documents/Handwriting_recognition_svm/images/a/a_15.png', '/home/syedjafer/Documents/Handwriting_recognition_svm/images/a/a_16.png', '/home/syedjafer/Documents/Handwriting_recognition_svm/images/a/a_09.png', '/home/syedjafer/Documents/Handwriting_recognition_svm/images/a/a_10.png', '/home/syedjafer/Documents/Handwriting_recognition_svm/images/a/a_20.png', '/home/syedjafer/Documents/Handwriting_recognition_svm/images/a/a_05.png', '/home/syedjafer/Documents/Handwriting_recognition_svm/images/a/a_17.png', '/home/syedjafer/Documents/Handwriting_recognition_svm/images/b/b_09.png', '/home/syedjafer/Documents/Handwriting_recognition_svm/images/b/b_03.png', '/home/syedjafer/Documents/Handwriting_recognition_svm/images/b/b_24.png', '/home/syedjafer/Documents/Handwriting_recognition_svm/images/b/b_16.png', '/home/syedjafer/Documents/Handwriting_recognition_svm/images/b/b_10.png', '/home/syedjafer/Documents/Handwriting_recognition_svm/images/b/b_13.png', '/home/syedjafer/Documents/Handwriting_recognition_svm/images/b/b_21.png', '/home/syedjafer/Documents/Handwriting_recognition_svm/images/b/b_22.png', '/home/syedjafer/Documents/Handwriting_recognition_svm/images/b/b_23.png', '/home/syedjafer/Documents/Handwriting_recognition_svm/images/b/b_14.png', '/home/syedjafer/Documents/Handwriting_recognition_svm/images/b/b_08.png', '/home/syedjafer/Documents/Handwriting_recognition_svm/images/b/b_07.png', '/home/syedjafer/Documents/Handwriting_recognition_svm/images/b/b_19.png', '/home/syedjafer/Documents/Handwriting_recognition_svm/images/b/b_18.png', '/home/syedjafer/Documents/Handwriting_recognition_svm/images/b/b_02.png', '/home/syedjafer/Documents/Handwriting_recognition_svm/images/b/b_06.png', '/home/syedjafer/Documents/Handwriting_recognition_svm/images/b/b_05.png', '/home/syedjafer/Documents/Handwriting_recognition_svm/images/b/b_11.png', '/home/syedjafer/Documents/Handwriting_recognition_svm/images/b/b_15.png', '/home/syedjafer/Documents/Handwriting_recognition_svm/images/b/b_17.png', '/home/syedjafer/Documents/Handwriting_recognition_svm/images/b/b_04.png', '/home/syedjafer/Documents/Handwriting_recognition_svm/images/b/b_12.png', '/home/syedjafer/Documents/Handwriting_recognition_svm/images/b/b_20.png', '/home/syedjafer/Documents/Handwriting_recognition_svm/images/b/b_01.png', '/home/syedjafer/Documents/Handwriting_recognition_svm/images/c/c_03.png', '/home/syedjafer/Documents/Handwriting_recognition_svm/images/c/c_24.png', '/home/syedjafer/Documents/Handwriting_recognition_svm/images/c/c_07.png', '/home/syedjafer/Documents/Handwriting_recognition_svm/images/c/c_18.png', '/home/syedjafer/Documents/Handwriting_recognition_svm/images/c/c_16.png', '/home/syedjafer/Documents/Handwriting_recognition_svm/images/c/c_14.png', '/home/syedjafer/Documents/Handwriting_recognition_svm/images/c/c_10.png', '/home/syedjafer/Documents/Handwriting_recognition_svm/images/c/c_05.png', '/home/syedjafer/Documents/Handwriting_recognition_svm/images/c/c_00.png', '/home/syedjafer/Documents/Handwriting_recognition_svm/images/c/c_02.png', '/home/syedjafer/Documents/Handwriting_recognition_svm/images/c/c_08.png', '/home/syedjafer/Documents/Handwriting_recognition_svm/images/c/c_09.png', '/home/syedjafer/Documents/Handwriting_recognition_svm/images/c/c_17.png', '/home/syedjafer/Documents/Handwriting_recognition_svm/images/c/c_01.png', '/home/syedjafer/Documents/Handwriting_recognition_svm/images/c/c_12.png', '/home/syedjafer/Documents/Handwriting_recognition_svm/images/c/c_19.png', '/home/syedjafer/Documents/Handwriting_recognition_svm/images/c/c_23.png', '/home/syedjafer/Documents/Handwriting_recognition_svm/images/c/c_04.png', '/home/syedjafer/Documents/Handwriting_recognition_svm/images/c/c_21.png', '/home/syedjafer/Documents/Handwriting_recognition_svm/images/c/c_13.png', '/home/syedjafer/Documents/Handwriting_recognition_svm/images/c/c_20.png', '/home/syedjafer/Documents/Handwriting_recognition_svm/images/c/c_06.png', '/home/syedjafer/Documents/Handwriting_recognition_svm/images/c/c_11.png', '/home/syedjafer/Documents/Handwriting_recognition_svm/images/c/c_22.png', '/home/syedjafer/Documents/Handwriting_recognition_svm/images/c/c_15.png']\n",
      "/home/syedjafer/Documents/Handwriting_recognition_svm/images/d/\n",
      "['/home/syedjafer/Documents/Handwriting_recognition_svm/images/a/a_11.png', '/home/syedjafer/Documents/Handwriting_recognition_svm/images/a/a_12.png', '/home/syedjafer/Documents/Handwriting_recognition_svm/images/a/a_01.png', '/home/syedjafer/Documents/Handwriting_recognition_svm/images/a/a_21.png', '/home/syedjafer/Documents/Handwriting_recognition_svm/images/a/a_02.png', '/home/syedjafer/Documents/Handwriting_recognition_svm/images/a/a_08.png', '/home/syedjafer/Documents/Handwriting_recognition_svm/images/a/a_14.png', '/home/syedjafer/Documents/Handwriting_recognition_svm/images/a/a_00.png', '/home/syedjafer/Documents/Handwriting_recognition_svm/images/a/a_18.png', '/home/syedjafer/Documents/Handwriting_recognition_svm/images/a/a_19.png', '/home/syedjafer/Documents/Handwriting_recognition_svm/images/a/a_13.png', '/home/syedjafer/Documents/Handwriting_recognition_svm/images/a/a_03.png', '/home/syedjafer/Documents/Handwriting_recognition_svm/images/a/a_06.png', '/home/syedjafer/Documents/Handwriting_recognition_svm/images/a/a_04.png', '/home/syedjafer/Documents/Handwriting_recognition_svm/images/a/a_07.png', '/home/syedjafer/Documents/Handwriting_recognition_svm/images/a/a_15.png', '/home/syedjafer/Documents/Handwriting_recognition_svm/images/a/a_16.png', '/home/syedjafer/Documents/Handwriting_recognition_svm/images/a/a_09.png', '/home/syedjafer/Documents/Handwriting_recognition_svm/images/a/a_10.png', '/home/syedjafer/Documents/Handwriting_recognition_svm/images/a/a_20.png', '/home/syedjafer/Documents/Handwriting_recognition_svm/images/a/a_05.png', '/home/syedjafer/Documents/Handwriting_recognition_svm/images/a/a_17.png', '/home/syedjafer/Documents/Handwriting_recognition_svm/images/b/b_09.png', '/home/syedjafer/Documents/Handwriting_recognition_svm/images/b/b_03.png', '/home/syedjafer/Documents/Handwriting_recognition_svm/images/b/b_24.png', '/home/syedjafer/Documents/Handwriting_recognition_svm/images/b/b_16.png', '/home/syedjafer/Documents/Handwriting_recognition_svm/images/b/b_10.png', '/home/syedjafer/Documents/Handwriting_recognition_svm/images/b/b_13.png', '/home/syedjafer/Documents/Handwriting_recognition_svm/images/b/b_21.png', '/home/syedjafer/Documents/Handwriting_recognition_svm/images/b/b_22.png', '/home/syedjafer/Documents/Handwriting_recognition_svm/images/b/b_23.png', '/home/syedjafer/Documents/Handwriting_recognition_svm/images/b/b_14.png', '/home/syedjafer/Documents/Handwriting_recognition_svm/images/b/b_08.png', '/home/syedjafer/Documents/Handwriting_recognition_svm/images/b/b_07.png', '/home/syedjafer/Documents/Handwriting_recognition_svm/images/b/b_19.png', '/home/syedjafer/Documents/Handwriting_recognition_svm/images/b/b_18.png', '/home/syedjafer/Documents/Handwriting_recognition_svm/images/b/b_02.png', '/home/syedjafer/Documents/Handwriting_recognition_svm/images/b/b_06.png', '/home/syedjafer/Documents/Handwriting_recognition_svm/images/b/b_05.png', '/home/syedjafer/Documents/Handwriting_recognition_svm/images/b/b_11.png', '/home/syedjafer/Documents/Handwriting_recognition_svm/images/b/b_15.png', '/home/syedjafer/Documents/Handwriting_recognition_svm/images/b/b_17.png', '/home/syedjafer/Documents/Handwriting_recognition_svm/images/b/b_04.png', '/home/syedjafer/Documents/Handwriting_recognition_svm/images/b/b_12.png', '/home/syedjafer/Documents/Handwriting_recognition_svm/images/b/b_20.png', '/home/syedjafer/Documents/Handwriting_recognition_svm/images/b/b_01.png', '/home/syedjafer/Documents/Handwriting_recognition_svm/images/c/c_03.png', '/home/syedjafer/Documents/Handwriting_recognition_svm/images/c/c_24.png', '/home/syedjafer/Documents/Handwriting_recognition_svm/images/c/c_07.png', '/home/syedjafer/Documents/Handwriting_recognition_svm/images/c/c_18.png', '/home/syedjafer/Documents/Handwriting_recognition_svm/images/c/c_16.png', '/home/syedjafer/Documents/Handwriting_recognition_svm/images/c/c_14.png', '/home/syedjafer/Documents/Handwriting_recognition_svm/images/c/c_10.png', '/home/syedjafer/Documents/Handwriting_recognition_svm/images/c/c_05.png', '/home/syedjafer/Documents/Handwriting_recognition_svm/images/c/c_00.png', '/home/syedjafer/Documents/Handwriting_recognition_svm/images/c/c_02.png', '/home/syedjafer/Documents/Handwriting_recognition_svm/images/c/c_08.png', '/home/syedjafer/Documents/Handwriting_recognition_svm/images/c/c_09.png', '/home/syedjafer/Documents/Handwriting_recognition_svm/images/c/c_17.png', '/home/syedjafer/Documents/Handwriting_recognition_svm/images/c/c_01.png', '/home/syedjafer/Documents/Handwriting_recognition_svm/images/c/c_12.png', '/home/syedjafer/Documents/Handwriting_recognition_svm/images/c/c_19.png', '/home/syedjafer/Documents/Handwriting_recognition_svm/images/c/c_23.png', '/home/syedjafer/Documents/Handwriting_recognition_svm/images/c/c_04.png', '/home/syedjafer/Documents/Handwriting_recognition_svm/images/c/c_21.png', '/home/syedjafer/Documents/Handwriting_recognition_svm/images/c/c_13.png', '/home/syedjafer/Documents/Handwriting_recognition_svm/images/c/c_20.png', '/home/syedjafer/Documents/Handwriting_recognition_svm/images/c/c_06.png', '/home/syedjafer/Documents/Handwriting_recognition_svm/images/c/c_11.png', '/home/syedjafer/Documents/Handwriting_recognition_svm/images/c/c_22.png', '/home/syedjafer/Documents/Handwriting_recognition_svm/images/c/c_15.png', '/home/syedjafer/Documents/Handwriting_recognition_svm/images/d/d_05.png', '/home/syedjafer/Documents/Handwriting_recognition_svm/images/d/d_10.png', '/home/syedjafer/Documents/Handwriting_recognition_svm/images/d/d_01.png', '/home/syedjafer/Documents/Handwriting_recognition_svm/images/d/d_19.png', '/home/syedjafer/Documents/Handwriting_recognition_svm/images/d/d_06.png', '/home/syedjafer/Documents/Handwriting_recognition_svm/images/d/d_04.png', '/home/syedjafer/Documents/Handwriting_recognition_svm/images/d/d_11.png', '/home/syedjafer/Documents/Handwriting_recognition_svm/images/d/d_12.png', '/home/syedjafer/Documents/Handwriting_recognition_svm/images/d/d_14.png', '/home/syedjafer/Documents/Handwriting_recognition_svm/images/d/d_16.png', '/home/syedjafer/Documents/Handwriting_recognition_svm/images/d/d_18.png', '/home/syedjafer/Documents/Handwriting_recognition_svm/images/d/d_00.png', '/home/syedjafer/Documents/Handwriting_recognition_svm/images/d/d_08.png', '/home/syedjafer/Documents/Handwriting_recognition_svm/images/d/d_13.png', '/home/syedjafer/Documents/Handwriting_recognition_svm/images/d/d_02.png', '/home/syedjafer/Documents/Handwriting_recognition_svm/images/d/d_15.png', '/home/syedjafer/Documents/Handwriting_recognition_svm/images/d/d_09.png', '/home/syedjafer/Documents/Handwriting_recognition_svm/images/d/d_03.png', '/home/syedjafer/Documents/Handwriting_recognition_svm/images/d/d_17.png', '/home/syedjafer/Documents/Handwriting_recognition_svm/images/d/d_07.png']\n",
      "/home/syedjafer/Documents/Handwriting_recognition_svm/images/e/\n",
      "['/home/syedjafer/Documents/Handwriting_recognition_svm/images/a/a_11.png', '/home/syedjafer/Documents/Handwriting_recognition_svm/images/a/a_12.png', '/home/syedjafer/Documents/Handwriting_recognition_svm/images/a/a_01.png', '/home/syedjafer/Documents/Handwriting_recognition_svm/images/a/a_21.png', '/home/syedjafer/Documents/Handwriting_recognition_svm/images/a/a_02.png', '/home/syedjafer/Documents/Handwriting_recognition_svm/images/a/a_08.png', '/home/syedjafer/Documents/Handwriting_recognition_svm/images/a/a_14.png', '/home/syedjafer/Documents/Handwriting_recognition_svm/images/a/a_00.png', '/home/syedjafer/Documents/Handwriting_recognition_svm/images/a/a_18.png', '/home/syedjafer/Documents/Handwriting_recognition_svm/images/a/a_19.png', '/home/syedjafer/Documents/Handwriting_recognition_svm/images/a/a_13.png', '/home/syedjafer/Documents/Handwriting_recognition_svm/images/a/a_03.png', '/home/syedjafer/Documents/Handwriting_recognition_svm/images/a/a_06.png', '/home/syedjafer/Documents/Handwriting_recognition_svm/images/a/a_04.png', '/home/syedjafer/Documents/Handwriting_recognition_svm/images/a/a_07.png', '/home/syedjafer/Documents/Handwriting_recognition_svm/images/a/a_15.png', '/home/syedjafer/Documents/Handwriting_recognition_svm/images/a/a_16.png', '/home/syedjafer/Documents/Handwriting_recognition_svm/images/a/a_09.png', '/home/syedjafer/Documents/Handwriting_recognition_svm/images/a/a_10.png', '/home/syedjafer/Documents/Handwriting_recognition_svm/images/a/a_20.png', '/home/syedjafer/Documents/Handwriting_recognition_svm/images/a/a_05.png', '/home/syedjafer/Documents/Handwriting_recognition_svm/images/a/a_17.png', '/home/syedjafer/Documents/Handwriting_recognition_svm/images/b/b_09.png', '/home/syedjafer/Documents/Handwriting_recognition_svm/images/b/b_03.png', '/home/syedjafer/Documents/Handwriting_recognition_svm/images/b/b_24.png', '/home/syedjafer/Documents/Handwriting_recognition_svm/images/b/b_16.png', '/home/syedjafer/Documents/Handwriting_recognition_svm/images/b/b_10.png', '/home/syedjafer/Documents/Handwriting_recognition_svm/images/b/b_13.png', '/home/syedjafer/Documents/Handwriting_recognition_svm/images/b/b_21.png', '/home/syedjafer/Documents/Handwriting_recognition_svm/images/b/b_22.png', '/home/syedjafer/Documents/Handwriting_recognition_svm/images/b/b_23.png', '/home/syedjafer/Documents/Handwriting_recognition_svm/images/b/b_14.png', '/home/syedjafer/Documents/Handwriting_recognition_svm/images/b/b_08.png', '/home/syedjafer/Documents/Handwriting_recognition_svm/images/b/b_07.png', '/home/syedjafer/Documents/Handwriting_recognition_svm/images/b/b_19.png', '/home/syedjafer/Documents/Handwriting_recognition_svm/images/b/b_18.png', '/home/syedjafer/Documents/Handwriting_recognition_svm/images/b/b_02.png', '/home/syedjafer/Documents/Handwriting_recognition_svm/images/b/b_06.png', '/home/syedjafer/Documents/Handwriting_recognition_svm/images/b/b_05.png', '/home/syedjafer/Documents/Handwriting_recognition_svm/images/b/b_11.png', '/home/syedjafer/Documents/Handwriting_recognition_svm/images/b/b_15.png', '/home/syedjafer/Documents/Handwriting_recognition_svm/images/b/b_17.png', '/home/syedjafer/Documents/Handwriting_recognition_svm/images/b/b_04.png', '/home/syedjafer/Documents/Handwriting_recognition_svm/images/b/b_12.png', '/home/syedjafer/Documents/Handwriting_recognition_svm/images/b/b_20.png', '/home/syedjafer/Documents/Handwriting_recognition_svm/images/b/b_01.png', '/home/syedjafer/Documents/Handwriting_recognition_svm/images/c/c_03.png', '/home/syedjafer/Documents/Handwriting_recognition_svm/images/c/c_24.png', '/home/syedjafer/Documents/Handwriting_recognition_svm/images/c/c_07.png', '/home/syedjafer/Documents/Handwriting_recognition_svm/images/c/c_18.png', '/home/syedjafer/Documents/Handwriting_recognition_svm/images/c/c_16.png', '/home/syedjafer/Documents/Handwriting_recognition_svm/images/c/c_14.png', '/home/syedjafer/Documents/Handwriting_recognition_svm/images/c/c_10.png', '/home/syedjafer/Documents/Handwriting_recognition_svm/images/c/c_05.png', '/home/syedjafer/Documents/Handwriting_recognition_svm/images/c/c_00.png', '/home/syedjafer/Documents/Handwriting_recognition_svm/images/c/c_02.png', '/home/syedjafer/Documents/Handwriting_recognition_svm/images/c/c_08.png', '/home/syedjafer/Documents/Handwriting_recognition_svm/images/c/c_09.png', '/home/syedjafer/Documents/Handwriting_recognition_svm/images/c/c_17.png', '/home/syedjafer/Documents/Handwriting_recognition_svm/images/c/c_01.png', '/home/syedjafer/Documents/Handwriting_recognition_svm/images/c/c_12.png', '/home/syedjafer/Documents/Handwriting_recognition_svm/images/c/c_19.png', '/home/syedjafer/Documents/Handwriting_recognition_svm/images/c/c_23.png', '/home/syedjafer/Documents/Handwriting_recognition_svm/images/c/c_04.png', '/home/syedjafer/Documents/Handwriting_recognition_svm/images/c/c_21.png', '/home/syedjafer/Documents/Handwriting_recognition_svm/images/c/c_13.png', '/home/syedjafer/Documents/Handwriting_recognition_svm/images/c/c_20.png', '/home/syedjafer/Documents/Handwriting_recognition_svm/images/c/c_06.png', '/home/syedjafer/Documents/Handwriting_recognition_svm/images/c/c_11.png', '/home/syedjafer/Documents/Handwriting_recognition_svm/images/c/c_22.png', '/home/syedjafer/Documents/Handwriting_recognition_svm/images/c/c_15.png', '/home/syedjafer/Documents/Handwriting_recognition_svm/images/d/d_05.png', '/home/syedjafer/Documents/Handwriting_recognition_svm/images/d/d_10.png', '/home/syedjafer/Documents/Handwriting_recognition_svm/images/d/d_01.png', '/home/syedjafer/Documents/Handwriting_recognition_svm/images/d/d_19.png', '/home/syedjafer/Documents/Handwriting_recognition_svm/images/d/d_06.png', '/home/syedjafer/Documents/Handwriting_recognition_svm/images/d/d_04.png', '/home/syedjafer/Documents/Handwriting_recognition_svm/images/d/d_11.png', '/home/syedjafer/Documents/Handwriting_recognition_svm/images/d/d_12.png', '/home/syedjafer/Documents/Handwriting_recognition_svm/images/d/d_14.png', '/home/syedjafer/Documents/Handwriting_recognition_svm/images/d/d_16.png', '/home/syedjafer/Documents/Handwriting_recognition_svm/images/d/d_18.png', '/home/syedjafer/Documents/Handwriting_recognition_svm/images/d/d_00.png', '/home/syedjafer/Documents/Handwriting_recognition_svm/images/d/d_08.png', '/home/syedjafer/Documents/Handwriting_recognition_svm/images/d/d_13.png', '/home/syedjafer/Documents/Handwriting_recognition_svm/images/d/d_02.png', '/home/syedjafer/Documents/Handwriting_recognition_svm/images/d/d_15.png', '/home/syedjafer/Documents/Handwriting_recognition_svm/images/d/d_09.png', '/home/syedjafer/Documents/Handwriting_recognition_svm/images/d/d_03.png', '/home/syedjafer/Documents/Handwriting_recognition_svm/images/d/d_17.png', '/home/syedjafer/Documents/Handwriting_recognition_svm/images/d/d_07.png', '/home/syedjafer/Documents/Handwriting_recognition_svm/images/e/e_06.png', '/home/syedjafer/Documents/Handwriting_recognition_svm/images/e/e_07.png', '/home/syedjafer/Documents/Handwriting_recognition_svm/images/e/e_13.png', '/home/syedjafer/Documents/Handwriting_recognition_svm/images/e/e_02.png', '/home/syedjafer/Documents/Handwriting_recognition_svm/images/e/e_15.png', '/home/syedjafer/Documents/Handwriting_recognition_svm/images/e/e_19.png', '/home/syedjafer/Documents/Handwriting_recognition_svm/images/e/e_16.png', '/home/syedjafer/Documents/Handwriting_recognition_svm/images/e/e_20.png', '/home/syedjafer/Documents/Handwriting_recognition_svm/images/e/e_10.png', '/home/syedjafer/Documents/Handwriting_recognition_svm/images/e/e_09.png', '/home/syedjafer/Documents/Handwriting_recognition_svm/images/e/e_17.png', '/home/syedjafer/Documents/Handwriting_recognition_svm/images/e/e_00.png', '/home/syedjafer/Documents/Handwriting_recognition_svm/images/e/e_01.png', '/home/syedjafer/Documents/Handwriting_recognition_svm/images/e/e_08.png', '/home/syedjafer/Documents/Handwriting_recognition_svm/images/e/e_05.png', '/home/syedjafer/Documents/Handwriting_recognition_svm/images/e/e_03.png', '/home/syedjafer/Documents/Handwriting_recognition_svm/images/e/e_12.png', '/home/syedjafer/Documents/Handwriting_recognition_svm/images/e/e_11.png', '/home/syedjafer/Documents/Handwriting_recognition_svm/images/e/e_04.png', '/home/syedjafer/Documents/Handwriting_recognition_svm/images/e/e_14.png', '/home/syedjafer/Documents/Handwriting_recognition_svm/images/e/e_18.png', '/home/syedjafer/Documents/Handwriting_recognition_svm/images/e/e_21.png']\n",
      "/home/syedjafer/Documents/Handwriting_recognition_svm/images/f/\n",
      "['/home/syedjafer/Documents/Handwriting_recognition_svm/images/a/a_11.png', '/home/syedjafer/Documents/Handwriting_recognition_svm/images/a/a_12.png', '/home/syedjafer/Documents/Handwriting_recognition_svm/images/a/a_01.png', '/home/syedjafer/Documents/Handwriting_recognition_svm/images/a/a_21.png', '/home/syedjafer/Documents/Handwriting_recognition_svm/images/a/a_02.png', '/home/syedjafer/Documents/Handwriting_recognition_svm/images/a/a_08.png', '/home/syedjafer/Documents/Handwriting_recognition_svm/images/a/a_14.png', '/home/syedjafer/Documents/Handwriting_recognition_svm/images/a/a_00.png', '/home/syedjafer/Documents/Handwriting_recognition_svm/images/a/a_18.png', '/home/syedjafer/Documents/Handwriting_recognition_svm/images/a/a_19.png', '/home/syedjafer/Documents/Handwriting_recognition_svm/images/a/a_13.png', '/home/syedjafer/Documents/Handwriting_recognition_svm/images/a/a_03.png', '/home/syedjafer/Documents/Handwriting_recognition_svm/images/a/a_06.png', '/home/syedjafer/Documents/Handwriting_recognition_svm/images/a/a_04.png', '/home/syedjafer/Documents/Handwriting_recognition_svm/images/a/a_07.png', '/home/syedjafer/Documents/Handwriting_recognition_svm/images/a/a_15.png', '/home/syedjafer/Documents/Handwriting_recognition_svm/images/a/a_16.png', '/home/syedjafer/Documents/Handwriting_recognition_svm/images/a/a_09.png', '/home/syedjafer/Documents/Handwriting_recognition_svm/images/a/a_10.png', '/home/syedjafer/Documents/Handwriting_recognition_svm/images/a/a_20.png', '/home/syedjafer/Documents/Handwriting_recognition_svm/images/a/a_05.png', '/home/syedjafer/Documents/Handwriting_recognition_svm/images/a/a_17.png', '/home/syedjafer/Documents/Handwriting_recognition_svm/images/b/b_09.png', '/home/syedjafer/Documents/Handwriting_recognition_svm/images/b/b_03.png', '/home/syedjafer/Documents/Handwriting_recognition_svm/images/b/b_24.png', '/home/syedjafer/Documents/Handwriting_recognition_svm/images/b/b_16.png', '/home/syedjafer/Documents/Handwriting_recognition_svm/images/b/b_10.png', '/home/syedjafer/Documents/Handwriting_recognition_svm/images/b/b_13.png', '/home/syedjafer/Documents/Handwriting_recognition_svm/images/b/b_21.png', '/home/syedjafer/Documents/Handwriting_recognition_svm/images/b/b_22.png', '/home/syedjafer/Documents/Handwriting_recognition_svm/images/b/b_23.png', '/home/syedjafer/Documents/Handwriting_recognition_svm/images/b/b_14.png', '/home/syedjafer/Documents/Handwriting_recognition_svm/images/b/b_08.png', '/home/syedjafer/Documents/Handwriting_recognition_svm/images/b/b_07.png', '/home/syedjafer/Documents/Handwriting_recognition_svm/images/b/b_19.png', '/home/syedjafer/Documents/Handwriting_recognition_svm/images/b/b_18.png', '/home/syedjafer/Documents/Handwriting_recognition_svm/images/b/b_02.png', '/home/syedjafer/Documents/Handwriting_recognition_svm/images/b/b_06.png', '/home/syedjafer/Documents/Handwriting_recognition_svm/images/b/b_05.png', '/home/syedjafer/Documents/Handwriting_recognition_svm/images/b/b_11.png', '/home/syedjafer/Documents/Handwriting_recognition_svm/images/b/b_15.png', '/home/syedjafer/Documents/Handwriting_recognition_svm/images/b/b_17.png', '/home/syedjafer/Documents/Handwriting_recognition_svm/images/b/b_04.png', '/home/syedjafer/Documents/Handwriting_recognition_svm/images/b/b_12.png', '/home/syedjafer/Documents/Handwriting_recognition_svm/images/b/b_20.png', '/home/syedjafer/Documents/Handwriting_recognition_svm/images/b/b_01.png', '/home/syedjafer/Documents/Handwriting_recognition_svm/images/c/c_03.png', '/home/syedjafer/Documents/Handwriting_recognition_svm/images/c/c_24.png', '/home/syedjafer/Documents/Handwriting_recognition_svm/images/c/c_07.png', '/home/syedjafer/Documents/Handwriting_recognition_svm/images/c/c_18.png', '/home/syedjafer/Documents/Handwriting_recognition_svm/images/c/c_16.png', '/home/syedjafer/Documents/Handwriting_recognition_svm/images/c/c_14.png', '/home/syedjafer/Documents/Handwriting_recognition_svm/images/c/c_10.png', '/home/syedjafer/Documents/Handwriting_recognition_svm/images/c/c_05.png', '/home/syedjafer/Documents/Handwriting_recognition_svm/images/c/c_00.png', '/home/syedjafer/Documents/Handwriting_recognition_svm/images/c/c_02.png', '/home/syedjafer/Documents/Handwriting_recognition_svm/images/c/c_08.png', '/home/syedjafer/Documents/Handwriting_recognition_svm/images/c/c_09.png', '/home/syedjafer/Documents/Handwriting_recognition_svm/images/c/c_17.png', '/home/syedjafer/Documents/Handwriting_recognition_svm/images/c/c_01.png', '/home/syedjafer/Documents/Handwriting_recognition_svm/images/c/c_12.png', '/home/syedjafer/Documents/Handwriting_recognition_svm/images/c/c_19.png', '/home/syedjafer/Documents/Handwriting_recognition_svm/images/c/c_23.png', '/home/syedjafer/Documents/Handwriting_recognition_svm/images/c/c_04.png', '/home/syedjafer/Documents/Handwriting_recognition_svm/images/c/c_21.png', '/home/syedjafer/Documents/Handwriting_recognition_svm/images/c/c_13.png', '/home/syedjafer/Documents/Handwriting_recognition_svm/images/c/c_20.png', '/home/syedjafer/Documents/Handwriting_recognition_svm/images/c/c_06.png', '/home/syedjafer/Documents/Handwriting_recognition_svm/images/c/c_11.png', '/home/syedjafer/Documents/Handwriting_recognition_svm/images/c/c_22.png', '/home/syedjafer/Documents/Handwriting_recognition_svm/images/c/c_15.png', '/home/syedjafer/Documents/Handwriting_recognition_svm/images/d/d_05.png', '/home/syedjafer/Documents/Handwriting_recognition_svm/images/d/d_10.png', '/home/syedjafer/Documents/Handwriting_recognition_svm/images/d/d_01.png', '/home/syedjafer/Documents/Handwriting_recognition_svm/images/d/d_19.png', '/home/syedjafer/Documents/Handwriting_recognition_svm/images/d/d_06.png', '/home/syedjafer/Documents/Handwriting_recognition_svm/images/d/d_04.png', '/home/syedjafer/Documents/Handwriting_recognition_svm/images/d/d_11.png', '/home/syedjafer/Documents/Handwriting_recognition_svm/images/d/d_12.png', '/home/syedjafer/Documents/Handwriting_recognition_svm/images/d/d_14.png', '/home/syedjafer/Documents/Handwriting_recognition_svm/images/d/d_16.png', '/home/syedjafer/Documents/Handwriting_recognition_svm/images/d/d_18.png', '/home/syedjafer/Documents/Handwriting_recognition_svm/images/d/d_00.png', '/home/syedjafer/Documents/Handwriting_recognition_svm/images/d/d_08.png', '/home/syedjafer/Documents/Handwriting_recognition_svm/images/d/d_13.png', '/home/syedjafer/Documents/Handwriting_recognition_svm/images/d/d_02.png', '/home/syedjafer/Documents/Handwriting_recognition_svm/images/d/d_15.png', '/home/syedjafer/Documents/Handwriting_recognition_svm/images/d/d_09.png', '/home/syedjafer/Documents/Handwriting_recognition_svm/images/d/d_03.png', '/home/syedjafer/Documents/Handwriting_recognition_svm/images/d/d_17.png', '/home/syedjafer/Documents/Handwriting_recognition_svm/images/d/d_07.png', '/home/syedjafer/Documents/Handwriting_recognition_svm/images/e/e_06.png', '/home/syedjafer/Documents/Handwriting_recognition_svm/images/e/e_07.png', '/home/syedjafer/Documents/Handwriting_recognition_svm/images/e/e_13.png', '/home/syedjafer/Documents/Handwriting_recognition_svm/images/e/e_02.png', '/home/syedjafer/Documents/Handwriting_recognition_svm/images/e/e_15.png', '/home/syedjafer/Documents/Handwriting_recognition_svm/images/e/e_19.png', '/home/syedjafer/Documents/Handwriting_recognition_svm/images/e/e_16.png', '/home/syedjafer/Documents/Handwriting_recognition_svm/images/e/e_20.png', '/home/syedjafer/Documents/Handwriting_recognition_svm/images/e/e_10.png', '/home/syedjafer/Documents/Handwriting_recognition_svm/images/e/e_09.png', '/home/syedjafer/Documents/Handwriting_recognition_svm/images/e/e_17.png', '/home/syedjafer/Documents/Handwriting_recognition_svm/images/e/e_00.png', '/home/syedjafer/Documents/Handwriting_recognition_svm/images/e/e_01.png', '/home/syedjafer/Documents/Handwriting_recognition_svm/images/e/e_08.png', '/home/syedjafer/Documents/Handwriting_recognition_svm/images/e/e_05.png', '/home/syedjafer/Documents/Handwriting_recognition_svm/images/e/e_03.png', '/home/syedjafer/Documents/Handwriting_recognition_svm/images/e/e_12.png', '/home/syedjafer/Documents/Handwriting_recognition_svm/images/e/e_11.png', '/home/syedjafer/Documents/Handwriting_recognition_svm/images/e/e_04.png', '/home/syedjafer/Documents/Handwriting_recognition_svm/images/e/e_14.png', '/home/syedjafer/Documents/Handwriting_recognition_svm/images/e/e_18.png', '/home/syedjafer/Documents/Handwriting_recognition_svm/images/e/e_21.png', '/home/syedjafer/Documents/Handwriting_recognition_svm/images/f/f_18.png', '/home/syedjafer/Documents/Handwriting_recognition_svm/images/f/f_03.png', '/home/syedjafer/Documents/Handwriting_recognition_svm/images/f/f_25.png', '/home/syedjafer/Documents/Handwriting_recognition_svm/images/f/f_01.png', '/home/syedjafer/Documents/Handwriting_recognition_svm/images/f/f_00.png', '/home/syedjafer/Documents/Handwriting_recognition_svm/images/f/f_21.png', '/home/syedjafer/Documents/Handwriting_recognition_svm/images/f/f_22.png', '/home/syedjafer/Documents/Handwriting_recognition_svm/images/f/f_17.png', '/home/syedjafer/Documents/Handwriting_recognition_svm/images/f/f_07.png', '/home/syedjafer/Documents/Handwriting_recognition_svm/images/f/f_08.png', '/home/syedjafer/Documents/Handwriting_recognition_svm/images/f/f_05.png', '/home/syedjafer/Documents/Handwriting_recognition_svm/images/f/f_11.png', '/home/syedjafer/Documents/Handwriting_recognition_svm/images/f/f_24.png', '/home/syedjafer/Documents/Handwriting_recognition_svm/images/f/f_06.png', '/home/syedjafer/Documents/Handwriting_recognition_svm/images/f/f_13.png', '/home/syedjafer/Documents/Handwriting_recognition_svm/images/f/f_19.png', '/home/syedjafer/Documents/Handwriting_recognition_svm/images/f/f_14.png', '/home/syedjafer/Documents/Handwriting_recognition_svm/images/f/f_23.png', '/home/syedjafer/Documents/Handwriting_recognition_svm/images/f/f_09.png', '/home/syedjafer/Documents/Handwriting_recognition_svm/images/f/f_20.png', '/home/syedjafer/Documents/Handwriting_recognition_svm/images/f/f_10.png', '/home/syedjafer/Documents/Handwriting_recognition_svm/images/f/f_16.png', '/home/syedjafer/Documents/Handwriting_recognition_svm/images/f/f_15.png', '/home/syedjafer/Documents/Handwriting_recognition_svm/images/f/f_04.png', '/home/syedjafer/Documents/Handwriting_recognition_svm/images/f/f_02.png', '/home/syedjafer/Documents/Handwriting_recognition_svm/images/f/f_26.png', '/home/syedjafer/Documents/Handwriting_recognition_svm/images/f/f_12.png']\n",
      "/home/syedjafer/Documents/Handwriting_recognition_svm/images/g/\n",
      "['/home/syedjafer/Documents/Handwriting_recognition_svm/images/a/a_11.png', '/home/syedjafer/Documents/Handwriting_recognition_svm/images/a/a_12.png', '/home/syedjafer/Documents/Handwriting_recognition_svm/images/a/a_01.png', '/home/syedjafer/Documents/Handwriting_recognition_svm/images/a/a_21.png', '/home/syedjafer/Documents/Handwriting_recognition_svm/images/a/a_02.png', '/home/syedjafer/Documents/Handwriting_recognition_svm/images/a/a_08.png', '/home/syedjafer/Documents/Handwriting_recognition_svm/images/a/a_14.png', '/home/syedjafer/Documents/Handwriting_recognition_svm/images/a/a_00.png', '/home/syedjafer/Documents/Handwriting_recognition_svm/images/a/a_18.png', '/home/syedjafer/Documents/Handwriting_recognition_svm/images/a/a_19.png', '/home/syedjafer/Documents/Handwriting_recognition_svm/images/a/a_13.png', '/home/syedjafer/Documents/Handwriting_recognition_svm/images/a/a_03.png', '/home/syedjafer/Documents/Handwriting_recognition_svm/images/a/a_06.png', '/home/syedjafer/Documents/Handwriting_recognition_svm/images/a/a_04.png', '/home/syedjafer/Documents/Handwriting_recognition_svm/images/a/a_07.png', '/home/syedjafer/Documents/Handwriting_recognition_svm/images/a/a_15.png', '/home/syedjafer/Documents/Handwriting_recognition_svm/images/a/a_16.png', '/home/syedjafer/Documents/Handwriting_recognition_svm/images/a/a_09.png', '/home/syedjafer/Documents/Handwriting_recognition_svm/images/a/a_10.png', '/home/syedjafer/Documents/Handwriting_recognition_svm/images/a/a_20.png', '/home/syedjafer/Documents/Handwriting_recognition_svm/images/a/a_05.png', '/home/syedjafer/Documents/Handwriting_recognition_svm/images/a/a_17.png', '/home/syedjafer/Documents/Handwriting_recognition_svm/images/b/b_09.png', '/home/syedjafer/Documents/Handwriting_recognition_svm/images/b/b_03.png', '/home/syedjafer/Documents/Handwriting_recognition_svm/images/b/b_24.png', '/home/syedjafer/Documents/Handwriting_recognition_svm/images/b/b_16.png', '/home/syedjafer/Documents/Handwriting_recognition_svm/images/b/b_10.png', '/home/syedjafer/Documents/Handwriting_recognition_svm/images/b/b_13.png', '/home/syedjafer/Documents/Handwriting_recognition_svm/images/b/b_21.png', '/home/syedjafer/Documents/Handwriting_recognition_svm/images/b/b_22.png', '/home/syedjafer/Documents/Handwriting_recognition_svm/images/b/b_23.png', '/home/syedjafer/Documents/Handwriting_recognition_svm/images/b/b_14.png', '/home/syedjafer/Documents/Handwriting_recognition_svm/images/b/b_08.png', '/home/syedjafer/Documents/Handwriting_recognition_svm/images/b/b_07.png', '/home/syedjafer/Documents/Handwriting_recognition_svm/images/b/b_19.png', '/home/syedjafer/Documents/Handwriting_recognition_svm/images/b/b_18.png', '/home/syedjafer/Documents/Handwriting_recognition_svm/images/b/b_02.png', '/home/syedjafer/Documents/Handwriting_recognition_svm/images/b/b_06.png', '/home/syedjafer/Documents/Handwriting_recognition_svm/images/b/b_05.png', '/home/syedjafer/Documents/Handwriting_recognition_svm/images/b/b_11.png', '/home/syedjafer/Documents/Handwriting_recognition_svm/images/b/b_15.png', '/home/syedjafer/Documents/Handwriting_recognition_svm/images/b/b_17.png', '/home/syedjafer/Documents/Handwriting_recognition_svm/images/b/b_04.png', '/home/syedjafer/Documents/Handwriting_recognition_svm/images/b/b_12.png', '/home/syedjafer/Documents/Handwriting_recognition_svm/images/b/b_20.png', '/home/syedjafer/Documents/Handwriting_recognition_svm/images/b/b_01.png', '/home/syedjafer/Documents/Handwriting_recognition_svm/images/c/c_03.png', '/home/syedjafer/Documents/Handwriting_recognition_svm/images/c/c_24.png', '/home/syedjafer/Documents/Handwriting_recognition_svm/images/c/c_07.png', '/home/syedjafer/Documents/Handwriting_recognition_svm/images/c/c_18.png', '/home/syedjafer/Documents/Handwriting_recognition_svm/images/c/c_16.png', '/home/syedjafer/Documents/Handwriting_recognition_svm/images/c/c_14.png', '/home/syedjafer/Documents/Handwriting_recognition_svm/images/c/c_10.png', '/home/syedjafer/Documents/Handwriting_recognition_svm/images/c/c_05.png', '/home/syedjafer/Documents/Handwriting_recognition_svm/images/c/c_00.png', '/home/syedjafer/Documents/Handwriting_recognition_svm/images/c/c_02.png', '/home/syedjafer/Documents/Handwriting_recognition_svm/images/c/c_08.png', '/home/syedjafer/Documents/Handwriting_recognition_svm/images/c/c_09.png', '/home/syedjafer/Documents/Handwriting_recognition_svm/images/c/c_17.png', '/home/syedjafer/Documents/Handwriting_recognition_svm/images/c/c_01.png', '/home/syedjafer/Documents/Handwriting_recognition_svm/images/c/c_12.png', '/home/syedjafer/Documents/Handwriting_recognition_svm/images/c/c_19.png', '/home/syedjafer/Documents/Handwriting_recognition_svm/images/c/c_23.png', '/home/syedjafer/Documents/Handwriting_recognition_svm/images/c/c_04.png', '/home/syedjafer/Documents/Handwriting_recognition_svm/images/c/c_21.png', '/home/syedjafer/Documents/Handwriting_recognition_svm/images/c/c_13.png', '/home/syedjafer/Documents/Handwriting_recognition_svm/images/c/c_20.png', '/home/syedjafer/Documents/Handwriting_recognition_svm/images/c/c_06.png', '/home/syedjafer/Documents/Handwriting_recognition_svm/images/c/c_11.png', '/home/syedjafer/Documents/Handwriting_recognition_svm/images/c/c_22.png', '/home/syedjafer/Documents/Handwriting_recognition_svm/images/c/c_15.png', '/home/syedjafer/Documents/Handwriting_recognition_svm/images/d/d_05.png', '/home/syedjafer/Documents/Handwriting_recognition_svm/images/d/d_10.png', '/home/syedjafer/Documents/Handwriting_recognition_svm/images/d/d_01.png', '/home/syedjafer/Documents/Handwriting_recognition_svm/images/d/d_19.png', '/home/syedjafer/Documents/Handwriting_recognition_svm/images/d/d_06.png', '/home/syedjafer/Documents/Handwriting_recognition_svm/images/d/d_04.png', '/home/syedjafer/Documents/Handwriting_recognition_svm/images/d/d_11.png', '/home/syedjafer/Documents/Handwriting_recognition_svm/images/d/d_12.png', '/home/syedjafer/Documents/Handwriting_recognition_svm/images/d/d_14.png', '/home/syedjafer/Documents/Handwriting_recognition_svm/images/d/d_16.png', '/home/syedjafer/Documents/Handwriting_recognition_svm/images/d/d_18.png', '/home/syedjafer/Documents/Handwriting_recognition_svm/images/d/d_00.png', '/home/syedjafer/Documents/Handwriting_recognition_svm/images/d/d_08.png', '/home/syedjafer/Documents/Handwriting_recognition_svm/images/d/d_13.png', '/home/syedjafer/Documents/Handwriting_recognition_svm/images/d/d_02.png', '/home/syedjafer/Documents/Handwriting_recognition_svm/images/d/d_15.png', '/home/syedjafer/Documents/Handwriting_recognition_svm/images/d/d_09.png', '/home/syedjafer/Documents/Handwriting_recognition_svm/images/d/d_03.png', '/home/syedjafer/Documents/Handwriting_recognition_svm/images/d/d_17.png', '/home/syedjafer/Documents/Handwriting_recognition_svm/images/d/d_07.png', '/home/syedjafer/Documents/Handwriting_recognition_svm/images/e/e_06.png', '/home/syedjafer/Documents/Handwriting_recognition_svm/images/e/e_07.png', '/home/syedjafer/Documents/Handwriting_recognition_svm/images/e/e_13.png', '/home/syedjafer/Documents/Handwriting_recognition_svm/images/e/e_02.png', '/home/syedjafer/Documents/Handwriting_recognition_svm/images/e/e_15.png', '/home/syedjafer/Documents/Handwriting_recognition_svm/images/e/e_19.png', '/home/syedjafer/Documents/Handwriting_recognition_svm/images/e/e_16.png', '/home/syedjafer/Documents/Handwriting_recognition_svm/images/e/e_20.png', '/home/syedjafer/Documents/Handwriting_recognition_svm/images/e/e_10.png', '/home/syedjafer/Documents/Handwriting_recognition_svm/images/e/e_09.png', '/home/syedjafer/Documents/Handwriting_recognition_svm/images/e/e_17.png', '/home/syedjafer/Documents/Handwriting_recognition_svm/images/e/e_00.png', '/home/syedjafer/Documents/Handwriting_recognition_svm/images/e/e_01.png', '/home/syedjafer/Documents/Handwriting_recognition_svm/images/e/e_08.png', '/home/syedjafer/Documents/Handwriting_recognition_svm/images/e/e_05.png', '/home/syedjafer/Documents/Handwriting_recognition_svm/images/e/e_03.png', '/home/syedjafer/Documents/Handwriting_recognition_svm/images/e/e_12.png', '/home/syedjafer/Documents/Handwriting_recognition_svm/images/e/e_11.png', '/home/syedjafer/Documents/Handwriting_recognition_svm/images/e/e_04.png', '/home/syedjafer/Documents/Handwriting_recognition_svm/images/e/e_14.png', '/home/syedjafer/Documents/Handwriting_recognition_svm/images/e/e_18.png', '/home/syedjafer/Documents/Handwriting_recognition_svm/images/e/e_21.png', '/home/syedjafer/Documents/Handwriting_recognition_svm/images/f/f_18.png', '/home/syedjafer/Documents/Handwriting_recognition_svm/images/f/f_03.png', '/home/syedjafer/Documents/Handwriting_recognition_svm/images/f/f_25.png', '/home/syedjafer/Documents/Handwriting_recognition_svm/images/f/f_01.png', '/home/syedjafer/Documents/Handwriting_recognition_svm/images/f/f_00.png', '/home/syedjafer/Documents/Handwriting_recognition_svm/images/f/f_21.png', '/home/syedjafer/Documents/Handwriting_recognition_svm/images/f/f_22.png', '/home/syedjafer/Documents/Handwriting_recognition_svm/images/f/f_17.png', '/home/syedjafer/Documents/Handwriting_recognition_svm/images/f/f_07.png', '/home/syedjafer/Documents/Handwriting_recognition_svm/images/f/f_08.png', '/home/syedjafer/Documents/Handwriting_recognition_svm/images/f/f_05.png', '/home/syedjafer/Documents/Handwriting_recognition_svm/images/f/f_11.png', '/home/syedjafer/Documents/Handwriting_recognition_svm/images/f/f_24.png', '/home/syedjafer/Documents/Handwriting_recognition_svm/images/f/f_06.png', '/home/syedjafer/Documents/Handwriting_recognition_svm/images/f/f_13.png', '/home/syedjafer/Documents/Handwriting_recognition_svm/images/f/f_19.png', '/home/syedjafer/Documents/Handwriting_recognition_svm/images/f/f_14.png', '/home/syedjafer/Documents/Handwriting_recognition_svm/images/f/f_23.png', '/home/syedjafer/Documents/Handwriting_recognition_svm/images/f/f_09.png', '/home/syedjafer/Documents/Handwriting_recognition_svm/images/f/f_20.png', '/home/syedjafer/Documents/Handwriting_recognition_svm/images/f/f_10.png', '/home/syedjafer/Documents/Handwriting_recognition_svm/images/f/f_16.png', '/home/syedjafer/Documents/Handwriting_recognition_svm/images/f/f_15.png', '/home/syedjafer/Documents/Handwriting_recognition_svm/images/f/f_04.png', '/home/syedjafer/Documents/Handwriting_recognition_svm/images/f/f_02.png', '/home/syedjafer/Documents/Handwriting_recognition_svm/images/f/f_26.png', '/home/syedjafer/Documents/Handwriting_recognition_svm/images/f/f_12.png', '/home/syedjafer/Documents/Handwriting_recognition_svm/images/g/g_05.png', '/home/syedjafer/Documents/Handwriting_recognition_svm/images/g/g_01.png', '/home/syedjafer/Documents/Handwriting_recognition_svm/images/g/g_02.png', '/home/syedjafer/Documents/Handwriting_recognition_svm/images/g/g_17.png', '/home/syedjafer/Documents/Handwriting_recognition_svm/images/g/g_1`.png', '/home/syedjafer/Documents/Handwriting_recognition_svm/images/g/g_07.png', '/home/syedjafer/Documents/Handwriting_recognition_svm/images/g/g_24.png', '/home/syedjafer/Documents/Handwriting_recognition_svm/images/g/g_06.png', '/home/syedjafer/Documents/Handwriting_recognition_svm/images/g/g_10.png', '/home/syedjafer/Documents/Handwriting_recognition_svm/images/g/g_16.png', '/home/syedjafer/Documents/Handwriting_recognition_svm/images/g/g_09.png', '/home/syedjafer/Documents/Handwriting_recognition_svm/images/g/g_22.png', '/home/syedjafer/Documents/Handwriting_recognition_svm/images/g/g_12.png', '/home/syedjafer/Documents/Handwriting_recognition_svm/images/g/g_14.png', '/home/syedjafer/Documents/Handwriting_recognition_svm/images/g/g_03.png', '/home/syedjafer/Documents/Handwriting_recognition_svm/images/g/g_04.png', '/home/syedjafer/Documents/Handwriting_recognition_svm/images/g/g_13.png', '/home/syedjafer/Documents/Handwriting_recognition_svm/images/g/g_11.png', '/home/syedjafer/Documents/Handwriting_recognition_svm/images/g/g_00.png', '/home/syedjafer/Documents/Handwriting_recognition_svm/images/g/g_18.png', '/home/syedjafer/Documents/Handwriting_recognition_svm/images/g/g_21.png', '/home/syedjafer/Documents/Handwriting_recognition_svm/images/g/g_19.png', '/home/syedjafer/Documents/Handwriting_recognition_svm/images/g/g_23.png', '/home/syedjafer/Documents/Handwriting_recognition_svm/images/g/g_08.png', '/home/syedjafer/Documents/Handwriting_recognition_svm/images/g/g_20.png', '/home/syedjafer/Documents/Handwriting_recognition_svm/images/g/g_15.png']\n",
      "/home/syedjafer/Documents/Handwriting_recognition_svm/images/h/\n",
      "['/home/syedjafer/Documents/Handwriting_recognition_svm/images/a/a_11.png', '/home/syedjafer/Documents/Handwriting_recognition_svm/images/a/a_12.png', '/home/syedjafer/Documents/Handwriting_recognition_svm/images/a/a_01.png', '/home/syedjafer/Documents/Handwriting_recognition_svm/images/a/a_21.png', '/home/syedjafer/Documents/Handwriting_recognition_svm/images/a/a_02.png', '/home/syedjafer/Documents/Handwriting_recognition_svm/images/a/a_08.png', '/home/syedjafer/Documents/Handwriting_recognition_svm/images/a/a_14.png', '/home/syedjafer/Documents/Handwriting_recognition_svm/images/a/a_00.png', '/home/syedjafer/Documents/Handwriting_recognition_svm/images/a/a_18.png', '/home/syedjafer/Documents/Handwriting_recognition_svm/images/a/a_19.png', '/home/syedjafer/Documents/Handwriting_recognition_svm/images/a/a_13.png', '/home/syedjafer/Documents/Handwriting_recognition_svm/images/a/a_03.png', '/home/syedjafer/Documents/Handwriting_recognition_svm/images/a/a_06.png', '/home/syedjafer/Documents/Handwriting_recognition_svm/images/a/a_04.png', '/home/syedjafer/Documents/Handwriting_recognition_svm/images/a/a_07.png', '/home/syedjafer/Documents/Handwriting_recognition_svm/images/a/a_15.png', '/home/syedjafer/Documents/Handwriting_recognition_svm/images/a/a_16.png', '/home/syedjafer/Documents/Handwriting_recognition_svm/images/a/a_09.png', '/home/syedjafer/Documents/Handwriting_recognition_svm/images/a/a_10.png', '/home/syedjafer/Documents/Handwriting_recognition_svm/images/a/a_20.png', '/home/syedjafer/Documents/Handwriting_recognition_svm/images/a/a_05.png', '/home/syedjafer/Documents/Handwriting_recognition_svm/images/a/a_17.png', '/home/syedjafer/Documents/Handwriting_recognition_svm/images/b/b_09.png', '/home/syedjafer/Documents/Handwriting_recognition_svm/images/b/b_03.png', '/home/syedjafer/Documents/Handwriting_recognition_svm/images/b/b_24.png', '/home/syedjafer/Documents/Handwriting_recognition_svm/images/b/b_16.png', '/home/syedjafer/Documents/Handwriting_recognition_svm/images/b/b_10.png', '/home/syedjafer/Documents/Handwriting_recognition_svm/images/b/b_13.png', '/home/syedjafer/Documents/Handwriting_recognition_svm/images/b/b_21.png', '/home/syedjafer/Documents/Handwriting_recognition_svm/images/b/b_22.png', '/home/syedjafer/Documents/Handwriting_recognition_svm/images/b/b_23.png', '/home/syedjafer/Documents/Handwriting_recognition_svm/images/b/b_14.png', '/home/syedjafer/Documents/Handwriting_recognition_svm/images/b/b_08.png', '/home/syedjafer/Documents/Handwriting_recognition_svm/images/b/b_07.png', '/home/syedjafer/Documents/Handwriting_recognition_svm/images/b/b_19.png', '/home/syedjafer/Documents/Handwriting_recognition_svm/images/b/b_18.png', '/home/syedjafer/Documents/Handwriting_recognition_svm/images/b/b_02.png', '/home/syedjafer/Documents/Handwriting_recognition_svm/images/b/b_06.png', '/home/syedjafer/Documents/Handwriting_recognition_svm/images/b/b_05.png', '/home/syedjafer/Documents/Handwriting_recognition_svm/images/b/b_11.png', '/home/syedjafer/Documents/Handwriting_recognition_svm/images/b/b_15.png', '/home/syedjafer/Documents/Handwriting_recognition_svm/images/b/b_17.png', '/home/syedjafer/Documents/Handwriting_recognition_svm/images/b/b_04.png', '/home/syedjafer/Documents/Handwriting_recognition_svm/images/b/b_12.png', '/home/syedjafer/Documents/Handwriting_recognition_svm/images/b/b_20.png', '/home/syedjafer/Documents/Handwriting_recognition_svm/images/b/b_01.png', '/home/syedjafer/Documents/Handwriting_recognition_svm/images/c/c_03.png', '/home/syedjafer/Documents/Handwriting_recognition_svm/images/c/c_24.png', '/home/syedjafer/Documents/Handwriting_recognition_svm/images/c/c_07.png', '/home/syedjafer/Documents/Handwriting_recognition_svm/images/c/c_18.png', '/home/syedjafer/Documents/Handwriting_recognition_svm/images/c/c_16.png', '/home/syedjafer/Documents/Handwriting_recognition_svm/images/c/c_14.png', '/home/syedjafer/Documents/Handwriting_recognition_svm/images/c/c_10.png', '/home/syedjafer/Documents/Handwriting_recognition_svm/images/c/c_05.png', '/home/syedjafer/Documents/Handwriting_recognition_svm/images/c/c_00.png', '/home/syedjafer/Documents/Handwriting_recognition_svm/images/c/c_02.png', '/home/syedjafer/Documents/Handwriting_recognition_svm/images/c/c_08.png', '/home/syedjafer/Documents/Handwriting_recognition_svm/images/c/c_09.png', '/home/syedjafer/Documents/Handwriting_recognition_svm/images/c/c_17.png', '/home/syedjafer/Documents/Handwriting_recognition_svm/images/c/c_01.png', '/home/syedjafer/Documents/Handwriting_recognition_svm/images/c/c_12.png', '/home/syedjafer/Documents/Handwriting_recognition_svm/images/c/c_19.png', '/home/syedjafer/Documents/Handwriting_recognition_svm/images/c/c_23.png', '/home/syedjafer/Documents/Handwriting_recognition_svm/images/c/c_04.png', '/home/syedjafer/Documents/Handwriting_recognition_svm/images/c/c_21.png', '/home/syedjafer/Documents/Handwriting_recognition_svm/images/c/c_13.png', '/home/syedjafer/Documents/Handwriting_recognition_svm/images/c/c_20.png', '/home/syedjafer/Documents/Handwriting_recognition_svm/images/c/c_06.png', '/home/syedjafer/Documents/Handwriting_recognition_svm/images/c/c_11.png', '/home/syedjafer/Documents/Handwriting_recognition_svm/images/c/c_22.png', '/home/syedjafer/Documents/Handwriting_recognition_svm/images/c/c_15.png', '/home/syedjafer/Documents/Handwriting_recognition_svm/images/d/d_05.png', '/home/syedjafer/Documents/Handwriting_recognition_svm/images/d/d_10.png', '/home/syedjafer/Documents/Handwriting_recognition_svm/images/d/d_01.png', '/home/syedjafer/Documents/Handwriting_recognition_svm/images/d/d_19.png', '/home/syedjafer/Documents/Handwriting_recognition_svm/images/d/d_06.png', '/home/syedjafer/Documents/Handwriting_recognition_svm/images/d/d_04.png', '/home/syedjafer/Documents/Handwriting_recognition_svm/images/d/d_11.png', '/home/syedjafer/Documents/Handwriting_recognition_svm/images/d/d_12.png', '/home/syedjafer/Documents/Handwriting_recognition_svm/images/d/d_14.png', '/home/syedjafer/Documents/Handwriting_recognition_svm/images/d/d_16.png', '/home/syedjafer/Documents/Handwriting_recognition_svm/images/d/d_18.png', '/home/syedjafer/Documents/Handwriting_recognition_svm/images/d/d_00.png', '/home/syedjafer/Documents/Handwriting_recognition_svm/images/d/d_08.png', '/home/syedjafer/Documents/Handwriting_recognition_svm/images/d/d_13.png', '/home/syedjafer/Documents/Handwriting_recognition_svm/images/d/d_02.png', '/home/syedjafer/Documents/Handwriting_recognition_svm/images/d/d_15.png', '/home/syedjafer/Documents/Handwriting_recognition_svm/images/d/d_09.png', '/home/syedjafer/Documents/Handwriting_recognition_svm/images/d/d_03.png', '/home/syedjafer/Documents/Handwriting_recognition_svm/images/d/d_17.png', '/home/syedjafer/Documents/Handwriting_recognition_svm/images/d/d_07.png', '/home/syedjafer/Documents/Handwriting_recognition_svm/images/e/e_06.png', '/home/syedjafer/Documents/Handwriting_recognition_svm/images/e/e_07.png', '/home/syedjafer/Documents/Handwriting_recognition_svm/images/e/e_13.png', '/home/syedjafer/Documents/Handwriting_recognition_svm/images/e/e_02.png', '/home/syedjafer/Documents/Handwriting_recognition_svm/images/e/e_15.png', '/home/syedjafer/Documents/Handwriting_recognition_svm/images/e/e_19.png', '/home/syedjafer/Documents/Handwriting_recognition_svm/images/e/e_16.png', '/home/syedjafer/Documents/Handwriting_recognition_svm/images/e/e_20.png', '/home/syedjafer/Documents/Handwriting_recognition_svm/images/e/e_10.png', '/home/syedjafer/Documents/Handwriting_recognition_svm/images/e/e_09.png', '/home/syedjafer/Documents/Handwriting_recognition_svm/images/e/e_17.png', '/home/syedjafer/Documents/Handwriting_recognition_svm/images/e/e_00.png', '/home/syedjafer/Documents/Handwriting_recognition_svm/images/e/e_01.png', '/home/syedjafer/Documents/Handwriting_recognition_svm/images/e/e_08.png', '/home/syedjafer/Documents/Handwriting_recognition_svm/images/e/e_05.png', '/home/syedjafer/Documents/Handwriting_recognition_svm/images/e/e_03.png', '/home/syedjafer/Documents/Handwriting_recognition_svm/images/e/e_12.png', '/home/syedjafer/Documents/Handwriting_recognition_svm/images/e/e_11.png', '/home/syedjafer/Documents/Handwriting_recognition_svm/images/e/e_04.png', '/home/syedjafer/Documents/Handwriting_recognition_svm/images/e/e_14.png', '/home/syedjafer/Documents/Handwriting_recognition_svm/images/e/e_18.png', '/home/syedjafer/Documents/Handwriting_recognition_svm/images/e/e_21.png', '/home/syedjafer/Documents/Handwriting_recognition_svm/images/f/f_18.png', '/home/syedjafer/Documents/Handwriting_recognition_svm/images/f/f_03.png', '/home/syedjafer/Documents/Handwriting_recognition_svm/images/f/f_25.png', '/home/syedjafer/Documents/Handwriting_recognition_svm/images/f/f_01.png', '/home/syedjafer/Documents/Handwriting_recognition_svm/images/f/f_00.png', '/home/syedjafer/Documents/Handwriting_recognition_svm/images/f/f_21.png', '/home/syedjafer/Documents/Handwriting_recognition_svm/images/f/f_22.png', '/home/syedjafer/Documents/Handwriting_recognition_svm/images/f/f_17.png', '/home/syedjafer/Documents/Handwriting_recognition_svm/images/f/f_07.png', '/home/syedjafer/Documents/Handwriting_recognition_svm/images/f/f_08.png', '/home/syedjafer/Documents/Handwriting_recognition_svm/images/f/f_05.png', '/home/syedjafer/Documents/Handwriting_recognition_svm/images/f/f_11.png', '/home/syedjafer/Documents/Handwriting_recognition_svm/images/f/f_24.png', '/home/syedjafer/Documents/Handwriting_recognition_svm/images/f/f_06.png', '/home/syedjafer/Documents/Handwriting_recognition_svm/images/f/f_13.png', '/home/syedjafer/Documents/Handwriting_recognition_svm/images/f/f_19.png', '/home/syedjafer/Documents/Handwriting_recognition_svm/images/f/f_14.png', '/home/syedjafer/Documents/Handwriting_recognition_svm/images/f/f_23.png', '/home/syedjafer/Documents/Handwriting_recognition_svm/images/f/f_09.png', '/home/syedjafer/Documents/Handwriting_recognition_svm/images/f/f_20.png', '/home/syedjafer/Documents/Handwriting_recognition_svm/images/f/f_10.png', '/home/syedjafer/Documents/Handwriting_recognition_svm/images/f/f_16.png', '/home/syedjafer/Documents/Handwriting_recognition_svm/images/f/f_15.png', '/home/syedjafer/Documents/Handwriting_recognition_svm/images/f/f_04.png', '/home/syedjafer/Documents/Handwriting_recognition_svm/images/f/f_02.png', '/home/syedjafer/Documents/Handwriting_recognition_svm/images/f/f_26.png', '/home/syedjafer/Documents/Handwriting_recognition_svm/images/f/f_12.png', '/home/syedjafer/Documents/Handwriting_recognition_svm/images/g/g_05.png', '/home/syedjafer/Documents/Handwriting_recognition_svm/images/g/g_01.png', '/home/syedjafer/Documents/Handwriting_recognition_svm/images/g/g_02.png', '/home/syedjafer/Documents/Handwriting_recognition_svm/images/g/g_17.png', '/home/syedjafer/Documents/Handwriting_recognition_svm/images/g/g_1`.png', '/home/syedjafer/Documents/Handwriting_recognition_svm/images/g/g_07.png', '/home/syedjafer/Documents/Handwriting_recognition_svm/images/g/g_24.png', '/home/syedjafer/Documents/Handwriting_recognition_svm/images/g/g_06.png', '/home/syedjafer/Documents/Handwriting_recognition_svm/images/g/g_10.png', '/home/syedjafer/Documents/Handwriting_recognition_svm/images/g/g_16.png', '/home/syedjafer/Documents/Handwriting_recognition_svm/images/g/g_09.png', '/home/syedjafer/Documents/Handwriting_recognition_svm/images/g/g_22.png', '/home/syedjafer/Documents/Handwriting_recognition_svm/images/g/g_12.png', '/home/syedjafer/Documents/Handwriting_recognition_svm/images/g/g_14.png', '/home/syedjafer/Documents/Handwriting_recognition_svm/images/g/g_03.png', '/home/syedjafer/Documents/Handwriting_recognition_svm/images/g/g_04.png', '/home/syedjafer/Documents/Handwriting_recognition_svm/images/g/g_13.png', '/home/syedjafer/Documents/Handwriting_recognition_svm/images/g/g_11.png', '/home/syedjafer/Documents/Handwriting_recognition_svm/images/g/g_00.png', '/home/syedjafer/Documents/Handwriting_recognition_svm/images/g/g_18.png', '/home/syedjafer/Documents/Handwriting_recognition_svm/images/g/g_21.png', '/home/syedjafer/Documents/Handwriting_recognition_svm/images/g/g_19.png', '/home/syedjafer/Documents/Handwriting_recognition_svm/images/g/g_23.png', '/home/syedjafer/Documents/Handwriting_recognition_svm/images/g/g_08.png', '/home/syedjafer/Documents/Handwriting_recognition_svm/images/g/g_20.png', '/home/syedjafer/Documents/Handwriting_recognition_svm/images/g/g_15.png', '/home/syedjafer/Documents/Handwriting_recognition_svm/images/h/h_20.png', '/home/syedjafer/Documents/Handwriting_recognition_svm/images/h/h_05.png', '/home/syedjafer/Documents/Handwriting_recognition_svm/images/h/h_17.png', '/home/syedjafer/Documents/Handwriting_recognition_svm/images/h/h_10.png', '/home/syedjafer/Documents/Handwriting_recognition_svm/images/h/h_13.png', '/home/syedjafer/Documents/Handwriting_recognition_svm/images/h/h_16.png', '/home/syedjafer/Documents/Handwriting_recognition_svm/images/h/h_04.png', '/home/syedjafer/Documents/Handwriting_recognition_svm/images/h/h_11.png', '/home/syedjafer/Documents/Handwriting_recognition_svm/images/h/h_21.png', '/home/syedjafer/Documents/Handwriting_recognition_svm/images/h/h_09.png', '/home/syedjafer/Documents/Handwriting_recognition_svm/images/h/h_12.png', '/home/syedjafer/Documents/Handwriting_recognition_svm/images/h/h_03.png', '/home/syedjafer/Documents/Handwriting_recognition_svm/images/h/h_00.png', '/home/syedjafer/Documents/Handwriting_recognition_svm/images/h/h_18.png', '/home/syedjafer/Documents/Handwriting_recognition_svm/images/h/h_06.png', '/home/syedjafer/Documents/Handwriting_recognition_svm/images/h/h_08.png', '/home/syedjafer/Documents/Handwriting_recognition_svm/images/h/h_22.png', '/home/syedjafer/Documents/Handwriting_recognition_svm/images/h/h_15.png', '/home/syedjafer/Documents/Handwriting_recognition_svm/images/h/h_14.png', '/home/syedjafer/Documents/Handwriting_recognition_svm/images/h/h_01.png', '/home/syedjafer/Documents/Handwriting_recognition_svm/images/h/h_07.png', '/home/syedjafer/Documents/Handwriting_recognition_svm/images/h/h_19.png', '/home/syedjafer/Documents/Handwriting_recognition_svm/images/h/h_02.png']\n",
      "['a', 'a', 'a', 'a', 'a', 'a', 'a', 'a', 'a', 'a', 'a', 'a', 'a', 'a', 'a', 'a', 'a', 'a', 'a', 'a', 'a', 'a', 'b', 'b', 'b', 'b', 'b', 'b', 'b', 'b', 'b', 'b', 'b', 'b', 'b', 'b', 'b', 'b', 'b', 'b', 'b', 'b', 'b', 'b', 'b', 'b', 'c', 'c', 'c', 'c', 'c', 'c', 'c', 'c', 'c', 'c', 'c', 'c', 'c', 'c', 'c', 'c', 'c', 'c', 'c', 'c', 'c', 'c', 'c', 'c', 'c', 'd', 'd', 'd', 'd', 'd', 'd', 'd', 'd', 'd', 'd', 'd', 'd', 'd', 'd', 'd', 'd', 'd', 'd', 'd', 'd', 'e', 'e', 'e', 'e', 'e', 'e', 'e', 'e', 'e', 'e', 'e', 'e', 'e', 'e', 'e', 'e', 'e', 'e', 'e', 'e', 'e', 'e', 'f', 'f', 'f', 'f', 'f', 'f', 'f', 'f', 'f', 'f', 'f', 'f', 'f', 'f', 'f', 'f', 'f', 'f', 'f', 'f', 'f', 'f', 'f', 'f', 'f', 'f', 'f', 'g', 'g', 'g', 'g', 'g', 'g', 'g', 'g', 'g', 'g', 'g', 'g', 'g', 'g', 'g', 'g', 'g', 'g', 'g', 'g', 'g', 'g', 'g', 'g', 'g', 'g', 'h', 'h', 'h', 'h', 'h', 'h', 'h', 'h', 'h', 'h', 'h', 'h', 'h', 'h', 'h', 'h', 'h', 'h', 'h', 'h', 'h', 'h', 'h']\n",
      "(10000, 3)\n",
      "(10000, 3)\n",
      "(10000, 3)\n",
      "(10000, 3)\n",
      "(10000, 3)\n",
      "(10000, 3)\n",
      "(10000, 3)\n",
      "(10000, 3)\n",
      "(10000, 3)\n",
      "(10000, 3)\n",
      "(10000, 3)\n",
      "(10000, 3)\n",
      "(10000, 3)\n",
      "(10000, 3)\n",
      "(10000, 3)\n",
      "(10000, 3)\n",
      "(10000, 3)\n",
      "(10000, 3)\n",
      "(10000, 3)\n",
      "(10000, 3)\n",
      "(10000, 3)\n",
      "(10000, 3)\n",
      "(10000, 3)\n",
      "(10000, 3)\n",
      "(10000, 3)\n",
      "(10000, 3)\n",
      "(10000, 3)\n",
      "(10000, 3)\n",
      "(10000, 3)\n",
      "(10000, 3)\n",
      "(10000, 3)\n",
      "(10000, 3)\n",
      "(10000, 3)\n",
      "(10000, 3)\n",
      "(10000, 3)\n",
      "(10000, 3)\n",
      "(10000, 3)\n",
      "(10000, 3)\n",
      "(10000, 3)\n",
      "(10000, 3)\n",
      "(10000, 3)\n",
      "(10000, 3)\n",
      "(10000, 3)\n",
      "(10000, 3)\n",
      "(10000, 3)\n",
      "(10000, 3)\n",
      "(10000, 3)\n",
      "(10000, 3)\n",
      "(10000, 3)\n",
      "(10000, 3)\n",
      "(10000, 3)\n",
      "(10000, 3)\n",
      "(10000, 3)\n",
      "(10000, 3)\n",
      "(10000, 3)\n",
      "(10000, 3)\n",
      "(10000, 3)\n",
      "(10000, 3)\n",
      "(10000, 3)\n",
      "(10000, 3)\n",
      "(10000, 3)\n",
      "(10000, 3)\n",
      "(10000, 3)\n",
      "(10000, 3)\n",
      "(10000, 3)\n",
      "(10000, 3)\n",
      "(10000, 3)\n",
      "(10000, 3)\n",
      "(10000, 3)\n",
      "(10000, 3)\n",
      "(10000, 3)\n",
      "(10000, 3)\n",
      "(10000, 3)\n",
      "(10000, 3)\n",
      "(10000, 3)\n",
      "(10000, 3)\n",
      "(10000, 3)\n",
      "(10000, 3)\n",
      "(10000, 3)\n",
      "(10000, 3)\n",
      "(10000, 3)\n",
      "(10000, 3)\n",
      "(10000, 3)\n",
      "(10000, 3)\n",
      "(10000, 3)\n",
      "(10000, 3)\n",
      "(10000, 3)\n",
      "(10000, 3)\n",
      "(10000, 3)\n",
      "(10000, 3)\n",
      "(10000, 3)\n",
      "(10000, 3)\n",
      "(10000, 3)\n",
      "(10000, 3)\n",
      "(10000, 3)\n",
      "(10000, 3)\n",
      "(10000, 3)\n",
      "(10000, 3)\n",
      "(10000, 3)\n",
      "(10000, 3)\n",
      "(10000, 3)\n",
      "(10000, 3)\n",
      "(10000, 3)\n",
      "(10000, 3)\n",
      "(10000, 3)\n",
      "(10000, 3)\n",
      "(10000, 3)\n",
      "(10000, 3)\n",
      "(10000, 3)\n",
      "(10000, 3)\n",
      "(10000, 3)\n",
      "(10000, 3)\n",
      "(10000, 3)\n",
      "(10000, 3)\n",
      "(10000, 3)\n",
      "(10000, 3)\n",
      "(10000, 3)\n",
      "(10000, 3)\n",
      "(10000, 3)\n",
      "(10000, 3)\n",
      "(10000, 3)\n",
      "(10000, 3)\n",
      "(10000, 3)\n",
      "(10000, 3)\n",
      "(10000, 3)\n",
      "(10000, 3)\n",
      "(10000, 3)\n",
      "(10000, 3)\n",
      "(10000, 3)\n",
      "(10000, 3)\n",
      "(10000, 3)\n",
      "(10000, 3)\n",
      "(10000, 3)\n",
      "(10000, 3)\n",
      "(10000, 3)\n",
      "(10000, 3)\n",
      "(10000, 3)\n",
      "(10000, 3)\n",
      "(10000, 3)\n",
      "(10000, 3)\n",
      "(10000, 3)\n",
      "(10000, 3)\n",
      "(10000, 3)\n",
      "(10000, 3)\n",
      "(10000, 3)\n",
      "(10000, 3)\n",
      "(10000, 3)\n",
      "(10000, 3)\n",
      "(10000, 3)\n",
      "(10000, 3)\n",
      "(10000, 3)\n",
      "(10000, 3)\n",
      "(10000, 3)\n",
      "(10000, 3)\n",
      "(10000, 3)\n",
      "(10000, 3)\n",
      "(10000, 3)\n",
      "(10000, 3)\n",
      "(10000, 3)\n",
      "(10000, 3)\n",
      "(10000, 3)\n",
      "(10000, 3)\n",
      "(10000, 3)\n",
      "(10000, 3)\n",
      "(10000, 3)\n",
      "(10000, 3)\n",
      "(10000, 3)\n",
      "(10000, 3)\n",
      "(10000, 3)\n",
      "(10000, 3)\n",
      "(10000, 3)\n",
      "(10000, 3)\n",
      "(10000, 3)\n",
      "(10000, 3)\n",
      "(10000, 3)\n",
      "(10000, 3)\n",
      "(10000, 3)\n",
      "(10000, 3)\n",
      "(10000, 3)\n",
      "(10000, 3)\n",
      "(10000, 3)\n",
      "(10000, 3)\n",
      "(10000, 3)\n",
      "(10000, 3)\n",
      "(10000, 3)\n",
      "(10000, 3)\n",
      "(10000, 3)\n",
      "(10000, 3)\n",
      "(10000, 3)\n",
      "(189, 30000)\n",
      "(189,)\n"
     ]
    },
    {
     "name": "stderr",
     "output_type": "stream",
     "text": [
      "/usr/local/lib/python3.6/dist-packages/sklearn/svm/base.py:196: FutureWarning: The default value of gamma will change from 'auto' to 'scale' in version 0.22 to account better for unscaled features. Set gamma explicitly to 'auto' or 'scale' to avoid this warning.\n",
      "  \"avoid this warning.\", FutureWarning)\n"
     ]
    },
    {
     "data": {
      "text/plain": [
       "SVC(C=1.0, cache_size=200, class_weight=None, coef0=0.0,\n",
       "  decision_function_shape='ovr', degree=3, gamma='auto_deprecated',\n",
       "  kernel='rbf', max_iter=-1, probability=False, random_state=None,\n",
       "  shrinking=True, tol=0.001, verbose=False)"
      ]
     },
     "execution_count": 3,
     "metadata": {},
     "output_type": "execute_result"
    }
   ],
   "source": [
    "import cv2 as cv \n",
    "import numpy as np \n",
    "import glob \n",
    "\n",
    "image_location = \"/home/syedjafer/Documents/Handwriting_recognition_svm/images/\"\n",
    "folder_depth = 8 \n",
    "\n",
    "image_x = []\n",
    "image_y = []\n",
    "files = []\n",
    "\n",
    "# to get list of files in the current directory\n",
    "for level in range(folder_depth):\n",
    "    folder = chr(ord(\"a\")+level)\n",
    "    print (image_location+folder+\"/\")\n",
    "    label_len = len(glob.glob(image_location+folder+\"/\"+\"*.png\"))\n",
    "    files = files + glob.glob(image_location+folder+\"/\"+\"*.png\")\n",
    "    print(files)\n",
    "    image_y = image_y + [folder] * (label_len)\n",
    "\n",
    "# label\n",
    "print (image_y)\n",
    "\n",
    "# # shaping images to 100 * 100 \n",
    "# for file in files:\n",
    "#     image = cv.imread(file)\n",
    "#     gray = cv.cvtColor(image, cv.COLOR_BGR2GRAY)\n",
    "#     resized_image = cv.resize(gray, (100, 100))\n",
    "#     filename = file\n",
    "#     cv.imwrite(file, resized_image)\n",
    "\n",
    "for file in files:\n",
    "    image = cv.imread(file)\n",
    "    image = np.array(image)\n",
    "    new_img = image.reshape((image.shape[0]*image.shape[1]), image.shape[2])\n",
    "    print (new_img.shape)\n",
    "    image_x.append(new_img.flatten())\n",
    "#     image_y.append(\"a\")\n",
    "    \n",
    "x_train = np.array(image_x , dtype=\"float\")\n",
    "y_train = np.array(image_y)\n",
    "print (x_train.shape)\n",
    "print (y_train.shape)\n",
    "# from sklearn import svm\n",
    "clf = svm.SVC()\n",
    "clf.fit(x_train, y_train)\n",
    "\n"
   ]
  },
  {
   "cell_type": "code",
   "execution_count": 31,
   "metadata": {},
   "outputs": [
    {
     "data": {
      "text/plain": [
       "189"
      ]
     },
     "execution_count": 31,
     "metadata": {},
     "output_type": "execute_result"
    }
   ],
   "source": [
    "len(image_y)"
   ]
  },
  {
   "cell_type": "code",
   "execution_count": 32,
   "metadata": {},
   "outputs": [
    {
     "name": "stdout",
     "output_type": "stream",
     "text": [
      "(0,)\n",
      "(189,)\n"
     ]
    },
    {
     "ename": "ValueError",
     "evalue": "Expected 2D array, got 1D array instead:\narray=[].\nReshape your data either using array.reshape(-1, 1) if your data has a single feature or array.reshape(1, -1) if it contains a single sample.",
     "output_type": "error",
     "traceback": [
      "\u001b[0;31m---------------------------------------------------------------------------\u001b[0m",
      "\u001b[0;31mValueError\u001b[0m                                Traceback (most recent call last)",
      "\u001b[0;32m<ipython-input-32-fbdb16431e83>\u001b[0m in \u001b[0;36m<module>\u001b[0;34m\u001b[0m\n\u001b[1;32m      5\u001b[0m \u001b[0;32mfrom\u001b[0m \u001b[0msklearn\u001b[0m \u001b[0;32mimport\u001b[0m \u001b[0msvm\u001b[0m\u001b[0;34m\u001b[0m\u001b[0m\n\u001b[1;32m      6\u001b[0m \u001b[0mclf\u001b[0m \u001b[0;34m=\u001b[0m \u001b[0msvm\u001b[0m\u001b[0;34m.\u001b[0m\u001b[0mSVC\u001b[0m\u001b[0;34m(\u001b[0m\u001b[0;34m)\u001b[0m\u001b[0;34m\u001b[0m\u001b[0m\n\u001b[0;32m----> 7\u001b[0;31m \u001b[0mclf\u001b[0m\u001b[0;34m.\u001b[0m\u001b[0mfit\u001b[0m\u001b[0;34m(\u001b[0m\u001b[0mx_train\u001b[0m\u001b[0;34m,\u001b[0m \u001b[0my_train\u001b[0m\u001b[0;34m)\u001b[0m\u001b[0;34m\u001b[0m\u001b[0m\n\u001b[0m",
      "\u001b[0;32m/usr/local/lib/python3.6/dist-packages/sklearn/svm/base.py\u001b[0m in \u001b[0;36mfit\u001b[0;34m(self, X, y, sample_weight)\u001b[0m\n\u001b[1;32m    147\u001b[0m         X, y = check_X_y(X, y, dtype=np.float64,\n\u001b[1;32m    148\u001b[0m                          \u001b[0morder\u001b[0m\u001b[0;34m=\u001b[0m\u001b[0;34m'C'\u001b[0m\u001b[0;34m,\u001b[0m \u001b[0maccept_sparse\u001b[0m\u001b[0;34m=\u001b[0m\u001b[0;34m'csr'\u001b[0m\u001b[0;34m,\u001b[0m\u001b[0;34m\u001b[0m\u001b[0m\n\u001b[0;32m--> 149\u001b[0;31m                          accept_large_sparse=False)\n\u001b[0m\u001b[1;32m    150\u001b[0m         \u001b[0my\u001b[0m \u001b[0;34m=\u001b[0m \u001b[0mself\u001b[0m\u001b[0;34m.\u001b[0m\u001b[0m_validate_targets\u001b[0m\u001b[0;34m(\u001b[0m\u001b[0my\u001b[0m\u001b[0;34m)\u001b[0m\u001b[0;34m\u001b[0m\u001b[0m\n\u001b[1;32m    151\u001b[0m \u001b[0;34m\u001b[0m\u001b[0m\n",
      "\u001b[0;32m/usr/local/lib/python3.6/dist-packages/sklearn/utils/validation.py\u001b[0m in \u001b[0;36mcheck_X_y\u001b[0;34m(X, y, accept_sparse, accept_large_sparse, dtype, order, copy, force_all_finite, ensure_2d, allow_nd, multi_output, ensure_min_samples, ensure_min_features, y_numeric, warn_on_dtype, estimator)\u001b[0m\n\u001b[1;32m    745\u001b[0m                     \u001b[0mensure_min_features\u001b[0m\u001b[0;34m=\u001b[0m\u001b[0mensure_min_features\u001b[0m\u001b[0;34m,\u001b[0m\u001b[0;34m\u001b[0m\u001b[0m\n\u001b[1;32m    746\u001b[0m                     \u001b[0mwarn_on_dtype\u001b[0m\u001b[0;34m=\u001b[0m\u001b[0mwarn_on_dtype\u001b[0m\u001b[0;34m,\u001b[0m\u001b[0;34m\u001b[0m\u001b[0m\n\u001b[0;32m--> 747\u001b[0;31m                     estimator=estimator)\n\u001b[0m\u001b[1;32m    748\u001b[0m     \u001b[0;32mif\u001b[0m \u001b[0mmulti_output\u001b[0m\u001b[0;34m:\u001b[0m\u001b[0;34m\u001b[0m\u001b[0m\n\u001b[1;32m    749\u001b[0m         y = check_array(y, 'csr', force_all_finite=True, ensure_2d=False,\n",
      "\u001b[0;32m/usr/local/lib/python3.6/dist-packages/sklearn/utils/validation.py\u001b[0m in \u001b[0;36mcheck_array\u001b[0;34m(array, accept_sparse, accept_large_sparse, dtype, order, copy, force_all_finite, ensure_2d, allow_nd, ensure_min_samples, ensure_min_features, warn_on_dtype, estimator)\u001b[0m\n\u001b[1;32m    545\u001b[0m                     \u001b[0;34m\"Reshape your data either using array.reshape(-1, 1) if \"\u001b[0m\u001b[0;34m\u001b[0m\u001b[0m\n\u001b[1;32m    546\u001b[0m                     \u001b[0;34m\"your data has a single feature or array.reshape(1, -1) \"\u001b[0m\u001b[0;34m\u001b[0m\u001b[0m\n\u001b[0;32m--> 547\u001b[0;31m                     \"if it contains a single sample.\".format(array))\n\u001b[0m\u001b[1;32m    548\u001b[0m \u001b[0;34m\u001b[0m\u001b[0m\n\u001b[1;32m    549\u001b[0m         \u001b[0;31m# in the future np.flexible dtypes will be handled like object dtypes\u001b[0m\u001b[0;34m\u001b[0m\u001b[0;34m\u001b[0m\u001b[0m\n",
      "\u001b[0;31mValueError\u001b[0m: Expected 2D array, got 1D array instead:\narray=[].\nReshape your data either using array.reshape(-1, 1) if your data has a single feature or array.reshape(1, -1) if it contains a single sample."
     ]
    }
   ],
   "source": [
    "x_train = np.array(image_x , dtype=\"float\")\n",
    "y_train = np.array(image_y)\n",
    "print (x_train.shape)\n",
    "print (y_train.shape)\n",
    "from sklearn import svm\n",
    "clf = svm.SVC()\n",
    "clf.fit(x_train, y_train)"
   ]
  },
  {
   "cell_type": "code",
   "execution_count": 33,
   "metadata": {},
   "outputs": [
    {
     "data": {
      "text/plain": [
       "True"
      ]
     },
     "execution_count": 33,
     "metadata": {},
     "output_type": "execute_result"
    }
   ],
   "source": [
    "# # shaping images to 100 * 100 \n",
    "# for file in files:\n",
    "file = \"/home/syedjafer/Documents/Handwriting_recognition_svm/images/test.png\"\n",
    "image = cv.imread(file)\n",
    "gray = cv.cvtColor(image, cv.COLOR_BGR2GRAY)\n",
    "resized_image = cv.resize(gray, (100, 100))\n",
    "filename = file\n",
    "cv.imwrite(file, resized_image)"
   ]
  },
  {
   "cell_type": "code",
   "execution_count": 34,
   "metadata": {},
   "outputs": [
    {
     "data": {
      "text/plain": [
       "(100, 100)"
      ]
     },
     "execution_count": 34,
     "metadata": {},
     "output_type": "execute_result"
    }
   ],
   "source": [
    "resized_image.shape"
   ]
  },
  {
   "cell_type": "code",
   "execution_count": 37,
   "metadata": {},
   "outputs": [
    {
     "ename": "ValueError",
     "evalue": "X.shape[1] = 100 should be equal to 30000, the number of features at training time",
     "output_type": "error",
     "traceback": [
      "\u001b[0;31m---------------------------------------------------------------------------\u001b[0m",
      "\u001b[0;31mValueError\u001b[0m                                Traceback (most recent call last)",
      "\u001b[0;32m<ipython-input-37-7dc6ed19e798>\u001b[0m in \u001b[0;36m<module>\u001b[0;34m\u001b[0m\n\u001b[0;32m----> 1\u001b[0;31m \u001b[0mclf\u001b[0m\u001b[0;34m.\u001b[0m\u001b[0mpredict\u001b[0m\u001b[0;34m(\u001b[0m\u001b[0mresized_image\u001b[0m\u001b[0;34m)\u001b[0m\u001b[0;34m\u001b[0m\u001b[0m\n\u001b[0m",
      "\u001b[0;32m/usr/local/lib/python3.6/dist-packages/sklearn/svm/base.py\u001b[0m in \u001b[0;36mpredict\u001b[0;34m(self, X)\u001b[0m\n\u001b[1;32m    565\u001b[0m             \u001b[0mClass\u001b[0m \u001b[0mlabels\u001b[0m \u001b[0;32mfor\u001b[0m \u001b[0msamples\u001b[0m \u001b[0;32min\u001b[0m \u001b[0mX\u001b[0m\u001b[0;34m.\u001b[0m\u001b[0;34m\u001b[0m\u001b[0m\n\u001b[1;32m    566\u001b[0m         \"\"\"\n\u001b[0;32m--> 567\u001b[0;31m         \u001b[0my\u001b[0m \u001b[0;34m=\u001b[0m \u001b[0msuper\u001b[0m\u001b[0;34m(\u001b[0m\u001b[0mBaseSVC\u001b[0m\u001b[0;34m,\u001b[0m \u001b[0mself\u001b[0m\u001b[0;34m)\u001b[0m\u001b[0;34m.\u001b[0m\u001b[0mpredict\u001b[0m\u001b[0;34m(\u001b[0m\u001b[0mX\u001b[0m\u001b[0;34m)\u001b[0m\u001b[0;34m\u001b[0m\u001b[0m\n\u001b[0m\u001b[1;32m    568\u001b[0m         \u001b[0;32mreturn\u001b[0m \u001b[0mself\u001b[0m\u001b[0;34m.\u001b[0m\u001b[0mclasses_\u001b[0m\u001b[0;34m.\u001b[0m\u001b[0mtake\u001b[0m\u001b[0;34m(\u001b[0m\u001b[0mnp\u001b[0m\u001b[0;34m.\u001b[0m\u001b[0masarray\u001b[0m\u001b[0;34m(\u001b[0m\u001b[0my\u001b[0m\u001b[0;34m,\u001b[0m \u001b[0mdtype\u001b[0m\u001b[0;34m=\u001b[0m\u001b[0mnp\u001b[0m\u001b[0;34m.\u001b[0m\u001b[0mintp\u001b[0m\u001b[0;34m)\u001b[0m\u001b[0;34m)\u001b[0m\u001b[0;34m\u001b[0m\u001b[0m\n\u001b[1;32m    569\u001b[0m \u001b[0;34m\u001b[0m\u001b[0m\n",
      "\u001b[0;32m/usr/local/lib/python3.6/dist-packages/sklearn/svm/base.py\u001b[0m in \u001b[0;36mpredict\u001b[0;34m(self, X)\u001b[0m\n\u001b[1;32m    323\u001b[0m         \u001b[0my_pred\u001b[0m \u001b[0;34m:\u001b[0m \u001b[0marray\u001b[0m\u001b[0;34m,\u001b[0m \u001b[0mshape\u001b[0m \u001b[0;34m(\u001b[0m\u001b[0mn_samples\u001b[0m\u001b[0;34m,\u001b[0m\u001b[0;34m)\u001b[0m\u001b[0;34m\u001b[0m\u001b[0m\n\u001b[1;32m    324\u001b[0m         \"\"\"\n\u001b[0;32m--> 325\u001b[0;31m         \u001b[0mX\u001b[0m \u001b[0;34m=\u001b[0m \u001b[0mself\u001b[0m\u001b[0;34m.\u001b[0m\u001b[0m_validate_for_predict\u001b[0m\u001b[0;34m(\u001b[0m\u001b[0mX\u001b[0m\u001b[0;34m)\u001b[0m\u001b[0;34m\u001b[0m\u001b[0m\n\u001b[0m\u001b[1;32m    326\u001b[0m         \u001b[0mpredict\u001b[0m \u001b[0;34m=\u001b[0m \u001b[0mself\u001b[0m\u001b[0;34m.\u001b[0m\u001b[0m_sparse_predict\u001b[0m \u001b[0;32mif\u001b[0m \u001b[0mself\u001b[0m\u001b[0;34m.\u001b[0m\u001b[0m_sparse\u001b[0m \u001b[0;32melse\u001b[0m \u001b[0mself\u001b[0m\u001b[0;34m.\u001b[0m\u001b[0m_dense_predict\u001b[0m\u001b[0;34m\u001b[0m\u001b[0m\n\u001b[1;32m    327\u001b[0m         \u001b[0;32mreturn\u001b[0m \u001b[0mpredict\u001b[0m\u001b[0;34m(\u001b[0m\u001b[0mX\u001b[0m\u001b[0;34m)\u001b[0m\u001b[0;34m\u001b[0m\u001b[0m\n",
      "\u001b[0;32m/usr/local/lib/python3.6/dist-packages/sklearn/svm/base.py\u001b[0m in \u001b[0;36m_validate_for_predict\u001b[0;34m(self, X)\u001b[0m\n\u001b[1;32m    476\u001b[0m             raise ValueError(\"X.shape[1] = %d should be equal to %d, \"\n\u001b[1;32m    477\u001b[0m                              \u001b[0;34m\"the number of features at training time\"\u001b[0m \u001b[0;34m%\u001b[0m\u001b[0;34m\u001b[0m\u001b[0m\n\u001b[0;32m--> 478\u001b[0;31m                              (n_features, self.shape_fit_[1]))\n\u001b[0m\u001b[1;32m    479\u001b[0m         \u001b[0;32mreturn\u001b[0m \u001b[0mX\u001b[0m\u001b[0;34m\u001b[0m\u001b[0m\n\u001b[1;32m    480\u001b[0m \u001b[0;34m\u001b[0m\u001b[0m\n",
      "\u001b[0;31mValueError\u001b[0m: X.shape[1] = 100 should be equal to 30000, the number of features at training time"
     ]
    }
   ],
   "source": [
    "clf.predict(resized_image)\n"
   ]
  },
  {
   "cell_type": "code",
   "execution_count": 11,
   "metadata": {},
   "outputs": [
    {
     "ename": "IndexError",
     "evalue": "tuple index out of range",
     "output_type": "error",
     "traceback": [
      "\u001b[0;31m---------------------------------------------------------------------------\u001b[0m",
      "\u001b[0;31mIndexError\u001b[0m                                Traceback (most recent call last)",
      "\u001b[0;32m<ipython-input-11-9b3893e3c38f>\u001b[0m in \u001b[0;36m<module>\u001b[0;34m\u001b[0m\n\u001b[1;32m      4\u001b[0m \u001b[0mresized_image\u001b[0m \u001b[0;34m=\u001b[0m \u001b[0mcv\u001b[0m\u001b[0;34m.\u001b[0m\u001b[0mresize\u001b[0m\u001b[0;34m(\u001b[0m\u001b[0mgray\u001b[0m\u001b[0;34m,\u001b[0m \u001b[0;34m(\u001b[0m\u001b[0;36m100\u001b[0m\u001b[0;34m,\u001b[0m \u001b[0;36m100\u001b[0m\u001b[0;34m)\u001b[0m\u001b[0;34m)\u001b[0m\u001b[0;34m\u001b[0m\u001b[0m\n\u001b[1;32m      5\u001b[0m \u001b[0mimage\u001b[0m \u001b[0;34m=\u001b[0m \u001b[0mresized_image\u001b[0m\u001b[0;34m\u001b[0m\u001b[0m\n\u001b[0;32m----> 6\u001b[0;31m \u001b[0mnew_img\u001b[0m \u001b[0;34m=\u001b[0m \u001b[0mimage\u001b[0m\u001b[0;34m.\u001b[0m\u001b[0mreshape\u001b[0m\u001b[0;34m(\u001b[0m\u001b[0;34m(\u001b[0m\u001b[0mimage\u001b[0m\u001b[0;34m.\u001b[0m\u001b[0mshape\u001b[0m\u001b[0;34m[\u001b[0m\u001b[0;36m0\u001b[0m\u001b[0;34m]\u001b[0m\u001b[0;34m*\u001b[0m\u001b[0mimage\u001b[0m\u001b[0;34m.\u001b[0m\u001b[0mshape\u001b[0m\u001b[0;34m[\u001b[0m\u001b[0;36m1\u001b[0m\u001b[0;34m]\u001b[0m\u001b[0;34m)\u001b[0m\u001b[0;34m,\u001b[0m \u001b[0mimage\u001b[0m\u001b[0;34m.\u001b[0m\u001b[0mshape\u001b[0m\u001b[0;34m[\u001b[0m\u001b[0;36m2\u001b[0m\u001b[0;34m]\u001b[0m\u001b[0;34m)\u001b[0m\u001b[0;34m\u001b[0m\u001b[0m\n\u001b[0m\u001b[1;32m      7\u001b[0m \u001b[0mclf\u001b[0m\u001b[0;34m.\u001b[0m\u001b[0mpredict\u001b[0m\u001b[0;34m(\u001b[0m\u001b[0mnew_img\u001b[0m\u001b[0;34m.\u001b[0m\u001b[0mflatten\u001b[0m\u001b[0;34m(\u001b[0m\u001b[0;34m)\u001b[0m\u001b[0;34m.\u001b[0m\u001b[0mreshape\u001b[0m\u001b[0;34m(\u001b[0m\u001b[0;36m1\u001b[0m\u001b[0;34m,\u001b[0m\u001b[0;34m-\u001b[0m\u001b[0;36m1\u001b[0m\u001b[0;34m)\u001b[0m\u001b[0;34m)\u001b[0m\u001b[0;34m\u001b[0m\u001b[0m\n\u001b[1;32m      8\u001b[0m \u001b[0;31m# print (new_img.shape)\u001b[0m\u001b[0;34m\u001b[0m\u001b[0;34m\u001b[0m\u001b[0m\n",
      "\u001b[0;31mIndexError\u001b[0m: tuple index out of range"
     ]
    }
   ],
   "source": [
    "file = \"/home/syedjafer/Documents/Handwriting_recognition_svm/images/page_1.png\"\n",
    "image = cv.imread(file)\n",
    "gray = cv.cvtColor(image, cv.COLOR_BGR2GRAY)\n",
    "resized_image = cv.resize(gray, (100, 100))\n",
    "filename = file\n",
    "cv.imwrite(file, resized_image)\n",
    "image = cv.imread(file)\n",
    "image = np.array(image)\n",
    "new_img = image.reshape((image.shape[0]*image.shape[1]), image.shape[2])\n",
    "clf.predict(new_img.flatten().reshape(1,-1))\n",
    "# print (new_img.shape)"
   ]
  },
  {
   "cell_type": "code",
   "execution_count": 9,
   "metadata": {
    "scrolled": true
   },
   "outputs": [
    {
     "ename": "ValueError",
     "evalue": "X.shape[1] = 90000 should be equal to 30000, the number of features at training time",
     "output_type": "error",
     "traceback": [
      "\u001b[0;31m---------------------------------------------------------------------------\u001b[0m",
      "\u001b[0;31mValueError\u001b[0m                                Traceback (most recent call last)",
      "\u001b[0;32m<ipython-input-9-b0fa05d6bb21>\u001b[0m in \u001b[0;36m<module>\u001b[0;34m\u001b[0m\n\u001b[1;32m      1\u001b[0m \u001b[0mfile\u001b[0m \u001b[0;34m=\u001b[0m \u001b[0;34m\"/home/syedjafer/Documents/Handwriting_recognition_svm/images/page_1.png\"\u001b[0m\u001b[0;34m\u001b[0m\u001b[0m\n\u001b[1;32m      2\u001b[0m \u001b[0mimage\u001b[0m \u001b[0;34m=\u001b[0m \u001b[0mcv\u001b[0m\u001b[0;34m.\u001b[0m\u001b[0mimread\u001b[0m\u001b[0;34m(\u001b[0m\u001b[0mfile\u001b[0m\u001b[0;34m)\u001b[0m\u001b[0;34m\u001b[0m\u001b[0m\n\u001b[0;32m----> 3\u001b[0;31m \u001b[0mclf\u001b[0m\u001b[0;34m.\u001b[0m\u001b[0mpredict\u001b[0m\u001b[0;34m(\u001b[0m\u001b[0mimage\u001b[0m\u001b[0;34m.\u001b[0m\u001b[0mflatten\u001b[0m\u001b[0;34m(\u001b[0m\u001b[0;34m)\u001b[0m\u001b[0;34m.\u001b[0m\u001b[0mreshape\u001b[0m\u001b[0;34m(\u001b[0m\u001b[0;36m1\u001b[0m\u001b[0;34m,\u001b[0m\u001b[0;34m-\u001b[0m\u001b[0;36m1\u001b[0m\u001b[0;34m)\u001b[0m\u001b[0;34m)\u001b[0m\u001b[0;34m\u001b[0m\u001b[0m\n\u001b[0m",
      "\u001b[0;32m/usr/local/lib/python3.6/dist-packages/sklearn/svm/base.py\u001b[0m in \u001b[0;36mpredict\u001b[0;34m(self, X)\u001b[0m\n\u001b[1;32m    565\u001b[0m             \u001b[0mClass\u001b[0m \u001b[0mlabels\u001b[0m \u001b[0;32mfor\u001b[0m \u001b[0msamples\u001b[0m \u001b[0;32min\u001b[0m \u001b[0mX\u001b[0m\u001b[0;34m.\u001b[0m\u001b[0;34m\u001b[0m\u001b[0m\n\u001b[1;32m    566\u001b[0m         \"\"\"\n\u001b[0;32m--> 567\u001b[0;31m         \u001b[0my\u001b[0m \u001b[0;34m=\u001b[0m \u001b[0msuper\u001b[0m\u001b[0;34m(\u001b[0m\u001b[0mBaseSVC\u001b[0m\u001b[0;34m,\u001b[0m \u001b[0mself\u001b[0m\u001b[0;34m)\u001b[0m\u001b[0;34m.\u001b[0m\u001b[0mpredict\u001b[0m\u001b[0;34m(\u001b[0m\u001b[0mX\u001b[0m\u001b[0;34m)\u001b[0m\u001b[0;34m\u001b[0m\u001b[0m\n\u001b[0m\u001b[1;32m    568\u001b[0m         \u001b[0;32mreturn\u001b[0m \u001b[0mself\u001b[0m\u001b[0;34m.\u001b[0m\u001b[0mclasses_\u001b[0m\u001b[0;34m.\u001b[0m\u001b[0mtake\u001b[0m\u001b[0;34m(\u001b[0m\u001b[0mnp\u001b[0m\u001b[0;34m.\u001b[0m\u001b[0masarray\u001b[0m\u001b[0;34m(\u001b[0m\u001b[0my\u001b[0m\u001b[0;34m,\u001b[0m \u001b[0mdtype\u001b[0m\u001b[0;34m=\u001b[0m\u001b[0mnp\u001b[0m\u001b[0;34m.\u001b[0m\u001b[0mintp\u001b[0m\u001b[0;34m)\u001b[0m\u001b[0;34m)\u001b[0m\u001b[0;34m\u001b[0m\u001b[0m\n\u001b[1;32m    569\u001b[0m \u001b[0;34m\u001b[0m\u001b[0m\n",
      "\u001b[0;32m/usr/local/lib/python3.6/dist-packages/sklearn/svm/base.py\u001b[0m in \u001b[0;36mpredict\u001b[0;34m(self, X)\u001b[0m\n\u001b[1;32m    323\u001b[0m         \u001b[0my_pred\u001b[0m \u001b[0;34m:\u001b[0m \u001b[0marray\u001b[0m\u001b[0;34m,\u001b[0m \u001b[0mshape\u001b[0m \u001b[0;34m(\u001b[0m\u001b[0mn_samples\u001b[0m\u001b[0;34m,\u001b[0m\u001b[0;34m)\u001b[0m\u001b[0;34m\u001b[0m\u001b[0m\n\u001b[1;32m    324\u001b[0m         \"\"\"\n\u001b[0;32m--> 325\u001b[0;31m         \u001b[0mX\u001b[0m \u001b[0;34m=\u001b[0m \u001b[0mself\u001b[0m\u001b[0;34m.\u001b[0m\u001b[0m_validate_for_predict\u001b[0m\u001b[0;34m(\u001b[0m\u001b[0mX\u001b[0m\u001b[0;34m)\u001b[0m\u001b[0;34m\u001b[0m\u001b[0m\n\u001b[0m\u001b[1;32m    326\u001b[0m         \u001b[0mpredict\u001b[0m \u001b[0;34m=\u001b[0m \u001b[0mself\u001b[0m\u001b[0;34m.\u001b[0m\u001b[0m_sparse_predict\u001b[0m \u001b[0;32mif\u001b[0m \u001b[0mself\u001b[0m\u001b[0;34m.\u001b[0m\u001b[0m_sparse\u001b[0m \u001b[0;32melse\u001b[0m \u001b[0mself\u001b[0m\u001b[0;34m.\u001b[0m\u001b[0m_dense_predict\u001b[0m\u001b[0;34m\u001b[0m\u001b[0m\n\u001b[1;32m    327\u001b[0m         \u001b[0;32mreturn\u001b[0m \u001b[0mpredict\u001b[0m\u001b[0;34m(\u001b[0m\u001b[0mX\u001b[0m\u001b[0;34m)\u001b[0m\u001b[0;34m\u001b[0m\u001b[0m\n",
      "\u001b[0;32m/usr/local/lib/python3.6/dist-packages/sklearn/svm/base.py\u001b[0m in \u001b[0;36m_validate_for_predict\u001b[0;34m(self, X)\u001b[0m\n\u001b[1;32m    476\u001b[0m             raise ValueError(\"X.shape[1] = %d should be equal to %d, \"\n\u001b[1;32m    477\u001b[0m                              \u001b[0;34m\"the number of features at training time\"\u001b[0m \u001b[0;34m%\u001b[0m\u001b[0;34m\u001b[0m\u001b[0m\n\u001b[0;32m--> 478\u001b[0;31m                              (n_features, self.shape_fit_[1]))\n\u001b[0m\u001b[1;32m    479\u001b[0m         \u001b[0;32mreturn\u001b[0m \u001b[0mX\u001b[0m\u001b[0;34m\u001b[0m\u001b[0m\n\u001b[1;32m    480\u001b[0m \u001b[0;34m\u001b[0m\u001b[0m\n",
      "\u001b[0;31mValueError\u001b[0m: X.shape[1] = 90000 should be equal to 30000, the number of features at training time"
     ]
    }
   ],
   "source": [
    "file = \"/home/syedjafer/Documents/Handwriting_recognition_svm/images/page_1.png\"\n",
    "image = cv.imread(file)\n"
   ]
  },
  {
   "cell_type": "code",
   "execution_count": 53,
   "metadata": {},
   "outputs": [
    {
     "name": "stdout",
     "output_type": "stream",
     "text": [
      "['a', 'a', 'a', 'a', 'a', 'a', 'a', 'a', 'a', 'a', 'a', 'a', 'a', 'a', 'a', 'a', 'a', 'a', 'a', 'a', 'a', 'a', 'b', 'b', 'b', 'b', 'b', 'b', 'b', 'b', 'b', 'b', 'b', 'b', 'b', 'b', 'b', 'b', 'b', 'b', 'b', 'b', 'b', 'b', 'b', 'b', 'c', 'c', 'c', 'c', 'c', 'c', 'c', 'c', 'c', 'c', 'c', 'c', 'c', 'c', 'c', 'c', 'c', 'c', 'c', 'c', 'c', 'c', 'c', 'c', 'c', 'd', 'd', 'd', 'd', 'd', 'd', 'd', 'd', 'd', 'd', 'd', 'd', 'd', 'd', 'd', 'd', 'd', 'd', 'd', 'd', 'e', 'e', 'e', 'e', 'e', 'e', 'e', 'e', 'e', 'e', 'e', 'e', 'e', 'e', 'e', 'e', 'e', 'e', 'e', 'e', 'e', 'e', 'f', 'f', 'f', 'f', 'f', 'f', 'f', 'f', 'f', 'f', 'f', 'f', 'f', 'f', 'f', 'f', 'f', 'f', 'f', 'f', 'f', 'f', 'f', 'f', 'f', 'f', 'f', 'g', 'g', 'g', 'g', 'g', 'g', 'g', 'g', 'g', 'g', 'g', 'g', 'g', 'g', 'g', 'g', 'g', 'g', 'g', 'g', 'g', 'g', 'g', 'g', 'g', 'g', 'h', 'h', 'h', 'h', 'h', 'h', 'h', 'h', 'h', 'h', 'h', 'h', 'h', 'h', 'h', 'h', 'h', 'h', 'h', 'h', 'h', 'h', 'h']\n"
     ]
    }
   ],
   "source": [
    "print (image_y)"
   ]
  },
  {
   "cell_type": "code",
   "execution_count": null,
   "metadata": {},
   "outputs": [],
   "source": []
  },
  {
   "cell_type": "code",
   "execution_count": null,
   "metadata": {},
   "outputs": [],
   "source": []
  }
 ],
 "metadata": {
  "kernelspec": {
   "display_name": "Python 3",
   "language": "python",
   "name": "python3"
  },
  "language_info": {
   "codemirror_mode": {
    "name": "ipython",
    "version": 3
   },
   "file_extension": ".py",
   "mimetype": "text/x-python",
   "name": "python",
   "nbconvert_exporter": "python",
   "pygments_lexer": "ipython3",
   "version": "3.6.6"
  }
 },
 "nbformat": 4,
 "nbformat_minor": 2
}
