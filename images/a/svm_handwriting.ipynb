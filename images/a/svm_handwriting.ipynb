{
 "cells": [
  {
   "cell_type": "code",
   "execution_count": 1,
   "metadata": {},
   "outputs": [
    {
     "ename": "NameError",
     "evalue": "name 'files' is not defined",
     "output_type": "error",
     "traceback": [
      "\u001b[0;31m---------------------------------------------------------------------------\u001b[0m",
      "\u001b[0;31mNameError\u001b[0m                                 Traceback (most recent call last)",
      "\u001b[0;32m<ipython-input-1-c91b0458475e>\u001b[0m in \u001b[0;36m<module>\u001b[0;34m\u001b[0m\n\u001b[1;32m      2\u001b[0m \u001b[0mx_arr\u001b[0m \u001b[0;34m=\u001b[0m \u001b[0;34m[\u001b[0m\u001b[0;34m]\u001b[0m\u001b[0;34m\u001b[0m\u001b[0m\n\u001b[1;32m      3\u001b[0m \u001b[0my_arr\u001b[0m \u001b[0;34m=\u001b[0m \u001b[0;34m[\u001b[0m\u001b[0;34m]\u001b[0m\u001b[0;34m\u001b[0m\u001b[0m\n\u001b[0;32m----> 4\u001b[0;31m \u001b[0;32mfor\u001b[0m \u001b[0mfile\u001b[0m \u001b[0;32min\u001b[0m \u001b[0mfiles\u001b[0m\u001b[0;34m:\u001b[0m\u001b[0;34m\u001b[0m\u001b[0m\n\u001b[0m\u001b[1;32m      5\u001b[0m     \u001b[0mimage\u001b[0m \u001b[0;34m=\u001b[0m \u001b[0mcv2\u001b[0m\u001b[0;34m.\u001b[0m\u001b[0mimread\u001b[0m\u001b[0;34m(\u001b[0m\u001b[0mfile\u001b[0m\u001b[0;34m)\u001b[0m\u001b[0;34m\u001b[0m\u001b[0m\n\u001b[1;32m      6\u001b[0m     \u001b[0mx_arr\u001b[0m\u001b[0;34m.\u001b[0m\u001b[0mappend\u001b[0m\u001b[0;34m(\u001b[0m\u001b[0mimage\u001b[0m\u001b[0;34m)\u001b[0m\u001b[0;34m\u001b[0m\u001b[0m\n",
      "\u001b[0;31mNameError\u001b[0m: name 'files' is not defined"
     ]
    }
   ],
   "source": []
  },
  {
   "cell_type": "code",
   "execution_count": 3,
   "metadata": {},
   "outputs": [],
   "source": [
    "\n",
    "\n"
   ]
  },
  {
   "cell_type": "code",
   "execution_count": null,
   "metadata": {},
   "outputs": [],
   "source": []
  },
  {
   "cell_type": "code",
   "execution_count": 17,
   "metadata": {},
   "outputs": [
    {
     "name": "stdout",
     "output_type": "stream",
     "text": [
      "['a_11.png', 'a_12.png', 'a_01.png', 'a_21.png', 'a_02.png', 'a_08.png', 'a_14.png', 'a_00.png', 'a_18.png', 'a_19.png', 'a_13.png', 'a_03.png', 'a_06.png', 'a_04.png', 'a_07.png', 'a_15.png', 'a_16.png', 'a_09.png', 'a_10.png', 'a_20.png', 'a_05.png', 'a_17.png']\n",
      "(22, 128, 128, 3)\n",
      "(22,)\n"
     ]
    }
   ],
   "source": [
    "from sklearn import svm\n",
    "import cv2 , glob , numpy as np\n",
    "files = glob.glob(\"*.png\")\n",
    "print (files)\n",
    "# X_arr , Y_arr \n",
    "x_arr = []\n",
    "y_arr = []\n",
    "WIDTH = 128 \n",
    "HEIGHT = 128\n",
    "for file in files:\n",
    "    image = cv2.imread(file)\n",
    "    x_arr.append(cv2.resize(image, (WIDTH,HEIGHT), interpolation=cv2.INTER_CUBIC))\n",
    "    y_arr.append(\"a\")\n",
    "clf = svm.SVC(gamma=0.001, C=100)\n",
    "\n",
    "np.savez(\"x_images_arrays\", x_arr)\n",
    "np.savez(\"y_infiltration_labels\", y_arr)\n",
    "\n",
    "#to numpy array\n",
    "x_arr = np.array(x_arr, dtype=np.uint8)\n",
    "y_arr = np.array(y_arr, dtype=np.unicode_)\n",
    "# clf.fit(x_arr,y_arr)\n",
    "print (x_arr.shape)\n",
    "print (y_arr.shape)\n"
   ]
  },
  {
   "cell_type": "code",
   "execution_count": 18,
   "metadata": {},
   "outputs": [
    {
     "name": "stdout",
     "output_type": "stream",
     "text": [
      "\u001b[H\u001b[2J"
     ]
    }
   ],
   "source": [
    "clear\n"
   ]
  },
  {
   "cell_type": "code",
   "execution_count": 22,
   "metadata": {},
   "outputs": [
    {
     "name": "stdout",
     "output_type": "stream",
     "text": [
      "['a_11.png', 'a_12.png', 'a_01.png', 'a_21.png', 'a_02.png', 'a_08.png', 'a_14.png', 'a_00.png', 'a_18.png', 'a_19.png', 'a_13.png', 'a_03.png', 'a_06.png', 'a_04.png', 'a_07.png', 'a_15.png', 'a_16.png', 'a_09.png', 'a_10.png', 'a_20.png', 'a_05.png', 'a_17.png']\n"
     ]
    },
    {
     "ename": "ValueError",
     "evalue": "could not broadcast input array from shape (128,123,3) into shape (3,128,128)",
     "output_type": "error",
     "traceback": [
      "\u001b[0;31m---------------------------------------------------------------------------\u001b[0m",
      "\u001b[0;31mValueError\u001b[0m                                Traceback (most recent call last)",
      "\u001b[0;32m<ipython-input-22-ce26d447e10c>\u001b[0m in \u001b[0;36m<module>\u001b[0;34m\u001b[0m\n\u001b[1;32m     23\u001b[0m \u001b[0;31m#     x = x.reshape((3,120,160))\u001b[0m\u001b[0;34m\u001b[0m\u001b[0;34m\u001b[0m\u001b[0m\n\u001b[1;32m     24\u001b[0m \u001b[0;31m#     x = (x - 128.0) / 128.0\u001b[0m\u001b[0;34m\u001b[0m\u001b[0;34m\u001b[0m\u001b[0m\n\u001b[0;32m---> 25\u001b[0;31m     \u001b[0mdataset\u001b[0m\u001b[0;34m[\u001b[0m\u001b[0mi\u001b[0m\u001b[0;34m]\u001b[0m \u001b[0;34m=\u001b[0m \u001b[0mx\u001b[0m\u001b[0;34m\u001b[0m\u001b[0m\n\u001b[0m\u001b[1;32m     26\u001b[0m     \u001b[0mi\u001b[0m \u001b[0;34m+=\u001b[0m \u001b[0;36m1\u001b[0m\u001b[0;34m\u001b[0m\u001b[0m\n\u001b[1;32m     27\u001b[0m     \u001b[0my_arr\u001b[0m\u001b[0;34m.\u001b[0m\u001b[0mappend\u001b[0m\u001b[0;34m(\u001b[0m\u001b[0;34m\"a\"\u001b[0m\u001b[0;34m)\u001b[0m\u001b[0;34m\u001b[0m\u001b[0m\n",
      "\u001b[0;31mValueError\u001b[0m: could not broadcast input array from shape (128,123,3) into shape (3,128,128)"
     ]
    }
   ],
   "source": [
    "from sklearn import svm\n",
    "from PIL import Image\n",
    "import cv2 , glob , numpy as np\n",
    "from scipy import ndimage\n",
    "from keras.preprocessing.image import ImageDataGenerator, array_to_img, img_to_array, load_img\n",
    "\n",
    "files = glob.glob(\"*.png\")\n",
    "print (files)\n",
    "# X_arr , Y_arr \n",
    "x_arr = []\n",
    "y_arr = []\n",
    "WIDTH = 128 \n",
    "HEIGHT = 128\n",
    "channels = 3 \n",
    "\n",
    "dataset = np.ndarray(shape=(22, channels, HEIGHT , WIDTH),\n",
    "                     dtype=np.float32)\n",
    "i = 0\n",
    "for file in files:\n",
    "    image = load_img(file)\n",
    "    image.thumbnail((WIDTH, HEIGHT))\n",
    "    x = img_to_array(image)\n",
    "#     x = x.reshape((3,120,160))\n",
    "#     x = (x - 128.0) / 128.0\n",
    "    dataset[i] = x\n",
    "    i += 1\n",
    "    y_arr.append(\"a\")\n",
    "    i += 1\n",
    "    print(\"%d images to array\" % i)\n",
    "\n",
    "\n",
    "\n"
   ]
  },
  {
   "cell_type": "code",
   "execution_count": null,
   "metadata": {},
   "outputs": [],
   "source": []
  }
 ],
 "metadata": {
  "kernelspec": {
   "display_name": "Python 3",
   "language": "python",
   "name": "python3"
  },
  "language_info": {
   "codemirror_mode": {
    "name": "ipython",
    "version": 3
   },
   "file_extension": ".py",
   "mimetype": "text/x-python",
   "name": "python",
   "nbconvert_exporter": "python",
   "pygments_lexer": "ipython3",
   "version": "3.6.6"
  }
 },
 "nbformat": 4,
 "nbformat_minor": 2
}
