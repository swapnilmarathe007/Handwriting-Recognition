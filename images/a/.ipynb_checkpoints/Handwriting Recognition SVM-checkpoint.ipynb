{
 "cells": [
  {
   "cell_type": "code",
   "execution_count": 1,
   "metadata": {},
   "outputs": [],
   "source": [
    "#Import all the necessary packages \n",
    "import cv2\n",
    "import numpy as np \n",
    "import glob \n",
    "from sklearn import svm \n",
    "from sklearn.externals import joblib\n",
    "from sklearn import model_selection"
   ]
  },
  {
   "cell_type": "code",
   "execution_count": 11,
   "metadata": {},
   "outputs": [],
   "source": [
    "#all constant values\n",
    "folder_depth = 8 \n",
    "image_x = []\n",
    "image_y = []\n",
    "files = []\n",
    "image_location = \"/home/syedjafer/Documents/Handwriting_recognition_svm/test1/images/\"\n"
   ]
  },
  {
   "cell_type": "code",
   "execution_count": 2,
   "metadata": {},
   "outputs": [
    {
     "name": "stdout",
     "output_type": "stream",
     "text": [
      "[[255 255 255 ... 255 255 255]\n",
      " [255 255 255 ... 255 255 255]\n",
      " [255 255 255 ... 255 255 255]\n",
      " ...\n",
      " [255 255 255 ... 255 255 255]\n",
      " [255 255 255 ... 255 255 255]\n",
      " [255 255 255 ... 255 255 255]]\n"
     ]
    }
   ],
   "source": [
    "#Read a single from image and to add in numpy array\n",
    "image_location = \"/home/syedjafer/Documents/Handwriting_recognition_svm/test1/images/a/a_01.png\"\n",
    "i_mg = cv2.imread(image_location,0)\n",
    "print(i_mg)\n"
   ]
  },
  {
   "cell_type": "code",
   "execution_count": 7,
   "metadata": {},
   "outputs": [
    {
     "name": "stdout",
     "output_type": "stream",
     "text": [
      "[[255 255 255 ... 255 255 255]\n",
      " [255 255 255 ... 255 255 255]\n",
      " [255 255 255 ... 255 255 255]\n",
      " ...\n",
      " [255 255 255 ... 255 255 255]\n",
      " [255 255 255 ... 255 255 255]\n",
      " [255 255 255 ... 255 255 255]]\n"
     ]
    }
   ],
   "source": [
    "x_image = i_mg\n",
    "print(x_image)"
   ]
  },
  {
   "cell_type": "code",
   "execution_count": null,
   "metadata": {},
   "outputs": [],
   "source": []
  },
  {
   "cell_type": "code",
   "execution_count": 12,
   "metadata": {},
   "outputs": [
    {
     "name": "stdout",
     "output_type": "stream",
     "text": [
      "/home/syedjafer/Documents/Handwriting_recognition_svm/test1/images/a/a_01.pnga/\n",
      "[]\n",
      "/home/syedjafer/Documents/Handwriting_recognition_svm/test1/images/a/a_01.pngb/\n",
      "[]\n",
      "/home/syedjafer/Documents/Handwriting_recognition_svm/test1/images/a/a_01.pngc/\n",
      "[]\n",
      "/home/syedjafer/Documents/Handwriting_recognition_svm/test1/images/a/a_01.pngd/\n",
      "[]\n",
      "/home/syedjafer/Documents/Handwriting_recognition_svm/test1/images/a/a_01.pnge/\n",
      "[]\n",
      "/home/syedjafer/Documents/Handwriting_recognition_svm/test1/images/a/a_01.pngf/\n",
      "[]\n",
      "/home/syedjafer/Documents/Handwriting_recognition_svm/test1/images/a/a_01.pngg/\n",
      "[]\n",
      "/home/syedjafer/Documents/Handwriting_recognition_svm/test1/images/a/a_01.pngh/\n",
      "[]\n"
     ]
    }
   ],
   "source": [
    "#To get all the images in the images folder \n",
    "for level in range(folder_depth):\n",
    "    folder = chr(ord(\"a\")+level)\n",
    "    print (image_location+folder+\"/\")\n",
    "    label_len = len(glob.glob(image_location+folder+\"/\"+\"*.png\"))\n",
    "    files = files + glob.glob(image_location+folder+\"/\"+\"*.png\")\n",
    "    print(files)\n",
    "    image_y = image_y + [folder] * (label_len)\n",
    "\n"
   ]
  },
  {
   "cell_type": "code",
   "execution_count": null,
   "metadata": {},
   "outputs": [],
   "source": []
  }
 ],
 "metadata": {
  "kernelspec": {
   "display_name": "Python 3",
   "language": "python",
   "name": "python3"
  },
  "language_info": {
   "codemirror_mode": {
    "name": "ipython",
    "version": 3
   },
   "file_extension": ".py",
   "mimetype": "text/x-python",
   "name": "python",
   "nbconvert_exporter": "python",
   "pygments_lexer": "ipython3",
   "version": "3.6.6"
  }
 },
 "nbformat": 4,
 "nbformat_minor": 2
}
